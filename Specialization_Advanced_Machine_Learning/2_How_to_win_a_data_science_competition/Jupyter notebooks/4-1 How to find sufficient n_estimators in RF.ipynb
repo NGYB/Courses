{
 "cells": [
  {
   "cell_type": "markdown",
   "metadata": {},
   "source": [
    "This notebook shows, how to compute RandomForest's accuracy scores for each value of `n_estimators` without retraining the model. No rocket science involved, but still useful."
   ]
  },
  {
   "cell_type": "markdown",
   "metadata": {},
   "source": [
    "# Load some data"
   ]
  },
  {
   "cell_type": "code",
   "execution_count": 21,
   "metadata": {},
   "outputs": [
    {
     "name": "stdout",
     "output_type": "stream",
     "text": [
      "(1347, 64)\n",
      "(1347,)\n",
      "(450, 64)\n",
      "(450,)\n"
     ]
    },
    {
     "data": {
      "text/plain": [
       "array([4, 6, 5, 0, 7, 0, 4, 3, 9, 1, 7, 8, 9, 9, 5, 5, 4, 9, 5, 3, 1, 4, 0,\n",
       "       8, 6, 8, 9, 7, 0, 6, 9, 2, 2, 4, 6, 7, 2, 4, 6, 0, 1, 7, 1, 6, 2, 8,\n",
       "       6, 3, 6, 1, 7, 1, 4, 8, 4, 6, 2, 1, 2, 5, 4, 8, 8, 9, 6, 2, 1, 3, 2,\n",
       "       8, 6, 1, 8, 3, 1, 1, 9, 0, 4, 6, 6, 0, 9, 3, 1, 6, 3, 2, 9, 7, 3, 6,\n",
       "       9, 1, 1, 8, 7, 3, 0, 7, 8, 2, 9, 0, 1, 4, 8, 7, 3, 4, 8, 8, 9, 2, 1,\n",
       "       1, 7, 3, 5, 3, 0, 2, 6, 3, 2, 6, 7, 9, 5, 2, 1, 4, 4, 1, 6, 0, 9, 6,\n",
       "       9, 8, 7, 2, 6, 8, 8, 5, 7, 9, 1, 4, 8, 7, 9, 1, 4, 3, 8, 9, 6, 1, 8,\n",
       "       0, 0, 7, 5, 7, 6, 8, 1, 9, 9, 9, 3, 0, 9, 4, 5, 8, 2, 3, 3, 3, 4, 4,\n",
       "       4, 4, 1, 5, 8, 7, 2, 0, 1, 7, 6, 5, 3, 9, 9, 5, 8, 5, 7, 7, 3, 1, 6,\n",
       "       5, 8, 6, 2, 5, 3, 6, 4, 0, 5, 9, 2, 6, 7, 7, 9, 3, 4, 7, 9, 6, 4, 7,\n",
       "       6, 5, 6, 0, 8, 2, 8, 3, 6, 1, 2, 0, 0, 8, 3, 2, 7, 1, 8, 5, 7, 7, 6,\n",
       "       6, 4, 3, 5, 4, 2, 2, 8, 9, 2, 3, 7, 8, 5, 0, 7, 5, 7, 0, 7, 2, 0, 8,\n",
       "       5, 7, 6, 0, 2, 6, 6, 5, 1, 6, 2, 7, 2, 7, 9, 5, 8, 3, 8, 2, 3, 3, 7,\n",
       "       3, 5, 7, 1, 7, 5, 2, 5, 3, 2, 5, 4, 3, 4, 4, 7, 3, 1, 7, 4, 0, 0, 0,\n",
       "       7, 9, 8, 0, 8, 1, 8, 7, 0, 8, 7, 7, 9, 0, 8, 0, 5, 0, 3, 4, 8, 1, 1,\n",
       "       4, 2, 9, 9, 6, 1, 9, 9, 6, 5, 9, 5, 3, 9, 7, 3, 3, 1, 1, 7, 1, 3, 3,\n",
       "       2, 3, 8, 5, 5, 9, 8, 0, 7, 7, 9, 6, 2, 7, 3, 6, 4, 7, 0, 8, 7, 5, 4,\n",
       "       6, 1, 7, 1, 5, 8, 3, 0, 4, 2, 4, 3, 7, 4, 4, 3, 2, 5, 8, 6, 0, 6, 8,\n",
       "       7, 6, 7, 3, 5, 6, 2, 6, 7, 0, 7, 8, 3, 5, 3, 4, 3, 6, 6, 0, 2, 4, 4,\n",
       "       4, 2, 6, 3, 7, 7, 4, 2, 5, 6, 5, 5, 6])"
      ]
     },
     "execution_count": 21,
     "metadata": {},
     "output_type": "execute_result"
    }
   ],
   "source": [
    "import sklearn.datasets\n",
    "from sklearn.model_selection import train_test_split\n",
    "\n",
    "X, y = sklearn.datasets.load_digits(10,True)\n",
    "X_train, X_val, y_train, y_val = train_test_split(X, y)\n",
    "print(X_train.shape)\n",
    "print(y_train.shape)\n",
    "print(X_val.shape)\n",
    "print(y_val.shape)\n",
    "y_val"
   ]
  },
  {
   "cell_type": "code",
   "execution_count": 22,
   "metadata": {},
   "outputs": [],
   "source": [
    "import numpy as np\n",
    "import matplotlib.pyplot as plt\n",
    "%matplotlib inline\n",
    "from sklearn.ensemble import RandomForestClassifier\n",
    "from sklearn.metrics import accuracy_score"
   ]
  },
  {
   "cell_type": "markdown",
   "metadata": {},
   "source": [
    "**Step 1:** first fit a Random Forest to the data. Set `n_estimators` to a high value."
   ]
  },
  {
   "cell_type": "code",
   "execution_count": 23,
   "metadata": {},
   "outputs": [
    {
     "data": {
      "text/plain": [
       "RandomForestClassifier(bootstrap=True, class_weight=None, criterion='gini',\n",
       "            max_depth=4, max_features='auto', max_leaf_nodes=None,\n",
       "            min_impurity_decrease=0.0, min_impurity_split=None,\n",
       "            min_samples_leaf=1, min_samples_split=2,\n",
       "            min_weight_fraction_leaf=0.0, n_estimators=500, n_jobs=-1,\n",
       "            oob_score=False, random_state=None, verbose=0,\n",
       "            warm_start=False)"
      ]
     },
     "execution_count": 23,
     "metadata": {},
     "output_type": "execute_result"
    }
   ],
   "source": [
    "rf = RandomForestClassifier(n_estimators=500, max_depth=4, n_jobs=-1)\n",
    "rf.fit(X_train, y_train)"
   ]
  },
  {
   "cell_type": "markdown",
   "metadata": {},
   "source": [
    "**Step 2:** Get predictions for each tree in Random Forest separately."
   ]
  },
  {
   "cell_type": "code",
   "execution_count": 24,
   "metadata": {},
   "outputs": [
    {
     "name": "stdout",
     "output_type": "stream",
     "text": [
      "500\n",
      "(1, 450, 10)\n"
     ]
    },
    {
     "data": {
      "text/plain": [
       "[array([[[ 0.01526718,  0.02290076,  0.53435115, ...,  0.21374046,\n",
       "           0.05343511,  0.00763359],\n",
       "         [ 0.        ,  0.        ,  0.03597122, ...,  0.        ,\n",
       "           0.        ,  0.02158273],\n",
       "         [ 0.        ,  0.07874016,  0.03149606, ...,  0.        ,\n",
       "           0.00787402,  0.11811024],\n",
       "         ..., \n",
       "         [ 0.        ,  0.48630137,  0.01369863, ...,  0.00684932,\n",
       "           0.37671233,  0.02739726],\n",
       "         [ 0.        ,  0.        ,  0.        , ...,  0.        ,\n",
       "           0.        ,  0.        ],\n",
       "         [ 0.        ,  0.        ,  0.03597122, ...,  0.        ,\n",
       "           0.        ,  0.02158273]]]),\n",
       " array([[[ 0.94444444,  0.        ,  0.        , ...,  0.01388889,\n",
       "           0.        ,  0.        ],\n",
       "         [ 0.        ,  0.25      ,  0.05      , ...,  0.        ,\n",
       "           0.1       ,  0.        ],\n",
       "         [ 0.        ,  0.01204819,  0.14457831, ...,  0.02811245,\n",
       "           0.18473896,  0.04819277],\n",
       "         ..., \n",
       "         [ 0.        ,  0.01204819,  0.14457831, ...,  0.02811245,\n",
       "           0.18473896,  0.04819277],\n",
       "         [ 0.        ,  0.01204819,  0.14457831, ...,  0.02811245,\n",
       "           0.18473896,  0.04819277],\n",
       "         [ 0.03797468,  0.03797468,  0.        , ...,  0.        ,\n",
       "           0.        ,  0.        ]]]),\n",
       " array([[[ 0.        ,  0.        ,  0.        , ...,  0.89473684,\n",
       "           0.        ,  0.        ],\n",
       "         [ 0.03125   ,  0.        ,  0.        , ...,  0.        ,\n",
       "           0.02083333,  0.        ],\n",
       "         [ 0.        ,  0.05714286,  0.        , ...,  0.        ,\n",
       "           0.02142857,  0.525     ],\n",
       "         ..., \n",
       "         [ 0.        ,  0.05714286,  0.        , ...,  0.        ,\n",
       "           0.02142857,  0.525     ],\n",
       "         [ 0.        ,  0.05714286,  0.        , ...,  0.        ,\n",
       "           0.02142857,  0.525     ],\n",
       "         [ 0.        ,  0.25      ,  0.125     , ...,  0.        ,\n",
       "           0.375     ,  0.        ]]]),\n",
       " array([[[ 0.12      ,  0.        ,  0.        , ...,  0.16      ,\n",
       "           0.        ,  0.        ],\n",
       "         [ 0.01801802,  0.48648649,  0.0990991 , ...,  0.        ,\n",
       "           0.08108108,  0.        ],\n",
       "         [ 0.01552106,  0.07760532,  0.01330377, ...,  0.07982262,\n",
       "           0.17960089,  0.36363636],\n",
       "         ..., \n",
       "         [ 0.01552106,  0.07760532,  0.01330377, ...,  0.07982262,\n",
       "           0.17960089,  0.36363636],\n",
       "         [ 0.        ,  0.15384615,  0.05128205, ...,  0.00854701,\n",
       "           0.        ,  0.01709402],\n",
       "         [ 0.        ,  0.01333333,  0.        , ...,  0.        ,\n",
       "           0.        ,  0.        ]]]),\n",
       " array([[[ 0.        ,  0.27272727,  0.        , ...,  0.18181818,\n",
       "           0.04545455,  0.        ],\n",
       "         [ 0.08247423,  0.08247423,  0.57731959, ...,  0.03092784,\n",
       "           0.04123711,  0.05154639],\n",
       "         [ 0.01619433,  0.03643725,  0.        , ...,  0.        ,\n",
       "           0.03643725,  0.44129555],\n",
       "         ..., \n",
       "         [ 0.02380952,  0.21428571,  0.04464286, ...,  0.1547619 ,\n",
       "           0.2797619 ,  0.05059524],\n",
       "         [ 0.01619433,  0.03643725,  0.        , ...,  0.        ,\n",
       "           0.03643725,  0.44129555],\n",
       "         [ 0.        ,  0.03076923,  0.        , ...,  0.        ,\n",
       "           0.        ,  0.        ]]])]"
      ]
     },
     "execution_count": 24,
     "metadata": {},
     "output_type": "execute_result"
    }
   ],
   "source": [
    "predictions = []\n",
    "for tree in rf.estimators_:\n",
    "    predictions.append(tree.predict_proba(X_val)[None, :])\n",
    "print(len(predictions))\n",
    "print(predictions[1].shape)\n",
    "predictions[:5]"
   ]
  },
  {
   "cell_type": "markdown",
   "metadata": {},
   "source": [
    "**Step 3:** Concatenate the predictions to a tensor of size `(number of trees, number of objects, number of classes)`."
   ]
  },
  {
   "cell_type": "code",
   "execution_count": 25,
   "metadata": {},
   "outputs": [
    {
     "name": "stdout",
     "output_type": "stream",
     "text": [
      "(500, 450, 10)\n"
     ]
    },
    {
     "data": {
      "text/plain": [
       "array([[[ 0.01526718,  0.02290076,  0.53435115, ...,  0.21374046,\n",
       "          0.05343511,  0.00763359],\n",
       "        [ 0.        ,  0.        ,  0.03597122, ...,  0.        ,\n",
       "          0.        ,  0.02158273],\n",
       "        [ 0.        ,  0.07874016,  0.03149606, ...,  0.        ,\n",
       "          0.00787402,  0.11811024],\n",
       "        ..., \n",
       "        [ 0.        ,  0.48630137,  0.01369863, ...,  0.00684932,\n",
       "          0.37671233,  0.02739726],\n",
       "        [ 0.        ,  0.        ,  0.        , ...,  0.        ,\n",
       "          0.        ,  0.        ],\n",
       "        [ 0.        ,  0.        ,  0.03597122, ...,  0.        ,\n",
       "          0.        ,  0.02158273]],\n",
       "\n",
       "       [[ 0.94444444,  0.        ,  0.        , ...,  0.01388889,\n",
       "          0.        ,  0.        ],\n",
       "        [ 0.        ,  0.25      ,  0.05      , ...,  0.        ,\n",
       "          0.1       ,  0.        ],\n",
       "        [ 0.        ,  0.01204819,  0.14457831, ...,  0.02811245,\n",
       "          0.18473896,  0.04819277],\n",
       "        ..., \n",
       "        [ 0.        ,  0.01204819,  0.14457831, ...,  0.02811245,\n",
       "          0.18473896,  0.04819277],\n",
       "        [ 0.        ,  0.01204819,  0.14457831, ...,  0.02811245,\n",
       "          0.18473896,  0.04819277],\n",
       "        [ 0.03797468,  0.03797468,  0.        , ...,  0.        ,\n",
       "          0.        ,  0.        ]],\n",
       "\n",
       "       [[ 0.        ,  0.        ,  0.        , ...,  0.89473684,\n",
       "          0.        ,  0.        ],\n",
       "        [ 0.03125   ,  0.        ,  0.        , ...,  0.        ,\n",
       "          0.02083333,  0.        ],\n",
       "        [ 0.        ,  0.05714286,  0.        , ...,  0.        ,\n",
       "          0.02142857,  0.525     ],\n",
       "        ..., \n",
       "        [ 0.        ,  0.05714286,  0.        , ...,  0.        ,\n",
       "          0.02142857,  0.525     ],\n",
       "        [ 0.        ,  0.05714286,  0.        , ...,  0.        ,\n",
       "          0.02142857,  0.525     ],\n",
       "        [ 0.        ,  0.25      ,  0.125     , ...,  0.        ,\n",
       "          0.375     ,  0.        ]],\n",
       "\n",
       "       [[ 0.12      ,  0.        ,  0.        , ...,  0.16      ,\n",
       "          0.        ,  0.        ],\n",
       "        [ 0.01801802,  0.48648649,  0.0990991 , ...,  0.        ,\n",
       "          0.08108108,  0.        ],\n",
       "        [ 0.01552106,  0.07760532,  0.01330377, ...,  0.07982262,\n",
       "          0.17960089,  0.36363636],\n",
       "        ..., \n",
       "        [ 0.01552106,  0.07760532,  0.01330377, ...,  0.07982262,\n",
       "          0.17960089,  0.36363636],\n",
       "        [ 0.        ,  0.15384615,  0.05128205, ...,  0.00854701,\n",
       "          0.        ,  0.01709402],\n",
       "        [ 0.        ,  0.01333333,  0.        , ...,  0.        ,\n",
       "          0.        ,  0.        ]],\n",
       "\n",
       "       [[ 0.        ,  0.27272727,  0.        , ...,  0.18181818,\n",
       "          0.04545455,  0.        ],\n",
       "        [ 0.08247423,  0.08247423,  0.57731959, ...,  0.03092784,\n",
       "          0.04123711,  0.05154639],\n",
       "        [ 0.01619433,  0.03643725,  0.        , ...,  0.        ,\n",
       "          0.03643725,  0.44129555],\n",
       "        ..., \n",
       "        [ 0.02380952,  0.21428571,  0.04464286, ...,  0.1547619 ,\n",
       "          0.2797619 ,  0.05059524],\n",
       "        [ 0.01619433,  0.03643725,  0.        , ...,  0.        ,\n",
       "          0.03643725,  0.44129555],\n",
       "        [ 0.        ,  0.03076923,  0.        , ...,  0.        ,\n",
       "          0.        ,  0.        ]]])"
      ]
     },
     "execution_count": 25,
     "metadata": {},
     "output_type": "execute_result"
    }
   ],
   "source": [
    "predictions = np.vstack(predictions)\n",
    "print(predictions.shape)\n",
    "predictions[:5]"
   ]
  },
  {
   "cell_type": "markdown",
   "metadata": {},
   "source": [
    "**Step 4:** Сompute cumulative average of the predictions. That will be a tensor, that will contain predictions of the random forests for each `n_estimators`."
   ]
  },
  {
   "cell_type": "code",
   "execution_count": 26,
   "metadata": {},
   "outputs": [
    {
     "name": "stdout",
     "output_type": "stream",
     "text": [
      "500\n"
     ]
    },
    {
     "data": {
      "text/plain": [
       "array([[[ 0.01526718,  0.02290076,  0.53435115, ...,  0.21374046,\n",
       "          0.05343511,  0.00763359],\n",
       "        [ 0.        ,  0.        ,  0.03597122, ...,  0.        ,\n",
       "          0.        ,  0.02158273],\n",
       "        [ 0.        ,  0.07874016,  0.03149606, ...,  0.        ,\n",
       "          0.00787402,  0.11811024],\n",
       "        ..., \n",
       "        [ 0.        ,  0.48630137,  0.01369863, ...,  0.00684932,\n",
       "          0.37671233,  0.02739726],\n",
       "        [ 0.        ,  0.        ,  0.        , ...,  0.        ,\n",
       "          0.        ,  0.        ],\n",
       "        [ 0.        ,  0.        ,  0.03597122, ...,  0.        ,\n",
       "          0.        ,  0.02158273]],\n",
       "\n",
       "       [[ 0.47985581,  0.01145038,  0.26717557, ...,  0.11381467,\n",
       "          0.02671756,  0.00381679],\n",
       "        [ 0.        ,  0.125     ,  0.04298561, ...,  0.        ,\n",
       "          0.05      ,  0.01079137],\n",
       "        [ 0.        ,  0.04539418,  0.08803719, ...,  0.01405622,\n",
       "          0.09630649,  0.0831515 ],\n",
       "        ..., \n",
       "        [ 0.        ,  0.24917478,  0.07913847, ...,  0.01748088,\n",
       "          0.28072564,  0.03779502],\n",
       "        [ 0.        ,  0.0060241 ,  0.07228916, ...,  0.01405622,\n",
       "          0.09236948,  0.02409639],\n",
       "        [ 0.01898734,  0.01898734,  0.01798561, ...,  0.        ,\n",
       "          0.        ,  0.01079137]],\n",
       "\n",
       "       [[ 0.31990387,  0.00763359,  0.17811705, ...,  0.37412206,\n",
       "          0.0178117 ,  0.00254453],\n",
       "        [ 0.01041667,  0.08333333,  0.02865707, ...,  0.        ,\n",
       "          0.04027778,  0.00719424],\n",
       "        [ 0.        ,  0.0493104 ,  0.05869146, ...,  0.00937082,\n",
       "          0.07134718,  0.23043434],\n",
       "        ..., \n",
       "        [ 0.        ,  0.18516414,  0.05275898, ...,  0.01165392,\n",
       "          0.19429329,  0.20019668],\n",
       "        [ 0.        ,  0.02306368,  0.04819277, ...,  0.00937082,\n",
       "          0.06872251,  0.19106426],\n",
       "        [ 0.01265823,  0.09599156,  0.05365707, ...,  0.        ,\n",
       "          0.125     ,  0.00719424]],\n",
       "\n",
       "       [[ 0.26992791,  0.00572519,  0.13358779, ...,  0.32059155,\n",
       "          0.01335878,  0.0019084 ],\n",
       "        [ 0.012317  ,  0.18412162,  0.04626758, ...,  0.        ,\n",
       "          0.0504786 ,  0.00539568],\n",
       "        [ 0.00388027,  0.05638413,  0.04734454, ...,  0.02698377,\n",
       "          0.09841061,  0.26373484],\n",
       "        ..., \n",
       "        [ 0.00388027,  0.15827444,  0.04289518, ...,  0.0286961 ,\n",
       "          0.19062019,  0.2410566 ],\n",
       "        [ 0.        ,  0.0557593 ,  0.04896509, ...,  0.00916486,\n",
       "          0.05154188,  0.1475717 ],\n",
       "        [ 0.00949367,  0.075327  ,  0.04024281, ...,  0.        ,\n",
       "          0.09375   ,  0.00539568]],\n",
       "\n",
       "       [[ 0.21594232,  0.05912561,  0.10687023, ...,  0.29283687,\n",
       "          0.01977793,  0.00152672],\n",
       "        [ 0.02634845,  0.16379214,  0.15247798, ...,  0.00618557,\n",
       "          0.04863031,  0.01462583],\n",
       "        [ 0.00634308,  0.05239476,  0.03787563, ...,  0.02158701,\n",
       "          0.08601594,  0.29924698],\n",
       "        ..., \n",
       "        [ 0.00786612,  0.16947669,  0.04324471, ...,  0.05390926,\n",
       "          0.20844853,  0.20296433],\n",
       "        [ 0.00323887,  0.05189489,  0.03917207, ...,  0.00733189,\n",
       "          0.04852095,  0.20631647],\n",
       "        [ 0.00759494,  0.06641545,  0.03219424, ...,  0.        ,\n",
       "          0.075     ,  0.00431655]]])"
      ]
     },
     "execution_count": 26,
     "metadata": {},
     "output_type": "execute_result"
    }
   ],
   "source": [
    "cum_mean = np.cumsum(predictions, axis=0)/np.arange(1, predictions.shape[0] + 1)[:, None, None]\n",
    "print(len(cum_mean))\n",
    "cum_mean[:5]"
   ]
  },
  {
   "cell_type": "markdown",
   "metadata": {},
   "source": [
    "**Step 5:** Get accuracy scores for each `n_estimators` value"
   ]
  },
  {
   "cell_type": "code",
   "execution_count": 29,
   "metadata": {},
   "outputs": [
    {
     "name": "stdout",
     "output_type": "stream",
     "text": [
      "500\n"
     ]
    },
    {
     "data": {
      "text/plain": [
       "[0.59777777777777774,\n",
       " 0.71999999999999997,\n",
       " 0.76222222222222225,\n",
       " 0.76888888888888884,\n",
       " 0.7844444444444445]"
      ]
     },
     "execution_count": 29,
     "metadata": {},
     "output_type": "execute_result"
    }
   ],
   "source": [
    "scores = []\n",
    "for pred in cum_mean:\n",
    "    scores.append(accuracy_score(y_val, np.argmax(pred, axis=1)))\n",
    "print(len(scores))\n",
    "scores[:5]"
   ]
  },
  {
   "cell_type": "markdown",
   "metadata": {},
   "source": [
    "**That is it!** Plot the resulting scores to obtain similar plot to one that appeared on the slides."
   ]
  },
  {
   "cell_type": "code",
   "execution_count": 28,
   "metadata": {},
   "outputs": [
    {
     "data": {
      "image/png": "[encoded data removed]",
      "text/plain": [
       "<matplotlib.figure.Figure at 0x7f45307e4438>"
      ]
     },
     "metadata": {},
     "output_type": "display_data"
    }
   ],
   "source": [
    "plt.figure(figsize=(10, 6))\n",
    "plt.plot(scores, linewidth=3)\n",
    "plt.xlabel('num_trees')\n",
    "plt.ylabel('accuracy');"
   ]
  },
  {
   "cell_type": "markdown",
   "metadata": {},
   "source": [
    "We see, that 150 trees are already sufficient to have stable result."
   ]
  }
 ],
 "metadata": {
  "kernelspec": {
   "display_name": "Python 3",
   "language": "python",
   "name": "python3"
  },
  "language_info": {
   "codemirror_mode": {
    "name": "ipython",
    "version": 3
   },
   "file_extension": ".py",
   "mimetype": "text/x-python",
   "name": "python",
   "nbconvert_exporter": "python",
   "pygments_lexer": "ipython3",
   "version": "3.6.0"
  }
 },
 "nbformat": 4,
 "nbformat_minor": 2
}
