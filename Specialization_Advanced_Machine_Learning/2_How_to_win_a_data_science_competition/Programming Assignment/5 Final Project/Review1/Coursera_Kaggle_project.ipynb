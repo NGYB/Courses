{
 "cells": [
  {
   "cell_type": "markdown",
   "metadata": {},
   "source": [
    "# Part 1 : import libs and some useful functions"
   ]
  },
  {
   "cell_type": "code",
   "execution_count": 2,
   "metadata": {},
   "outputs": [
    {
     "name": "stderr",
     "output_type": "stream",
     "text": [
      "Using TensorFlow backend.\n"
     ]
    }
   ],
   "source": [
    "from IPython.display import display\n",
    "import pandas as pd\n",
    "import numpy as np\n",
    "import gc\n",
    "import keras\n",
    "import matplotlib.pyplot as plt\n",
    "%matplotlib inline \n",
    "from sklearn.metrics import accuracy_score, mean_squared_error\n",
    "from sklearn.ensemble import ExtraTreesRegressor, ExtraTreesClassifier\n",
    "from sklearn.ensemble import RandomForestRegressor, RandomForestClassifier\n",
    "from sklearn.model_selection import train_test_split\n",
    "import lightgbm as lgb\n",
    "from sklearn import preprocessing\n",
    "from sklearn import feature_extraction\n",
    "from sklearn.linear_model import LinearRegression\n",
    "from tqdm import tqdm, tqdm_notebook\n",
    "from itertools import product\n",
    "\n",
    "## Downcast float64 to float32 and int64 to int32 to save memory\n",
    "def downcast_dtypes(df):\n",
    "    '''\n",
    "        Changes column types in the dataframe: \n",
    "                \n",
    "                `float64` type to `float32`\n",
    "                `int64`   type to `int32`\n",
    "    '''\n",
    "    \n",
    "    # Select columns to downcast\n",
    "    float_cols = [c for c in df if df[c].dtype == \"float64\"]\n",
    "    int_cols =   [c for c in df if df[c].dtype == \"int64\"]\n",
    "    \n",
    "    # Downcast\n",
    "    df[float_cols] = df[float_cols].astype(np.float32)\n",
    "    df[int_cols]   = df[int_cols].astype(np.int32)\n",
    "    \n",
    "    return df\n",
    "\n",
    "# input sklearn tree classifier, training dataset\n",
    "# plots feature importance and lists features in order of importance\n",
    "# returns ranked list of columns from training dataframe\n",
    "def feature_importance(forest, X_train):\n",
    "    ranked_list = []\n",
    "    \n",
    "    importances = forest.feature_importances_\n",
    "\n",
    "    std = np.std([tree.feature_importances_ for tree in forest.estimators_], axis=0)\n",
    "    indices = np.argsort(importances)[::-1]\n",
    "\n",
    "    # Print the feature ranking\n",
    "    print(\"Feature ranking:\")\n",
    "\n",
    "    for f in range(X_train.shape[1]):\n",
    "        print(\"%d. feature %d (%f)\" % (f + 1, indices[f], importances[indices[f]]) + \" - \" + X_train.columns[indices[f]])\n",
    "        ranked_list.append(X_train.columns[indices[f]])\n",
    "\n",
    "    # Plot the feature importances of the forest\n",
    "    plt.figure()\n",
    "    plt.title(\"Feature importances\")\n",
    "    plt.bar(range(X_train.shape[1]), importances[indices], color=\"r\", yerr=std[indices], align=\"center\")\n",
    "    plt.xticks(range(X_train.shape[1]), indices)\n",
    "    plt.xlim([-1, X_train.shape[1]])\n",
    "    plt.show()\n",
    "    \n",
    "    return ranked_list\n",
    "    \n",
    "def split_data(all_data, test_block=34, start_block=-1, to_drop_cols=[]):\n",
    "    dates = all_data['date_block_num']\n",
    "    dates_train  = dates[dates <  test_block]\n",
    "    dates_test  = dates[dates == test_block]\n",
    "    \n",
    "    y_train = all_data.loc[(dates <  test_block) & (dates > start_block), 'target']\n",
    "    y_test =  all_data.loc[dates == test_block, 'target']\n",
    "    \n",
    "    # split the data into train and test\n",
    "    X_train = all_data.drop([\"target\", \"date_block_num\"] + to_drop_cols, axis=1).loc[(dates <  test_block) & (dates > start_block)]\n",
    "    X_test =  all_data.drop([\"target\", \"date_block_num\"] + to_drop_cols, axis=1).loc[dates == test_block]\n",
    "    \n",
    "    print(\"X_train:\", X_train.shape)\n",
    "    print(\"X_test:\", X_test.shape)\n",
    "    \n",
    "    return X_train, y_train, X_test, y_test\n",
    "\n",
    "def weighted_average(arr_1, arr_2, weight=0.66):\n",
    "    averaged = ( (1-weight * arr_1) + (weight * arr_2) ) / 2\n",
    "    return averaged"
   ]
  },
  {
   "cell_type": "markdown",
   "metadata": {},
   "source": [
    "# Part 2 : Data Analysis"
   ]
  },
  {
   "cell_type": "code",
   "execution_count": 108,
   "metadata": {},
   "outputs": [],
   "source": [
    "import os \n",
    "DATA_FOLDER = './final_project_data/'\n",
    "\n",
    "sales      = pd.read_csv(os.path.join(DATA_FOLDER, 'sales_train.csv.gz'))\n",
    "items      = pd.read_csv(os.path.join(DATA_FOLDER, 'items.csv'))\n",
    "item_cats  = pd.read_csv(os.path.join(DATA_FOLDER, 'item_categories.csv'))\n",
    "shops      = pd.read_csv(os.path.join(DATA_FOLDER, 'shops.csv'))"
   ]
  },
  {
   "cell_type": "code",
   "execution_count": 112,
   "metadata": {
    "collapsed": true
   },
   "outputs": [],
   "source": [
    "sales['day'] = sales.date.str.split('.').str.get(0)\n",
    "sales['month'] = sales.date.str.split('.').str.get(1)\n",
    "sales['year'] = sales.date.str.split('.').str.get(2)"
   ]
  },
  {
   "cell_type": "code",
   "execution_count": 109,
   "metadata": {
    "collapsed": true
   },
   "outputs": [],
   "source": [
    "def year_data(year, transactions):\n",
    "    sale_Month_Rev = [0 for i in range(12)]\n",
    "    yeardata = transactions.loc[transactions.year == str(year)]\n",
    "    yeardata['sum'] = yeardata['item_price'] * yeardata['item_cnt_day']\n",
    "    if len(yeardata) > 0:\n",
    "        for i in range(12):\n",
    "            if i < 10:\n",
    "                monthdata = yeardata.loc[yeardata.month == '0' + str(i+1)]\n",
    "            else:\n",
    "                monthdata = yeardata.loc[yeardata.month ==str(i)]\n",
    "            sale_Month_Rev[i] = np.sum(monthdata['sum'])\n",
    "    return sale_Month_Rev\n",
    "def category_year_per(year, transactions, items, categoryId):\n",
    "    category_data = items.loc[items.item_category_id == categoryId]\n",
    "    category_transactions = transactions.loc[transactions['item_id'].isin(category_data['item_id'])]\n",
    "    sale_Month_Rev = year_data(year, transactions)\n",
    "    category_Month_Rev = year_data(year, category_transactions)\n",
    "    sale_Month_Rev = [sale_Month_Rev[i]+1 for i in range(12)]\n",
    "    return [category_Month_Rev[i]/sale_Month_Rev[i] for i in range(12)]\n",
    "def category_performance(year, transactions, items, Isplot):\n",
    "    yeardata = transactions.loc[transactions.year == str(year)]\n",
    "    MaxGor = max(items['item_category_id'])\n",
    "    MinGor = min(items['item_category_id'])\n",
    "    all_Category = np.zeros((MaxGor - MinGor+1), dtype=np.float32)\n",
    "    for i in range(MinGor, MaxGor+1):\n",
    "        category_data = items.loc[items.item_category_id == i]\n",
    "        category_transactions = yeardata.loc[yeardata['item_id'].isin(category_data['item_id'])]\n",
    "        all_Category[i] = np.sum(category_transactions['item_price'] * category_transactions['item_cnt_day'])\n",
    "    if Isplot:\n",
    "        plt.plot(all_Category/np.sum(all_Category), label=\"year :\" + str(year))\n",
    "        plt.ylabel('Income Percentage')\n",
    "        plt.xlabel('Category ID')\n",
    "        plt.title(\"Category performance\")\n",
    "        plt.legend()\n",
    "        plt.show()\n",
    "    return (all_Category)"
   ]
  },
  {
   "cell_type": "code",
   "execution_count": 113,
   "metadata": {},
   "outputs": [
    {
     "data": {
      "image/png": "[encoded data removed]",
      "text/plain": [
       "<matplotlib.figure.Figure at 0x7f70879ff358>"
      ]
     },
     "metadata": {},
     "output_type": "display_data"
    },
    {
     "name": "stdout",
     "output_type": "stream",
     "text": [
      "[12 40 23 30 19]\n",
      "[30 23 19 12 20]\n"
     ]
    }
   ],
   "source": [
    "Cate_13 = category_performance(2013, sales, items, False)\n",
    "Cate_14 = category_performance(2014, sales, items, False)\n",
    "plt.plot(Cate_13/np.sum(Cate_13), label=\"year :\" + str(2013))\n",
    "plt.plot(Cate_14/np.sum(Cate_14), label=\"year :\" + str(2014))\n",
    "plt.ylabel('Income Percentage')\n",
    "plt.xlabel('Category ID')\n",
    "plt.title(\"Category performance\")\n",
    "plt.legend()\n",
    "plt.show()\n",
    "print(Cate_13.argsort()[-5:])\n",
    "print(Cate_14.argsort()[-5:])"
   ]
  },
  {
   "cell_type": "code",
   "execution_count": 115,
   "metadata": {},
   "outputs": [
    {
     "name": "stderr",
     "output_type": "stream",
     "text": [
      "/home/minomi016/anaconda3/lib/python3.6/site-packages/ipykernel_launcher.py:4: SettingWithCopyWarning: \n",
      "A value is trying to be set on a copy of a slice from a DataFrame.\n",
      "Try using .loc[row_indexer,col_indexer] = value instead\n",
      "\n",
      "See the caveats in the documentation: http://pandas.pydata.org/pandas-docs/stable/indexing.html#indexing-view-versus-copy\n",
      "  after removing the cwd from sys.path.\n"
     ]
    },
    {
     "name": "stdout",
     "output_type": "stream",
     "text": [
      "==========2013\n",
      "[91947091.1299997, 90665707.36999977, 104932687.1499996, 69154285.54999954, 65065312.459999666, 79550405.82999893, 69350599.8799999, 74297969.64000005, 119081891.68000044, 0, 107241612.52999991, 138665439.30000573]\n",
      "==========2014\n",
      "[98226022.94999976, 107431122.75999957, 109115405.33999792, 80651755.21999972, 91281733.83000056, 82668538.6599995, 76487921.3199997, 89604092.27000004, 114723593.96999823, 0, 112525522.33999938, 152037599.33999887]\n",
      "==========2015\n",
      "[118927699.77999905, 86593883.89000057, 86476266.59999973, 90252813.75999585, 88577438.23999824, 65397995.42999958, 59405787.169999816, 61748964.71000002, 92905169.14000146, 0, 84337113.06000003, 0]\n"
     ]
    },
    {
     "data": {
      "image/png": "[encoded data removed]",
      "text/plain": [
       "<matplotlib.figure.Figure at 0x7f70879dab70>"
      ]
     },
     "metadata": {},
     "output_type": "display_data"
    }
   ],
   "source": [
    "for i in range(int(min(sales['year'])), int(max(sales['year'])) +1):\n",
    "    saleNum = year_data(i, sales)\n",
    "    print('==========' + str(i))\n",
    "    print(saleNum)\n",
    "    saleMean = np.mean(saleNum)\n",
    "    plt.plot([i+1 for i in range(12)], saleNum, label = str(i))\n",
    "    plt.plot([i+1 for i in range(12)], [saleMean for i in range(12)],  label=str(i) + '_mean')\n",
    "plt.ylabel('Total income')\n",
    "plt.xlabel('month')\n",
    "plt.title(\"Month revenue for year\")\n",
    "plt.legend()\n",
    "plt.show()"
   ]
  },
  {
   "cell_type": "markdown",
   "metadata": {},
   "source": [
    "## Data preprocessing"
   ]
  },
  {
   "cell_type": "code",
   "execution_count": 19,
   "metadata": {
    "collapsed": true
   },
   "outputs": [],
   "source": [
    "import os \n",
    "def All_data():\n",
    "    DATA_FOLDER = './final_project_data/'\n",
    "    sales      = pd.read_csv(os.path.join(DATA_FOLDER, 'sales_train.csv.gz'))\n",
    "    items      = pd.read_csv(os.path.join(DATA_FOLDER, 'items.csv'))\n",
    "    item_cats  = pd.read_csv(os.path.join(DATA_FOLDER, 'item_categories.csv'))\n",
    "    shops      = pd.read_csv(os.path.join(DATA_FOLDER, 'shops.csv'))\n",
    "    test       = pd.read_csv(os.path.join(DATA_FOLDER, 'test.csv'))\n",
    "    test_block = sales['date_block_num'].iloc[-1] + 1\n",
    "    test['date_block_num'] = test_block\n",
    "    test.head()\n",
    "    # Create \"grid\" with columns\n",
    "    index_cols = ['shop_id', 'item_id', 'date_block_num']\n",
    "\n",
    "    # For every month we create a grid from all shops/items combinations from that month\n",
    "    grid = [] \n",
    "    for block_num in sales['date_block_num'].unique():\n",
    "        cur_shops = sales.loc[sales['date_block_num'] == block_num, 'shop_id'].unique()\n",
    "        cur_items = sales.loc[sales['date_block_num'] == block_num, 'item_id'].unique()\n",
    "        grid.append(np.array(list(product(*[cur_shops, cur_items, [block_num]])),dtype='int32'))\n",
    "\n",
    "    # Turn the grid into a dataframe\n",
    "    grid = pd.DataFrame(np.vstack(grid), columns = index_cols,dtype=np.int32)\n",
    "    grid = pd.concat([grid, test])\n",
    "\n",
    "    # Groupby data to get shop-item-month aggregates\n",
    "    gb = sales.groupby(index_cols,as_index=False).agg({'item_cnt_day':{'target':'sum'}})\n",
    "    # Fix column names\n",
    "    gb.columns = [col[0] if col[-1]=='' else col[-1] for col in gb.columns.values] \n",
    "    # Join it to the grid\n",
    "    all_data = pd.merge(grid, gb, how='left', on=index_cols).fillna(0)\n",
    "\n",
    "    # Same as above but with shop-month aggregates\n",
    "    gb = sales.groupby(['shop_id', 'date_block_num'],as_index=False).agg({'item_cnt_day':{'target_shop':'sum'}})\n",
    "    gb.columns = [col[0] if col[-1]=='' else col[-1] for col in gb.columns.values]\n",
    "    all_data = pd.merge(all_data, gb, how='left', on=['shop_id', 'date_block_num']).fillna(0)\n",
    "\n",
    "    # Same as above but with item-month aggregates\n",
    "    gb = sales.groupby(['item_id', 'date_block_num'],as_index=False).agg({'item_cnt_day':{'target_item':'sum'}})\n",
    "    gb.columns = [col[0] if col[-1] == '' else col[-1] for col in gb.columns.values]\n",
    "    all_data = pd.merge(all_data, gb, how='left', on=['item_id', 'date_block_num']).fillna(0)\n",
    "\n",
    "    # Downcast dtypes from 64 to 32 bit to save memory\n",
    "    all_data = downcast_dtypes(all_data)\n",
    "    del grid, gb \n",
    "    gc.collect();\n",
    "\n",
    "    print(\"time lags\")\n",
    "    # List of columns that we will use to create lags\n",
    "    cols_to_rename = list(all_data.columns.difference(['ID'] + index_cols)) \n",
    "    print(cols_to_rename)\n",
    "    # use sales from selected months in last year to get the lags\n",
    "    shift_range = [1, 2, 3, 4, 5, 6, 7, 8, 9, 10, 11, 12]\n",
    "\n",
    "    # loop through the month shifts\n",
    "    for month_shift in shift_range:\n",
    "        train_shift = all_data[cols_to_rename + index_cols].copy()\n",
    "        # update the date block by the month shift\n",
    "        train_shift['date_block_num'] = train_shift['date_block_num'] + month_shift\n",
    "\n",
    "        # rename the columns\n",
    "        col_names = lambda x: '{}_lag_{}'.format(x, month_shift) if x in cols_to_rename else x\n",
    "        train_shift = train_shift.rename(columns=col_names)\n",
    "        print(month_shift, train_shift.head())\n",
    "        # merge the lag data back into the dataframe\n",
    "        all_data = pd.merge(all_data, train_shift, on=index_cols, how='left').fillna(0)\n",
    "        \n",
    "        del(train_shift)\n",
    "\n",
    "    # any date block less than 12 doesn't have lag info, so let's discard those from our training data\n",
    "    all_data = all_data[all_data.date_block_num >= 12]\n",
    "\n",
    "    # List of all lagged features\n",
    "    fit_cols = [col for col in all_data.columns if col[-1] in [str(item) for item in shift_range]] \n",
    "\n",
    "    # decide which columns we can drop later\n",
    "    to_drop_cols = list(set(list(all_data.columns)) - (set(fit_cols)|set(index_cols))) + ['date_block_num'] \n",
    "\n",
    "    # add the month number as a column\n",
    "    all_data['month_number'] = (all_data['date_block_num'] + 1) % 12\n",
    "    all_data.loc[all_data.month_number == 0, 'month_number'] = 12\n",
    "\n",
    "    # downcast to save memory\n",
    "    all_data = downcast_dtypes(all_data)\n",
    "    gc.collect();\n",
    "    \n",
    "    print(\"create text features for items\")\n",
    "    feature_cnt = 25\n",
    "\n",
    "    # extract the features\n",
    "    tfidf = feature_extraction.text.TfidfVectorizer(max_features=feature_cnt)\n",
    "\n",
    "    # length of text string\n",
    "    items['item_name_len'] = items['item_name'].map(len)\n",
    "\n",
    "    # number of words\n",
    "    items['item_name_wc'] = items['item_name'].map(lambda x: len(str(x).split(' ')))\n",
    "\n",
    "    txtFeatures = pd.DataFrame(tfidf.fit_transform(items['item_name']).toarray())\n",
    "    cols = txtFeatures.columns\n",
    "\n",
    "    # loop through the features and add it to the items dataframe\n",
    "    for i in range(feature_cnt):\n",
    "        items['item_name_tfidf_' + str(i)] = txtFeatures[cols[i]]\n",
    "\n",
    "    # drop the item name and just keep the encoded features\n",
    "    items.drop('item_name', axis=1, inplace=True)\n",
    "    items.head()\n",
    "    all_data = pd.merge(all_data, items, how='left', on='item_id')\n",
    "    \n",
    "    print(\"Features for item categories\")\n",
    "    # extract the features\n",
    "    tfidf = feature_extraction.text.TfidfVectorizer(max_features=feature_cnt)\n",
    "\n",
    "    # length of category name\n",
    "    item_cats['item_category_name_len'] = item_cats['item_category_name'].map(len)\n",
    "\n",
    "    txtFeatures = pd.DataFrame(tfidf.fit_transform(item_cats['item_category_name']).toarray())\n",
    "    cols = txtFeatures.columns\n",
    "\n",
    "    # loop through the features and create a column containing it\n",
    "    for i in range(feature_cnt):\n",
    "        item_cats['item_category_name_tfidf_' + str(i)] = txtFeatures[cols[i]]\n",
    "\n",
    "    # drop the category name and just keep the encoded features\n",
    "    item_cats.drop('item_category_name', axis=1, inplace=True)\n",
    "    item_cats.head()\n",
    "    all_data = pd.merge(all_data, item_cats, how='left', on='item_category_id')\n",
    "    del(items, item_cats)\n",
    "    gc.collect()\n",
    "    \n",
    "    print(\"extract the features for shop names\")\n",
    "    \n",
    "    # extract the features\n",
    "    tfidf = feature_extraction.text.TfidfVectorizer(max_features=feature_cnt)\n",
    "\n",
    "    # length of shop name\n",
    "    shops['shop_name_len'] = shops['shop_name'].map(len)\n",
    "\n",
    "    # number of words in shop name\n",
    "    shops['shop_name_wc'] = shops['shop_name'].map(lambda x: len(str(x).split(' ')))\n",
    "\n",
    "    txtFeatures = pd.DataFrame(tfidf.fit_transform(shops['shop_name']).toarray())\n",
    "    cols = txtFeatures.columns\n",
    "    for i in range(feature_cnt):\n",
    "        shops['shop_name_tfidf_' + str(i)] = txtFeatures[cols[i]]\n",
    "    shops.drop('shop_name', axis=1, inplace=True)\n",
    "    all_data = pd.merge(all_data, shops, how='left', on='shop_id')\n",
    "    all_data = downcast_dtypes(all_data)\n",
    "    \n",
    "    all_data['item_id'] = all_data.item_id.astype('category')\n",
    "    all_data['item_category_id'] = all_data.item_category_id.astype('category')\n",
    "    all_data['shop_id'] = all_data.shop_id.astype(\"category\")\n",
    "    all_data['month_number'] = all_data.month_number.astype(\"category\")\n",
    "    return all_data"
   ]
  },
  {
   "cell_type": "code",
   "execution_count": 20,
   "metadata": {
    "scrolled": true
   },
   "outputs": [
    {
     "name": "stderr",
     "output_type": "stream",
     "text": [
      "/home/minomi016/anaconda3/lib/python3.6/site-packages/pandas/core/groupby.py:4036: FutureWarning: using a dict with renaming is deprecated and will be removed in a future version\n",
      "  return super(DataFrameGroupBy, self).aggregate(arg, *args, **kwargs)\n"
     ]
    },
    {
     "name": "stdout",
     "output_type": "stream",
     "text": [
      "time lags\n",
      "['target', 'target_item', 'target_shop']\n",
      "1    target_lag_1  target_item_lag_1  target_shop_lag_1  shop_id  item_id  \\\n",
      "0           1.0               18.0             2017.0       59    22154   \n",
      "1           0.0                0.0             2017.0       59     2552   \n",
      "2           0.0                1.0             2017.0       59     2554   \n",
      "3           0.0                2.0             2017.0       59     2555   \n",
      "4           0.0                5.0             2017.0       59     2564   \n",
      "\n",
      "   date_block_num  \n",
      "0               1  \n",
      "1               1  \n",
      "2               1  \n",
      "3               1  \n",
      "4               1  \n",
      "2    target_lag_2  target_item_lag_2  target_shop_lag_2  shop_id  item_id  \\\n",
      "0           1.0               18.0             2017.0       59    22154   \n",
      "1           0.0                0.0             2017.0       59     2552   \n",
      "2           0.0                1.0             2017.0       59     2554   \n",
      "3           0.0                2.0             2017.0       59     2555   \n",
      "4           0.0                5.0             2017.0       59     2564   \n",
      "\n",
      "   date_block_num  \n",
      "0               2  \n",
      "1               2  \n",
      "2               2  \n",
      "3               2  \n",
      "4               2  \n",
      "3    target_lag_3  target_item_lag_3  target_shop_lag_3  shop_id  item_id  \\\n",
      "0           1.0               18.0             2017.0       59    22154   \n",
      "1           0.0                0.0             2017.0       59     2552   \n",
      "2           0.0                1.0             2017.0       59     2554   \n",
      "3           0.0                2.0             2017.0       59     2555   \n",
      "4           0.0                5.0             2017.0       59     2564   \n",
      "\n",
      "   date_block_num  \n",
      "0               3  \n",
      "1               3  \n",
      "2               3  \n",
      "3               3  \n",
      "4               3  \n",
      "4    target_lag_4  target_item_lag_4  target_shop_lag_4  shop_id  item_id  \\\n",
      "0           1.0               18.0             2017.0       59    22154   \n",
      "1           0.0                0.0             2017.0       59     2552   \n",
      "2           0.0                1.0             2017.0       59     2554   \n",
      "3           0.0                2.0             2017.0       59     2555   \n",
      "4           0.0                5.0             2017.0       59     2564   \n",
      "\n",
      "   date_block_num  \n",
      "0               4  \n",
      "1               4  \n",
      "2               4  \n",
      "3               4  \n",
      "4               4  \n",
      "5    target_lag_5  target_item_lag_5  target_shop_lag_5  shop_id  item_id  \\\n",
      "0           1.0               18.0             2017.0       59    22154   \n",
      "1           0.0                0.0             2017.0       59     2552   \n",
      "2           0.0                1.0             2017.0       59     2554   \n",
      "3           0.0                2.0             2017.0       59     2555   \n",
      "4           0.0                5.0             2017.0       59     2564   \n",
      "\n",
      "   date_block_num  \n",
      "0               5  \n",
      "1               5  \n",
      "2               5  \n",
      "3               5  \n",
      "4               5  \n",
      "6    target_lag_6  target_item_lag_6  target_shop_lag_6  shop_id  item_id  \\\n",
      "0           1.0               18.0             2017.0       59    22154   \n",
      "1           0.0                0.0             2017.0       59     2552   \n",
      "2           0.0                1.0             2017.0       59     2554   \n",
      "3           0.0                2.0             2017.0       59     2555   \n",
      "4           0.0                5.0             2017.0       59     2564   \n",
      "\n",
      "   date_block_num  \n",
      "0               6  \n",
      "1               6  \n",
      "2               6  \n",
      "3               6  \n",
      "4               6  \n",
      "7    target_lag_7  target_item_lag_7  target_shop_lag_7  shop_id  item_id  \\\n",
      "0           1.0               18.0             2017.0       59    22154   \n",
      "1           0.0                0.0             2017.0       59     2552   \n",
      "2           0.0                1.0             2017.0       59     2554   \n",
      "3           0.0                2.0             2017.0       59     2555   \n",
      "4           0.0                5.0             2017.0       59     2564   \n",
      "\n",
      "   date_block_num  \n",
      "0               7  \n",
      "1               7  \n",
      "2               7  \n",
      "3               7  \n",
      "4               7  \n",
      "8    target_lag_8  target_item_lag_8  target_shop_lag_8  shop_id  item_id  \\\n",
      "0           1.0               18.0             2017.0       59    22154   \n",
      "1           0.0                0.0             2017.0       59     2552   \n",
      "2           0.0                1.0             2017.0       59     2554   \n",
      "3           0.0                2.0             2017.0       59     2555   \n",
      "4           0.0                5.0             2017.0       59     2564   \n",
      "\n",
      "   date_block_num  \n",
      "0               8  \n",
      "1               8  \n",
      "2               8  \n",
      "3               8  \n",
      "4               8  \n",
      "9    target_lag_9  target_item_lag_9  target_shop_lag_9  shop_id  item_id  \\\n",
      "0           1.0               18.0             2017.0       59    22154   \n",
      "1           0.0                0.0             2017.0       59     2552   \n",
      "2           0.0                1.0             2017.0       59     2554   \n",
      "3           0.0                2.0             2017.0       59     2555   \n",
      "4           0.0                5.0             2017.0       59     2564   \n",
      "\n",
      "   date_block_num  \n",
      "0               9  \n",
      "1               9  \n",
      "2               9  \n",
      "3               9  \n",
      "4               9  \n",
      "10    target_lag_10  target_item_lag_10  target_shop_lag_10  shop_id  item_id  \\\n",
      "0            1.0                18.0              2017.0       59    22154   \n",
      "1            0.0                 0.0              2017.0       59     2552   \n",
      "2            0.0                 1.0              2017.0       59     2554   \n",
      "3            0.0                 2.0              2017.0       59     2555   \n",
      "4            0.0                 5.0              2017.0       59     2564   \n",
      "\n",
      "   date_block_num  \n",
      "0              10  \n",
      "1              10  \n",
      "2              10  \n",
      "3              10  \n",
      "4              10  \n",
      "11    target_lag_11  target_item_lag_11  target_shop_lag_11  shop_id  item_id  \\\n",
      "0            1.0                18.0              2017.0       59    22154   \n",
      "1            0.0                 0.0              2017.0       59     2552   \n",
      "2            0.0                 1.0              2017.0       59     2554   \n",
      "3            0.0                 2.0              2017.0       59     2555   \n",
      "4            0.0                 5.0              2017.0       59     2564   \n",
      "\n",
      "   date_block_num  \n",
      "0              11  \n",
      "1              11  \n",
      "2              11  \n",
      "3              11  \n",
      "4              11  \n",
      "12    target_lag_12  target_item_lag_12  target_shop_lag_12  shop_id  item_id  \\\n",
      "0            1.0                18.0              2017.0       59    22154   \n",
      "1            0.0                 0.0              2017.0       59     2552   \n",
      "2            0.0                 1.0              2017.0       59     2554   \n",
      "3            0.0                 2.0              2017.0       59     2555   \n",
      "4            0.0                 5.0              2017.0       59     2564   \n",
      "\n",
      "   date_block_num  \n",
      "0              12  \n",
      "1              12  \n",
      "2              12  \n",
      "3              12  \n",
      "4              12  \n",
      "create text features for items\n",
      "Features for item categories\n",
      "extract the features for shop names\n"
     ]
    }
   ],
   "source": [
    "all_data = All_data()"
   ]
  },
  {
   "cell_type": "code",
   "execution_count": 21,
   "metadata": {},
   "outputs": [
    {
     "name": "stdout",
     "output_type": "stream",
     "text": [
      "X_train: (3461295, 123)\n",
      "X_test: (214200, 123)\n"
     ]
    }
   ],
   "source": [
    "dates = all_data.date_block_num\n",
    "X_train, y_train, X_test, y_test = split_data(all_data, start_block=20)\n",
    "\n",
    "# delete all_data so we have enough memory to fit the tree\n",
    "del(all_data)"
   ]
  },
  {
   "cell_type": "code",
   "execution_count": null,
   "metadata": {
    "collapsed": true,
    "scrolled": true
   },
   "outputs": [],
   "source": [
    "forest = ExtraTreesRegressor(n_estimators=3, random_state=0, max_depth=20, min_samples_leaf=200, n_jobs=3)\n",
    "forest.fit(X_train, y_train)\n",
    "# find which features are useful\n",
    "ranked_list = feature_importance(forest, X_train)\n",
    "print(ranked_list)"
   ]
  },
  {
   "cell_type": "code",
   "execution_count": 10,
   "metadata": {},
   "outputs": [
    {
     "name": "stderr",
     "output_type": "stream",
     "text": [
      "/Users/minomichiang/anaconda3/lib/python3.6/site-packages/pandas/core/groupby.py:4036: FutureWarning: using a dict with renaming is deprecated and will be removed in a future version\n",
      "  return super(DataFrameGroupBy, self).aggregate(arg, *args, **kwargs)\n"
     ]
    },
    {
     "name": "stdout",
     "output_type": "stream",
     "text": [
      "time lags\n",
      "create text features for items\n",
      "Features for item categories\n",
      "extract the features for shop names\n"
     ]
    }
   ],
   "source": [
    "features_to_drop = ranked_list[100:]\n",
    "matching = [s for s in features_to_drop if \"tfidf\" in s]\n",
    "features_to_drop = matching + [\"ID\"]\n",
    "# drop the features which are not useful and save the dataframe\n",
    "all_data = All_data()\n",
    "all_data.drop(features_to_drop, inplace=True, axis=1)\n",
    "targets = all_data.loc[(dates <  34), 'target']"
   ]
  },
  {
   "cell_type": "code",
   "execution_count": 11,
   "metadata": {},
   "outputs": [
    {
     "name": "stdout",
     "output_type": "stream",
     "text": [
      "Target > 0: 919340\n",
      "Target > 5: 51361\n",
      "Target > 10: 18334\n",
      "Target > 20: 6186\n",
      "Target > 25: 3375\n",
      "Target > 30: 3375\n",
      "Target > 50: 1667\n",
      "Target > 100: 616\n",
      "Total: 6425094\n"
     ]
    }
   ],
   "source": [
    "print(\"Target > 0:\", np.sum(all_data.target.values > 0))\n",
    "print(\"Target > 5:\", np.sum(all_data.target.values > 5))\n",
    "print(\"Target > 10:\", np.sum(all_data.target.values > 10))\n",
    "print(\"Target > 20:\", np.sum(all_data.target.values > 20))\n",
    "print(\"Target > 25:\", np.sum(all_data.target.values > 30))\n",
    "print(\"Target > 30:\", np.sum(all_data.target.values > 30))\n",
    "print(\"Target > 50:\", np.sum(all_data.target.values > 50))\n",
    "print(\"Target > 100:\", np.sum(all_data.target.values > 100))\n",
    "print(\"Total:\", targets.count())"
   ]
  },
  {
   "cell_type": "code",
   "execution_count": 12,
   "metadata": {
    "collapsed": true
   },
   "outputs": [],
   "source": [
    "all_data.loc[all_data.target.values > 25, 'target'] = 25"
   ]
  },
  {
   "cell_type": "code",
   "execution_count": 15,
   "metadata": {
    "collapsed": true
   },
   "outputs": [],
   "source": [
    "# save the dataframe in case the kernel dies\n",
    "all_data.to_pickle(\"./Processed_data/all_data_pure.pkl\", compression='gzip')"
   ]
  },
  {
   "cell_type": "code",
   "execution_count": 2,
   "metadata": {
    "collapsed": true
   },
   "outputs": [],
   "source": [
    "all_data = pd.read_pickle(\"./Process_data/all_data_pure.pkl\", compression='gzip')"
   ]
  },
  {
   "cell_type": "markdown",
   "metadata": {},
   "source": [
    "# Part 3 : Modeling\n",
    "### I will use 4 different model to predict, and stack in the last section"
   ]
  },
  {
   "cell_type": "markdown",
   "metadata": {},
   "source": [
    "Data Process"
   ]
  },
  {
   "cell_type": "code",
   "execution_count": 3,
   "metadata": {},
   "outputs": [
    {
     "name": "stdout",
     "output_type": "stream",
     "text": [
      "X_train: (6425094, 98)\n",
      "X_test: (214200, 98)\n"
     ]
    }
   ],
   "source": [
    "date_blocks = all_data.date_block_num\n",
    "X_train, y_train, X_test, y_test = split_data(all_data, to_drop_cols=[\"target_shop\",\"target_item\"])\n",
    "\n",
    "del(all_data)"
   ]
  },
  {
   "cell_type": "code",
   "execution_count": null,
   "metadata": {
    "collapsed": true
   },
   "outputs": [],
   "source": [
    "X_train.to_pickle(\"./Process_data/X_train.pkl\", compression='gzip')\n",
    "print(\"X_test\")\n",
    "X_test.to_pickle(\"./Process_data/X_test.pkl\", compression='gzip')\n",
    "print(\"date_blocks\")\n",
    "date_blocks.to_pickle(\"./Process_data/date_blocks.pkl\", compression='gzip')"
   ]
  },
  {
   "cell_type": "code",
   "execution_count": 4,
   "metadata": {
    "collapsed": true
   },
   "outputs": [],
   "source": [
    "dates2 = date_blocks[date_blocks < 34]"
   ]
  },
  {
   "cell_type": "code",
   "execution_count": 5,
   "metadata": {},
   "outputs": [
    {
     "name": "stdout",
     "output_type": "stream",
     "text": [
      "X_tr_1: (1945473, 98)\n",
      "y_tr_1: (1945473,)\n",
      "X_tr_2: (1846931, 98)\n",
      "y_tr_2: (1846931,)\n",
      "X_tr_3: (1614364, 98)\n",
      "y_tr_3: (1614364,)\n"
     ]
    }
   ],
   "source": [
    "tr_1_dates = [15,16,17,18,19,20]\n",
    "tr_2_dates = [21,22,23,24,25,26]\n",
    "tr_3_dates = [27,28,29,30,31,32,33]\n",
    "tr_1_filter = np.isin(dates2, tr_1_dates)\n",
    "tr_2_filter = np.isin(dates2, tr_2_dates)\n",
    "tr_3_filter = np.isin(dates2, tr_3_dates)\n",
    "\n",
    "X_tr_1 = X_train.loc[tr_1_filter]\n",
    "y_tr_1 = y_train[tr_1_filter]\n",
    "\n",
    "print(\"X_tr_1:\", X_tr_1.shape)\n",
    "print(\"y_tr_1:\", y_tr_1.shape)\n",
    "\n",
    "X_tr_2 = X_train.loc[tr_2_filter]\n",
    "y_tr_2 = y_train[tr_2_filter]\n",
    "\n",
    "print(\"X_tr_2:\", X_tr_2.shape)\n",
    "print(\"y_tr_2:\", y_tr_2.shape)\n",
    "\n",
    "X_tr_3 = X_train.loc[tr_3_filter]\n",
    "y_tr_3 = y_train[tr_3_filter]\n",
    "\n",
    "print(\"X_tr_3:\", X_tr_3.shape)\n",
    "print(\"y_tr_3:\", y_tr_3.shape)\n",
    "\n",
    "# save the data\n",
    "X_tr_1.to_pickle(\"./Process_data/X_tr_1.pkl\")\n",
    "X_tr_2.to_pickle(\"./Process_data/X_tr_2.pkl\")\n",
    "X_tr_3.to_pickle(\"./Process_data/X_tr_3.pkl\")\n",
    "\n",
    "np.save(\"./Process_data/y_tr_1.npy\", y_tr_1)\n",
    "np.save(\"./Process_data/y_tr_2.npy\", y_tr_2)\n",
    "np.save(\"./Process_data/y_tr_3.npy\", y_tr_3)\n",
    "\n",
    "X_test.to_pickle(\"./Process_data/X_test.pkl\")"
   ]
  },
  {
   "cell_type": "code",
   "execution_count": 3,
   "metadata": {
    "collapsed": true
   },
   "outputs": [],
   "source": [
    "X_tr_1 = pd.read_pickle(\"./Process_data/X_tr_1.pkl\")\n",
    "X_tr_2 = pd.read_pickle(\"./Process_data/X_tr_2.pkl\")\n",
    "X_tr_3 = pd.read_pickle(\"./Process_data/X_tr_3.pkl\")\n",
    "X_test = pd.read_pickle(\"./Process_data/X_test.pkl\")\n",
    "\n",
    "y_tr_1 = np.load(\"./Process_data/y_tr_1.npy\")\n",
    "y_tr_2 = np.load(\"./Process_data/y_tr_2.npy\")\n",
    "y_tr_3 = np.load(\"./Process_data/y_tr_3.npy\")\n"
   ]
  },
  {
   "cell_type": "code",
   "execution_count": 3,
   "metadata": {},
   "outputs": [
    {
     "name": "stdout",
     "output_type": "stream",
     "text": [
      "Total Columns: 98\n",
      "Lag Columns: 36\n",
      "Text Features: 53\n",
      "Other Text Cols: 5\n",
      "Categorical Columns: 4\n"
     ]
    }
   ],
   "source": [
    "lag_cols = []\n",
    "text_cols = []\n",
    "other_text_cols = []\n",
    "categorical_cols = []\n",
    "\n",
    "for col in X_tr_1.columns:\n",
    "    if \"_lag_\" in col:\n",
    "        lag_cols.append(col)\n",
    "    elif (\"_tfidf_\" in col):\n",
    "        text_cols.append(col)\n",
    "    elif (\"_len\" in col) or (\"_wc\" in col):\n",
    "        other_text_cols.append(col)\n",
    "    else:\n",
    "        categorical_cols.append(col)\n",
    "        \n",
    "print(\"Total Columns:\", len(X_tr_1.columns))\n",
    "print(\"Lag Columns:\", len(lag_cols) )\n",
    "print(\"Text Features:\", len(text_cols) )\n",
    "print(\"Other Text Cols:\", len(other_text_cols) )\n",
    "print(\"Categorical Columns:\", len(categorical_cols) )"
   ]
  },
  {
   "cell_type": "markdown",
   "metadata": {},
   "source": [
    "## Model 1 : Linear Model"
   ]
  },
  {
   "cell_type": "code",
   "execution_count": 7,
   "metadata": {
    "collapsed": true
   },
   "outputs": [],
   "source": [
    "lm_cols_to_drop = categorical_cols + other_text_cols"
   ]
  },
  {
   "cell_type": "code",
   "execution_count": 8,
   "metadata": {},
   "outputs": [
    {
     "name": "stdout",
     "output_type": "stream",
     "text": [
      "linear 1 OK\n",
      "CPU times: user 6.69 s, sys: 1.69 s, total: 8.38 s\n",
      "Wall time: 7.43 s\n"
     ]
    }
   ],
   "source": [
    "%%time\n",
    "lm1 = LinearRegression(n_jobs=-1)\n",
    "lm1.fit(X_tr_1.drop(lm_cols_to_drop, axis=1), y_tr_1)\n",
    "print(\"linear 1 OK\")"
   ]
  },
  {
   "cell_type": "code",
   "execution_count": 9,
   "metadata": {},
   "outputs": [
    {
     "name": "stdout",
     "output_type": "stream",
     "text": [
      "linear 2 OK\n",
      "CPU times: user 6.09 s, sys: 1.49 s, total: 7.58 s\n",
      "Wall time: 5.21 s\n"
     ]
    }
   ],
   "source": [
    "%%time\n",
    "lm2 = LinearRegression(n_jobs=-1)\n",
    "lm2.fit(X_tr_2.drop(lm_cols_to_drop, axis=1), y_tr_2)\n",
    "print(\"linear 2 OK\")"
   ]
  },
  {
   "cell_type": "code",
   "execution_count": 10,
   "metadata": {},
   "outputs": [
    {
     "name": "stdout",
     "output_type": "stream",
     "text": [
      "linear 3 OK\n",
      "CPU times: user 5.2 s, sys: 1.28 s, total: 6.48 s\n",
      "Wall time: 4.47 s\n"
     ]
    }
   ],
   "source": [
    "%%time\n",
    "lm3 = LinearRegression(n_jobs=-1)\n",
    "lm3.fit(X_tr_3.drop(lm_cols_to_drop, axis=1), y_tr_3)\n",
    "print(\"linear 3 OK\")"
   ]
  },
  {
   "cell_type": "code",
   "execution_count": 12,
   "metadata": {},
   "outputs": [
    {
     "name": "stdout",
     "output_type": "stream",
     "text": [
      "linear 4 OK\n",
      "CPU times: user 21.7 s, sys: 9.2 s, total: 30.9 s\n",
      "Wall time: 23.3 s\n"
     ]
    }
   ],
   "source": [
    "%%time\n",
    "# we will fit one last model to ALL the training data which we will also use to predict the test data\n",
    "lm_all = LinearRegression(n_jobs=-1)\n",
    "lm_all.fit(pd.concat([X_tr_1, X_tr_2, X_tr_3], axis=0).drop(lm_cols_to_drop, axis=1)\n",
    "           , np.concatenate([y_tr_1, y_tr_2, y_tr_3], axis=0))\n",
    "print(\"linear 4 OK\")"
   ]
  },
  {
   "cell_type": "code",
   "execution_count": 13,
   "metadata": {},
   "outputs": [
    {
     "name": "stdout",
     "output_type": "stream",
     "text": [
      "LM 2 MSE: 1.54811\n",
      "LM 3 MSE: 1.13095\n"
     ]
    }
   ],
   "source": [
    "lm_preds_te = lm3.predict(X_test.drop(lm_cols_to_drop, axis=1))\n",
    "lm_preds_te_2 = lm_all.predict(X_test.drop(lm_cols_to_drop, axis=1))\n",
    "np.save(\"./Processed_data/lm_preds_te_2_7.npy\", lm_preds_te_2)\n",
    "\n",
    "lm_preds_avg = (lm_preds_te + lm_preds_te_2 )  / 2\n",
    "\n",
    "lm_preds2 = lm1.predict(X_tr_2.drop(lm_cols_to_drop, axis=1))\n",
    "lm_2_score = mean_squared_error(y_tr_2, lm_preds2)\n",
    "print(\"LM 2 MSE:\", lm_2_score)\n",
    "\n",
    "lm_preds3 = lm2.predict(X_tr_3.drop(lm_cols_to_drop, axis=1))\n",
    "lm_3_score = mean_squared_error(y_tr_3, lm_preds3)\n",
    "print(\"LM 3 MSE:\", lm_3_score)"
   ]
  },
  {
   "cell_type": "code",
   "execution_count": 14,
   "metadata": {},
   "outputs": [
    {
     "data": {
      "text/html": [
       "<div>\n",
       "<style>\n",
       "    .dataframe thead tr:only-child th {\n",
       "        text-align: right;\n",
       "    }\n",
       "\n",
       "    .dataframe thead th {\n",
       "        text-align: left;\n",
       "    }\n",
       "\n",
       "    .dataframe tbody tr th {\n",
       "        vertical-align: top;\n",
       "    }\n",
       "</style>\n",
       "<table border=\"1\" class=\"dataframe\">\n",
       "  <thead>\n",
       "    <tr style=\"text-align: right;\">\n",
       "      <th></th>\n",
       "      <th>model</th>\n",
       "      <th>2</th>\n",
       "      <th>3</th>\n",
       "    </tr>\n",
       "  </thead>\n",
       "  <tbody>\n",
       "    <tr>\n",
       "      <th>0</th>\n",
       "      <td>linear</td>\n",
       "      <td>1.548105</td>\n",
       "      <td>1.130952</td>\n",
       "    </tr>\n",
       "  </tbody>\n",
       "</table>\n",
       "</div>"
      ],
      "text/plain": [
       "    model         2         3\n",
       "0  linear  1.548105  1.130952"
      ]
     },
     "execution_count": 14,
     "metadata": {},
     "output_type": "execute_result"
    }
   ],
   "source": [
    "lm_results = [\"linear\", lm_2_score, lm_3_score]\n",
    "mse_results = pd.DataFrame(columns=[\"model\",\"2\", \"3\"])\n",
    "mse_results.loc[0] = lm_results\n",
    "mse_results.to_pickle(\"./Processed_data/mse_results.pkl\")\n",
    "mse_results.head()"
   ]
  },
  {
   "cell_type": "code",
   "execution_count": 15,
   "metadata": {
    "collapsed": true
   },
   "outputs": [],
   "source": [
    "np.save(\"./Processed_data/lm_preds2_7.npy\", lm_preds2)\n",
    "np.save(\"./Processed_data/lm_preds3_7.npy\", lm_preds3)\n",
    "np.save(\"./Processed_data/lm_preds_te_7.npy\", lm_preds_te)\n",
    "np.save(\"./Processed_data/lm_preds_te_avg_7.npy\", lm_preds_avg)"
   ]
  },
  {
   "cell_type": "markdown",
   "metadata": {},
   "source": [
    "## Model 2 : Neural Network"
   ]
  },
  {
   "cell_type": "code",
   "execution_count": 16,
   "metadata": {},
   "outputs": [
    {
     "name": "stdout",
     "output_type": "stream",
     "text": [
      "X_tr_nn_1: (1945473, 89)\n",
      "X_tr_nn_2: (1945473, 89)\n",
      "X_tr_nn_3: (1614364, 89)\n",
      "X_te_nn: (214200, 89)\n"
     ]
    }
   ],
   "source": [
    "nn_cols_to_drop = categorical_cols + text_cols + other_text_cols\n",
    "# stack the train and test data to scale it\n",
    "X_all = pd.concat([X_tr_1, X_tr_2, X_tr_3, X_test], axis=0).drop(nn_cols_to_drop, axis=1)\n",
    "\n",
    "# scale our data for the neural network\n",
    "scaler = preprocessing.Normalizer()\n",
    "scaler.fit(X_all)\n",
    "\n",
    "# delete X_all\n",
    "del(X_all)\n",
    "\n",
    "# drop our IDs and scale the data\n",
    "X_tr_nn_1 = scaler.transform(X_tr_1.drop(nn_cols_to_drop, axis=1))\n",
    "X_tr_nn_2 = scaler.transform(X_tr_2.drop(nn_cols_to_drop, axis=1))\n",
    "X_tr_nn_3 = scaler.transform(X_tr_3.drop(nn_cols_to_drop, axis=1))\n",
    "X_te_nn = scaler.transform(X_test.drop(nn_cols_to_drop, axis=1))\n",
    "\n",
    "# add our text features back in - they are already scaled, I think\n",
    "X_tr_nn_1 = np.concatenate([X_tr_nn_1, X_tr_1[text_cols]], axis=1)\n",
    "X_tr_nn_2 = np.concatenate([X_tr_nn_2, X_tr_2[text_cols]], axis=1)\n",
    "X_tr_nn_3 = np.concatenate([X_tr_nn_3, X_tr_3[text_cols]], axis=1)\n",
    "X_te_nn = np.concatenate([X_te_nn, X_test[text_cols]], axis=1)\n",
    "\n",
    "print(\"X_tr_nn_1:\", X_tr_nn_1.shape)\n",
    "print(\"X_tr_nn_2:\", X_tr_nn_1.shape)\n",
    "print(\"X_tr_nn_3:\", X_tr_nn_3.shape)\n",
    "print(\"X_te_nn:\", X_te_nn.shape)"
   ]
  },
  {
   "cell_type": "code",
   "execution_count": 18,
   "metadata": {
    "collapsed": true
   },
   "outputs": [],
   "source": [
    "def NN_Model(input_shape):\n",
    "    nn1 = keras.models.Sequential()\n",
    "    \n",
    "    nn1.add(keras.layers.Dense(64, input_shape=(input_shape,)\n",
    "                               , activation=\"relu\", kernel_regularizer=keras.regularizers.l2(0.01)))\n",
    "    nn1.add(keras.layers.BatchNormalization())\n",
    "    \n",
    "    nn1.add(keras.layers.Dense(32, activation=\"relu\"\n",
    "                               , kernel_regularizer=keras.regularizers.l2(0.01)))\n",
    "    nn1.add(keras.layers.BatchNormalization())\n",
    "    \n",
    "    nn1.add(keras.layers.Dense(16, activation=\"relu\", kernel_regularizer=keras.regularizers.l2(0.01)))\n",
    "    nn1.add(keras.layers.BatchNormalization())\n",
    "\n",
    "    nn1.add(keras.layers.Dense(1, activation=\"relu\"))\n",
    "    nn1.compile(loss=\"mse\", optimizer=\"adam\")\n",
    "    return nn1"
   ]
  },
  {
   "cell_type": "code",
   "execution_count": 19,
   "metadata": {
    "scrolled": true
   },
   "outputs": [
    {
     "name": "stdout",
     "output_type": "stream",
     "text": [
      "Train on 1945473 samples, validate on 1846931 samples\n",
      "Epoch 1/15\n",
      "1945473/1945473 [==============================] - 31s 16us/step - loss: 1.3603 - val_loss: 1.6318\n",
      "Epoch 2/15\n",
      "1945473/1945473 [==============================] - 28s 15us/step - loss: 1.0614 - val_loss: 1.5076\n",
      "Epoch 3/15\n",
      "1945473/1945473 [==============================] - 28s 15us/step - loss: 1.0154 - val_loss: 1.4831\n",
      "Epoch 4/15\n",
      "1945473/1945473 [==============================] - 28s 15us/step - loss: 0.9921 - val_loss: 1.4644\n",
      "Epoch 5/15\n",
      "1945473/1945473 [==============================] - 28s 15us/step - loss: 0.9713 - val_loss: 1.4621\n",
      "Epoch 6/15\n",
      "1945473/1945473 [==============================] - 28s 15us/step - loss: 0.9670 - val_loss: 1.4223\n",
      "Epoch 7/15\n",
      "1945473/1945473 [==============================] - 29s 15us/step - loss: 0.9604 - val_loss: 1.5000\n",
      "Epoch 8/15\n",
      "1945473/1945473 [==============================] - 28s 15us/step - loss: 0.9565 - val_loss: 1.4741\n",
      "Epoch 9/15\n",
      "1945473/1945473 [==============================] - 29s 15us/step - loss: 0.9540 - val_loss: 1.5209\n",
      "Epoch 10/15\n",
      "1945473/1945473 [==============================] - 28s 15us/step - loss: 0.9486 - val_loss: 1.4370\n",
      "Epoch 11/15\n",
      "1945473/1945473 [==============================] - 28s 15us/step - loss: 0.9430 - val_loss: 1.5008\n",
      "Epoch 12/15\n",
      "1945473/1945473 [==============================] - 29s 15us/step - loss: 0.9423 - val_loss: 1.4993\n",
      "Epoch 13/15\n",
      "1945473/1945473 [==============================] - 28s 15us/step - loss: 0.9447 - val_loss: 1.4568\n",
      "Epoch 14/15\n",
      "1945473/1945473 [==============================] - 29s 15us/step - loss: 0.9392 - val_loss: 1.4443\n",
      "Epoch 15/15\n",
      "1945473/1945473 [==============================] - 29s 15us/step - loss: 0.9402 - val_loss: 1.4147\n",
      "NN 2 MSE: 1.3534\n"
     ]
    }
   ],
   "source": [
    "nn1 = NN_Model(X_tr_nn_1.shape[1])\n",
    "nn1.fit(X_tr_nn_1, y_tr_1, epochs=15, batch_size=1024, verbose=1, shuffle=True, validation_data=(X_tr_nn_2, y_tr_2))\n",
    "\n",
    "nn_preds_2 = nn1.predict(X_tr_nn_2, batch_size=512)\n",
    "\n",
    "nn_2_score = mean_squared_error(y_tr_2, nn_preds_2)\n",
    "print(\"NN 2 MSE:\", nn_2_score)\n",
    "\n",
    "np.save(\"./Processed_data/nn_preds_2_7.npy\", nn_preds_2)"
   ]
  },
  {
   "cell_type": "code",
   "execution_count": 20,
   "metadata": {
    "scrolled": true
   },
   "outputs": [
    {
     "name": "stdout",
     "output_type": "stream",
     "text": [
      "Train on 1846931 samples, validate on 1614364 samples\n",
      "Epoch 1/15\n",
      "1846931/1846931 [==============================] - 28s 15us/step - loss: 1.8289 - val_loss: 1.1978\n",
      "Epoch 2/15\n",
      "1846931/1846931 [==============================] - 27s 15us/step - loss: 1.4247 - val_loss: 1.1328\n",
      "Epoch 3/15\n",
      "1846931/1846931 [==============================] - 28s 15us/step - loss: 1.3522 - val_loss: 1.1138\n",
      "Epoch 4/15\n",
      "1846931/1846931 [==============================] - 27s 15us/step - loss: 1.3215 - val_loss: 1.0868\n",
      "Epoch 5/15\n",
      "1846931/1846931 [==============================] - 27s 15us/step - loss: 1.3047 - val_loss: 1.0597\n",
      "Epoch 6/15\n",
      "1846931/1846931 [==============================] - 27s 14us/step - loss: 1.2982 - val_loss: 1.0861\n",
      "Epoch 7/15\n",
      "1846931/1846931 [==============================] - 27s 15us/step - loss: 1.2883 - val_loss: 1.0686\n",
      "Epoch 8/15\n",
      "1846931/1846931 [==============================] - 27s 14us/step - loss: 1.2848 - val_loss: 1.0986\n",
      "Epoch 9/15\n",
      "1846931/1846931 [==============================] - 27s 15us/step - loss: 1.2773 - val_loss: 1.3345\n",
      "Epoch 10/15\n",
      "1846931/1846931 [==============================] - 27s 14us/step - loss: 1.2776 - val_loss: 1.2847\n",
      "Epoch 11/15\n",
      "1846931/1846931 [==============================] - 27s 15us/step - loss: 1.2719 - val_loss: 1.2062\n",
      "Epoch 12/15\n",
      "1846931/1846931 [==============================] - 27s 15us/step - loss: 1.2694 - val_loss: 1.0813\n",
      "Epoch 13/15\n",
      "1846931/1846931 [==============================] - 27s 15us/step - loss: 1.2672 - val_loss: 1.0808\n",
      "Epoch 14/15\n",
      "1846931/1846931 [==============================] - 27s 15us/step - loss: 1.2647 - val_loss: 1.1625\n",
      "Epoch 15/15\n",
      "1846931/1846931 [==============================] - 27s 15us/step - loss: 1.2655 - val_loss: 1.1077\n",
      "NN 2 MSE: 1.02243\n"
     ]
    }
   ],
   "source": [
    "nn2 = NN_Model(X_tr_nn_2.shape[1])\n",
    "nn2.fit(X_tr_nn_2,y_tr_2, epochs=15, batch_size=1024, verbose=1, shuffle=True, validation_data=(X_tr_nn_3, y_tr_3))\n",
    "\n",
    "nn_preds_3 = nn2.predict(X_tr_nn_3, batch_size=512)\n",
    "\n",
    "nn_3_score = mean_squared_error(y_tr_3, nn_preds_3)\n",
    "print(\"NN 2 MSE:\", nn_3_score)\n",
    "\n",
    "np.save(\"./Processed_data/nn_preds_3_7.npy\", nn_preds_3)"
   ]
  },
  {
   "cell_type": "code",
   "execution_count": 21,
   "metadata": {
    "scrolled": true
   },
   "outputs": [
    {
     "name": "stdout",
     "output_type": "stream",
     "text": [
      "Train on 3461295 samples, validate on 1945473 samples\n",
      "Epoch 1/15\n",
      "3461295/3461295 [==============================] - 54s 16us/step - loss: 1.4499 - val_loss: 1.1180\n",
      "Epoch 2/15\n",
      "3461295/3461295 [==============================] - 52s 15us/step - loss: 1.2050 - val_loss: 1.0859\n",
      "Epoch 3/15\n",
      "3461295/3461295 [==============================] - 52s 15us/step - loss: 1.1722 - val_loss: 1.1022\n",
      "Epoch 4/15\n",
      "3461295/3461295 [==============================] - 53s 15us/step - loss: 1.1584 - val_loss: 1.0480\n",
      "Epoch 5/15\n",
      "3461295/3461295 [==============================] - 53s 15us/step - loss: 1.1522 - val_loss: 1.0409\n",
      "Epoch 6/15\n",
      "3461295/3461295 [==============================] - 53s 15us/step - loss: 1.1460 - val_loss: 1.0844\n",
      "Epoch 7/15\n",
      "3461295/3461295 [==============================] - 53s 15us/step - loss: 1.1409 - val_loss: 1.0445\n",
      "Epoch 8/15\n",
      "3461295/3461295 [==============================] - 53s 15us/step - loss: 1.1382 - val_loss: 1.0480\n",
      "Epoch 9/15\n",
      "3461295/3461295 [==============================] - 53s 15us/step - loss: 1.1343 - val_loss: 1.0532\n",
      "Epoch 10/15\n",
      "3461295/3461295 [==============================] - 53s 15us/step - loss: 1.1373 - val_loss: 1.0219\n",
      "Epoch 11/15\n",
      "3461295/3461295 [==============================] - 55s 16us/step - loss: 1.1352 - val_loss: 1.1632\n",
      "Epoch 12/15\n",
      "3461295/3461295 [==============================] - 52s 15us/step - loss: 1.1361 - val_loss: 1.0519\n",
      "Epoch 13/15\n",
      "3461295/3461295 [==============================] - 52s 15us/step - loss: 1.1350 - val_loss: 1.0414\n",
      "Epoch 14/15\n",
      "3461295/3461295 [==============================] - 52s 15us/step - loss: 1.1346 - val_loss: 1.0793\n",
      "Epoch 15/15\n",
      "3461295/3461295 [==============================] - 52s 15us/step - loss: 1.1314 - val_loss: 1.0518\n",
      "Test Predictions MSE: 0.236295\n"
     ]
    }
   ],
   "source": [
    "nn_all = NN_Model(X_tr_nn_1.shape[1])\n",
    "nn_all.fit(np.concatenate([X_tr_nn_2, X_tr_nn_3], axis=0), np.concatenate([y_tr_2, y_tr_3], axis=0)\n",
    "           , epochs=15, batch_size=1024, verbose=1, shuffle=True, validation_data=(X_tr_nn_1, y_tr_1))\n",
    "\n",
    "nn_preds_test_1 = nn2.predict(X_te_nn, batch_size=512)\n",
    "nn_preds_test_2 = nn_all.predict(X_te_nn, batch_size=512)\n",
    "\n",
    "np.save(\"./Processed_data/nn_preds_test_1_7.npy\", nn_preds_test_1)\n",
    "np.save(\"./Processed_data/nn_preds_test_2_7.npy\", nn_preds_test_2)\n",
    "\n",
    "# let's see how different the predictions are\n",
    "print(\"Test Predictions MSE:\", mean_squared_error(nn_preds_test_1, nn_preds_test_2))\n",
    "\n",
    "# average our predictions\n",
    "nn_preds_test = (nn_preds_test_1 + nn_preds_test_2) / 2\n",
    "\n",
    "np.save(\"./Processed_data/nn_preds_test_3_7.npy\", nn_preds_test)"
   ]
  },
  {
   "cell_type": "code",
   "execution_count": 22,
   "metadata": {},
   "outputs": [
    {
     "data": {
      "text/html": [
       "<div>\n",
       "<style>\n",
       "    .dataframe thead tr:only-child th {\n",
       "        text-align: right;\n",
       "    }\n",
       "\n",
       "    .dataframe thead th {\n",
       "        text-align: left;\n",
       "    }\n",
       "\n",
       "    .dataframe tbody tr th {\n",
       "        vertical-align: top;\n",
       "    }\n",
       "</style>\n",
       "<table border=\"1\" class=\"dataframe\">\n",
       "  <thead>\n",
       "    <tr style=\"text-align: right;\">\n",
       "      <th></th>\n",
       "      <th>model</th>\n",
       "      <th>2</th>\n",
       "      <th>3</th>\n",
       "    </tr>\n",
       "  </thead>\n",
       "  <tbody>\n",
       "    <tr>\n",
       "      <th>0</th>\n",
       "      <td>linear</td>\n",
       "      <td>1.548105</td>\n",
       "      <td>1.130952</td>\n",
       "    </tr>\n",
       "    <tr>\n",
       "      <th>1</th>\n",
       "      <td>nn</td>\n",
       "      <td>1.353402</td>\n",
       "      <td>1.022426</td>\n",
       "    </tr>\n",
       "  </tbody>\n",
       "</table>\n",
       "</div>"
      ],
      "text/plain": [
       "    model         2         3\n",
       "0  linear  1.548105  1.130952\n",
       "1      nn  1.353402  1.022426"
      ]
     },
     "execution_count": 22,
     "metadata": {},
     "output_type": "execute_result"
    }
   ],
   "source": [
    "nn_results = [\"nn\", nn_2_score, nn_3_score ]\n",
    "mse_results.loc[1] = nn_results\n",
    "mse_results.to_pickle(\"./Processed_data/mse_results.pkl\")\n",
    "mse_results.head()"
   ]
  },
  {
   "cell_type": "code",
   "execution_count": 32,
   "metadata": {
    "collapsed": true
   },
   "outputs": [],
   "source": [
    "del(nn_all)"
   ]
  },
  {
   "cell_type": "markdown",
   "metadata": {},
   "source": [
    "## Model 3 : LightGBM"
   ]
  },
  {
   "cell_type": "code",
   "execution_count": 4,
   "metadata": {},
   "outputs": [
    {
     "data": {
      "text/plain": [
       "'X_tr_1 = pd.read_pickle(\"X_tr_1_8.pkl\")\\nX_tr_2 = pd.read_pickle(\"X_tr_2_8.pkl\")\\nX_tr_3 = pd.read_pickle(\"X_tr_3_8.pkl\")\\nX_test = pd.read_pickle(\"X_test_8.pkl\")'"
      ]
     },
     "execution_count": 4,
     "metadata": {},
     "output_type": "execute_result"
    }
   ],
   "source": [
    "categorical_columns = [\"item_id\", \"shop_id\", \"item_category_id\"]\n",
    "lgb_cols_to_drop = [\"month_number\"]\n",
    "\"\"\"X_tr_1 = pd.read_pickle(\"X_tr_1_8.pkl\")\n",
    "X_tr_2 = pd.read_pickle(\"X_tr_2_8.pkl\")\n",
    "X_tr_3 = pd.read_pickle(\"X_tr_3_8.pkl\")\n",
    "X_test = pd.read_pickle(\"X_test_8.pkl\")\"\"\""
   ]
  },
  {
   "cell_type": "code",
   "execution_count": 5,
   "metadata": {
    "collapsed": true
   },
   "outputs": [],
   "source": [
    "lgb_params = {\n",
    "    'feature_fraction': 0.75,\n",
    "    'metric': 'rmse',\n",
    "    'nthread':6,\n",
    "    'min_data_in_leaf': 32,\n",
    "    'bagging_fraction': 0.75,\n",
    "    'learning_rate': 0.03,\n",
    "    'objective': 'mse',\n",
    "    'bagging_seed': 1702,\n",
    "    'num_leaves': 2**8,\n",
    "    'bagging_freq':1,\n",
    "    'verbose':1\n",
    "    }"
   ]
  },
  {
   "cell_type": "code",
   "execution_count": 25,
   "metadata": {},
   "outputs": [
    {
     "name": "stderr",
     "output_type": "stream",
     "text": [
      "/home/minomi016/anaconda3/lib/python3.6/site-packages/lightgbm/basic.py:1040: UserWarning: Using categorical_feature in Dataset.\n",
      "  warnings.warn('Using categorical_feature in Dataset.')\n"
     ]
    },
    {
     "name": "stdout",
     "output_type": "stream",
     "text": [
      "LGB 2 MSE: 1.27016161376\n"
     ]
    }
   ],
   "source": [
    "lgb_model1 = lgb.train(lgb_params, lgb.Dataset(X_tr_1.drop(lgb_cols_to_drop, axis=1),\n",
    "                                               label=y_tr_1, categorical_feature=categorical_columns), 100)\n",
    "lgb_preds_2 = lgb_model1.predict(X_tr_2.drop(lgb_cols_to_drop, axis=1))\n",
    "\n",
    "lgb_2_score = mean_squared_error(y_tr_2, lgb_preds_2)\n",
    "print(\"LGB 2 MSE:\", lgb_2_score)\n",
    "\n",
    "np.save(\"./Processed_data/lgb_preds_2_7.npy\", lgb_preds_2)"
   ]
  },
  {
   "cell_type": "code",
   "execution_count": 26,
   "metadata": {},
   "outputs": [
    {
     "name": "stderr",
     "output_type": "stream",
     "text": [
      "/home/minomi016/anaconda3/lib/python3.6/site-packages/lightgbm/basic.py:1040: UserWarning: Using categorical_feature in Dataset.\n",
      "  warnings.warn('Using categorical_feature in Dataset.')\n",
      "/home/minomi016/anaconda3/lib/python3.6/site-packages/lightgbm/basic.py:685: UserWarning: categorical_feature in param dict is overridden.\n",
      "  warnings.warn('categorical_feature in param dict is overridden.')\n"
     ]
    },
    {
     "name": "stdout",
     "output_type": "stream",
     "text": [
      "LGB 3 MSE: 1.01071009675\n"
     ]
    }
   ],
   "source": [
    "lgb_model2 = lgb.train(lgb_params, lgb.Dataset(X_tr_2.drop(lgb_cols_to_drop, axis=1)\n",
    "                                               , label=y_tr_2, categorical_feature=categorical_columns), 100)\n",
    "lgb_preds_3 = lgb_model2.predict(X_tr_3.drop(lgb_cols_to_drop, axis=1))\n",
    "\n",
    "# score our models\n",
    "lgb_3_score = mean_squared_error(y_tr_3, lgb_preds_3)\n",
    "print(\"LGB 3 MSE:\", lgb_3_score)\n",
    "\n",
    "np.save(\"./Processed_data/lgb_preds_3_7.npy\", lgb_preds_3)"
   ]
  },
  {
   "cell_type": "code",
   "execution_count": 18,
   "metadata": {
    "collapsed": true
   },
   "outputs": [],
   "source": [
    "lgb_3_score = 1.01071009675\n",
    "lgb_2_score = 1.27016161376"
   ]
  },
  {
   "cell_type": "code",
   "execution_count": 33,
   "metadata": {
    "collapsed": true
   },
   "outputs": [],
   "source": [
    "del(lgb_model1, lgb_model2)"
   ]
  },
  {
   "cell_type": "code",
   "execution_count": 6,
   "metadata": {},
   "outputs": [
    {
     "name": "stderr",
     "output_type": "stream",
     "text": [
      "/home/minomi016/anaconda3/lib/python3.6/site-packages/lightgbm/basic.py:1040: UserWarning: Using categorical_feature in Dataset.\n",
      "  warnings.warn('Using categorical_feature in Dataset.')\n"
     ]
    }
   ],
   "source": [
    "lgb_model3 = lgb.train(lgb_params, lgb.Dataset(X_tr_3.drop(lgb_cols_to_drop, axis=1)\n",
    "                                               , label=y_tr_3, categorical_feature=categorical_columns), 100)\n"
   ]
  },
  {
   "cell_type": "code",
   "execution_count": 7,
   "metadata": {
    "scrolled": true
   },
   "outputs": [
    {
     "name": "stderr",
     "output_type": "stream",
     "text": [
      "/home/minomi016/anaconda3/lib/python3.6/site-packages/lightgbm/basic.py:1040: UserWarning: Using categorical_feature in Dataset.\n",
      "  warnings.warn('Using categorical_feature in Dataset.')\n",
      "/home/minomi016/anaconda3/lib/python3.6/site-packages/lightgbm/basic.py:685: UserWarning: categorical_feature in param dict is overridden.\n",
      "  warnings.warn('categorical_feature in param dict is overridden.')\n"
     ]
    }
   ],
   "source": [
    "lgb_model_all = lgb.train(lgb_params, lgb.Dataset(pd.concat([X_tr_1, X_tr_2, X_tr_3], axis=0) #.drop([], axis=1)\n",
    "                                               , label=np.concatenate([y_tr_1, y_tr_2, y_tr_3], axis=0)\n",
    "                                               , categorical_feature=categorical_columns + [\"month_number\"]), 100)"
   ]
  },
  {
   "cell_type": "code",
   "execution_count": 8,
   "metadata": {
    "collapsed": true
   },
   "outputs": [],
   "source": [
    "lgb_test_preds_2 = lgb_model_all.predict(X_test.drop([], axis=1))\n",
    "np.save(\"./Processed_data/lgb_test_preds_2_7.npy\", lgb_test_preds_2)\n",
    "\n",
    "lgb_test_preds_1 = lgb_model3.predict(X_test.drop(lgb_cols_to_drop, axis=1))\n",
    "np.save(\"./Processed_data/lgb_test_preds_1_7.npy\", lgb_test_preds_1)\n",
    "\n",
    "# average our test predictions\n",
    "lgb_test_preds = (lgb_test_preds_1 + lgb_test_preds_2) / 2\n",
    "np.save(\"./Processed_data/lgb_test_preds_7_avg.npy\", lgb_test_preds)"
   ]
  },
  {
   "cell_type": "code",
   "execution_count": 19,
   "metadata": {},
   "outputs": [
    {
     "data": {
      "text/html": [
       "<div>\n",
       "<style>\n",
       "    .dataframe thead tr:only-child th {\n",
       "        text-align: right;\n",
       "    }\n",
       "\n",
       "    .dataframe thead th {\n",
       "        text-align: left;\n",
       "    }\n",
       "\n",
       "    .dataframe tbody tr th {\n",
       "        vertical-align: top;\n",
       "    }\n",
       "</style>\n",
       "<table border=\"1\" class=\"dataframe\">\n",
       "  <thead>\n",
       "    <tr style=\"text-align: right;\">\n",
       "      <th></th>\n",
       "      <th>model</th>\n",
       "      <th>2</th>\n",
       "      <th>3</th>\n",
       "    </tr>\n",
       "  </thead>\n",
       "  <tbody>\n",
       "    <tr>\n",
       "      <th>0</th>\n",
       "      <td>linear</td>\n",
       "      <td>1.548105</td>\n",
       "      <td>1.130952</td>\n",
       "    </tr>\n",
       "    <tr>\n",
       "      <th>1</th>\n",
       "      <td>nn</td>\n",
       "      <td>1.353402</td>\n",
       "      <td>1.022426</td>\n",
       "    </tr>\n",
       "    <tr>\n",
       "      <th>4</th>\n",
       "      <td>extra trees</td>\n",
       "      <td>1.105885</td>\n",
       "      <td>0.801063</td>\n",
       "    </tr>\n",
       "    <tr>\n",
       "      <th>2</th>\n",
       "      <td>lgb</td>\n",
       "      <td>1.270162</td>\n",
       "      <td>1.010710</td>\n",
       "    </tr>\n",
       "  </tbody>\n",
       "</table>\n",
       "</div>"
      ],
      "text/plain": [
       "         model         2         3\n",
       "0       linear  1.548105  1.130952\n",
       "1           nn  1.353402  1.022426\n",
       "4  extra trees  1.105885  0.801063\n",
       "2          lgb  1.270162  1.010710"
      ]
     },
     "execution_count": 19,
     "metadata": {},
     "output_type": "execute_result"
    }
   ],
   "source": [
    "lgb_results = [\"lgb\", lgb_2_score,lgb_3_score]\n",
    "mse_results.loc[2] = lgb_results\n",
    "mse_results.head()"
   ]
  },
  {
   "cell_type": "markdown",
   "metadata": {},
   "source": [
    "## Model 4 : Extra Trees"
   ]
  },
  {
   "cell_type": "code",
   "execution_count": 4,
   "metadata": {
    "collapsed": true
   },
   "outputs": [],
   "source": [
    "et_cols_to_drop = [\"item_id\"]\n",
    "et_cols_to_drop = categorical_cols"
   ]
  },
  {
   "cell_type": "code",
   "execution_count": 5,
   "metadata": {
    "collapsed": true
   },
   "outputs": [],
   "source": [
    "et_1 = ExtraTreesRegressor(n_estimators=15, random_state=0, max_depth=35\n",
    "                           , min_impurity_split=1e-5, min_samples_leaf=30, n_jobs=-1, verbose=1)\n",
    "et_2 = ExtraTreesRegressor(n_estimators=15, random_state=0, max_depth=35\n",
    "                           , min_impurity_split=1e-5, min_samples_leaf=30, n_jobs=-1, verbose=1)\n",
    "et_3 = ExtraTreesRegressor(n_estimators=15, random_state=0, max_depth=35\n",
    "                           , min_impurity_split=1e-5, min_samples_leaf=30, n_jobs=-1, verbose=1)\n",
    "et_all = ExtraTreesRegressor(n_estimators=15, random_state=0, max_depth=35\n",
    "                           , min_impurity_split=1e-5, min_samples_leaf=30, n_jobs=-1, verbose=1)"
   ]
  },
  {
   "cell_type": "code",
   "execution_count": 17,
   "metadata": {
    "scrolled": true
   },
   "outputs": [
    {
     "name": "stderr",
     "output_type": "stream",
     "text": [
      "/home/minomi016/anaconda3/lib/python3.6/site-packages/sklearn/tree/tree.py:282: DeprecationWarning: The min_impurity_split parameter is deprecated and will be removed in version 0.21. Use the min_impurity_decrease parameter instead.\n",
      "  DeprecationWarning)\n",
      "/home/minomi016/anaconda3/lib/python3.6/site-packages/sklearn/tree/tree.py:282: DeprecationWarning: The min_impurity_split parameter is deprecated and will be removed in version 0.21. Use the min_impurity_decrease parameter instead.\n",
      "  DeprecationWarning)\n",
      "/home/minomi016/anaconda3/lib/python3.6/site-packages/sklearn/tree/tree.py:282: DeprecationWarning: The min_impurity_split parameter is deprecated and will be removed in version 0.21. Use the min_impurity_decrease parameter instead.\n",
      "  DeprecationWarning)\n",
      "/home/minomi016/anaconda3/lib/python3.6/site-packages/sklearn/tree/tree.py:282: DeprecationWarning: The min_impurity_split parameter is deprecated and will be removed in version 0.21. Use the min_impurity_decrease parameter instead.\n",
      "  DeprecationWarning)\n",
      "/home/minomi016/anaconda3/lib/python3.6/site-packages/sklearn/tree/tree.py:282: DeprecationWarning: The min_impurity_split parameter is deprecated and will be removed in version 0.21. Use the min_impurity_decrease parameter instead.\n",
      "  DeprecationWarning)\n",
      "/home/minomi016/anaconda3/lib/python3.6/site-packages/sklearn/tree/tree.py:282: DeprecationWarning: The min_impurity_split parameter is deprecated and will be removed in version 0.21. Use the min_impurity_decrease parameter instead.\n",
      "  DeprecationWarning)\n",
      "/home/minomi016/anaconda3/lib/python3.6/site-packages/sklearn/tree/tree.py:282: DeprecationWarning: The min_impurity_split parameter is deprecated and will be removed in version 0.21. Use the min_impurity_decrease parameter instead.\n",
      "  DeprecationWarning)\n",
      "/home/minomi016/anaconda3/lib/python3.6/site-packages/sklearn/tree/tree.py:282: DeprecationWarning: The min_impurity_split parameter is deprecated and will be removed in version 0.21. Use the min_impurity_decrease parameter instead.\n",
      "  DeprecationWarning)\n",
      "/home/minomi016/anaconda3/lib/python3.6/site-packages/sklearn/tree/tree.py:282: DeprecationWarning: The min_impurity_split parameter is deprecated and will be removed in version 0.21. Use the min_impurity_decrease parameter instead.\n",
      "  DeprecationWarning)\n",
      "/home/minomi016/anaconda3/lib/python3.6/site-packages/sklearn/tree/tree.py:282: DeprecationWarning: The min_impurity_split parameter is deprecated and will be removed in version 0.21. Use the min_impurity_decrease parameter instead.\n",
      "  DeprecationWarning)\n",
      "/home/minomi016/anaconda3/lib/python3.6/site-packages/sklearn/tree/tree.py:282: DeprecationWarning: The min_impurity_split parameter is deprecated and will be removed in version 0.21. Use the min_impurity_decrease parameter instead.\n",
      "  DeprecationWarning)\n",
      "/home/minomi016/anaconda3/lib/python3.6/site-packages/sklearn/tree/tree.py:282: DeprecationWarning: The min_impurity_split parameter is deprecated and will be removed in version 0.21. Use the min_impurity_decrease parameter instead.\n",
      "  DeprecationWarning)\n",
      "/home/minomi016/anaconda3/lib/python3.6/site-packages/sklearn/tree/tree.py:282: DeprecationWarning: The min_impurity_split parameter is deprecated and will be removed in version 0.21. Use the min_impurity_decrease parameter instead.\n",
      "  DeprecationWarning)\n",
      "/home/minomi016/anaconda3/lib/python3.6/site-packages/sklearn/tree/tree.py:282: DeprecationWarning: The min_impurity_split parameter is deprecated and will be removed in version 0.21. Use the min_impurity_decrease parameter instead.\n",
      "  DeprecationWarning)\n",
      "/home/minomi016/anaconda3/lib/python3.6/site-packages/sklearn/tree/tree.py:282: DeprecationWarning: The min_impurity_split parameter is deprecated and will be removed in version 0.21. Use the min_impurity_decrease parameter instead.\n",
      "  DeprecationWarning)\n",
      "[Parallel(n_jobs=-1)]: Done  15 out of  15 | elapsed:  8.0min finished\n"
     ]
    },
    {
     "name": "stdout",
     "output_type": "stream",
     "text": [
      "ET 2 MSE: 1.10588454115\n"
     ]
    },
    {
     "name": "stderr",
     "output_type": "stream",
     "text": [
      "[Parallel(n_jobs=4)]: Done  15 out of  15 | elapsed:    3.4s finished\n"
     ]
    }
   ],
   "source": [
    "et_1.fit(X_tr_1.drop(categorical_cols, axis=1), y_tr_1)\n",
    "et_preds_2 = et_1.predict(X_tr_2.drop(categorical_cols, axis=1))\n",
    "\n",
    "et_2_score = mean_squared_error(y_tr_2, et_preds_2)\n",
    "print(\"ET 2 MSE:\", et_2_score)\n",
    "\n",
    "np.save(\"./Processed_data/et_preds_2_7.npy\", et_preds_2)"
   ]
  },
  {
   "cell_type": "code",
   "execution_count": 18,
   "metadata": {
    "scrolled": true
   },
   "outputs": [
    {
     "name": "stderr",
     "output_type": "stream",
     "text": [
      "/home/minomi016/anaconda3/lib/python3.6/site-packages/sklearn/tree/tree.py:282: DeprecationWarning: The min_impurity_split parameter is deprecated and will be removed in version 0.21. Use the min_impurity_decrease parameter instead.\n",
      "  DeprecationWarning)\n",
      "/home/minomi016/anaconda3/lib/python3.6/site-packages/sklearn/tree/tree.py:282: DeprecationWarning: The min_impurity_split parameter is deprecated and will be removed in version 0.21. Use the min_impurity_decrease parameter instead.\n",
      "  DeprecationWarning)\n",
      "/home/minomi016/anaconda3/lib/python3.6/site-packages/sklearn/tree/tree.py:282: DeprecationWarning: The min_impurity_split parameter is deprecated and will be removed in version 0.21. Use the min_impurity_decrease parameter instead.\n",
      "  DeprecationWarning)\n",
      "/home/minomi016/anaconda3/lib/python3.6/site-packages/sklearn/tree/tree.py:282: DeprecationWarning: The min_impurity_split parameter is deprecated and will be removed in version 0.21. Use the min_impurity_decrease parameter instead.\n",
      "  DeprecationWarning)\n",
      "/home/minomi016/anaconda3/lib/python3.6/site-packages/sklearn/tree/tree.py:282: DeprecationWarning: The min_impurity_split parameter is deprecated and will be removed in version 0.21. Use the min_impurity_decrease parameter instead.\n",
      "  DeprecationWarning)\n",
      "/home/minomi016/anaconda3/lib/python3.6/site-packages/sklearn/tree/tree.py:282: DeprecationWarning: The min_impurity_split parameter is deprecated and will be removed in version 0.21. Use the min_impurity_decrease parameter instead.\n",
      "  DeprecationWarning)\n",
      "/home/minomi016/anaconda3/lib/python3.6/site-packages/sklearn/tree/tree.py:282: DeprecationWarning: The min_impurity_split parameter is deprecated and will be removed in version 0.21. Use the min_impurity_decrease parameter instead.\n",
      "  DeprecationWarning)\n",
      "/home/minomi016/anaconda3/lib/python3.6/site-packages/sklearn/tree/tree.py:282: DeprecationWarning: The min_impurity_split parameter is deprecated and will be removed in version 0.21. Use the min_impurity_decrease parameter instead.\n",
      "  DeprecationWarning)\n",
      "/home/minomi016/anaconda3/lib/python3.6/site-packages/sklearn/tree/tree.py:282: DeprecationWarning: The min_impurity_split parameter is deprecated and will be removed in version 0.21. Use the min_impurity_decrease parameter instead.\n",
      "  DeprecationWarning)\n",
      "/home/minomi016/anaconda3/lib/python3.6/site-packages/sklearn/tree/tree.py:282: DeprecationWarning: The min_impurity_split parameter is deprecated and will be removed in version 0.21. Use the min_impurity_decrease parameter instead.\n",
      "  DeprecationWarning)\n",
      "/home/minomi016/anaconda3/lib/python3.6/site-packages/sklearn/tree/tree.py:282: DeprecationWarning: The min_impurity_split parameter is deprecated and will be removed in version 0.21. Use the min_impurity_decrease parameter instead.\n",
      "  DeprecationWarning)\n",
      "/home/minomi016/anaconda3/lib/python3.6/site-packages/sklearn/tree/tree.py:282: DeprecationWarning: The min_impurity_split parameter is deprecated and will be removed in version 0.21. Use the min_impurity_decrease parameter instead.\n",
      "  DeprecationWarning)\n",
      "/home/minomi016/anaconda3/lib/python3.6/site-packages/sklearn/tree/tree.py:282: DeprecationWarning: The min_impurity_split parameter is deprecated and will be removed in version 0.21. Use the min_impurity_decrease parameter instead.\n",
      "  DeprecationWarning)\n",
      "/home/minomi016/anaconda3/lib/python3.6/site-packages/sklearn/tree/tree.py:282: DeprecationWarning: The min_impurity_split parameter is deprecated and will be removed in version 0.21. Use the min_impurity_decrease parameter instead.\n",
      "  DeprecationWarning)\n",
      "/home/minomi016/anaconda3/lib/python3.6/site-packages/sklearn/tree/tree.py:282: DeprecationWarning: The min_impurity_split parameter is deprecated and will be removed in version 0.21. Use the min_impurity_decrease parameter instead.\n",
      "  DeprecationWarning)\n",
      "[Parallel(n_jobs=-1)]: Done  15 out of  15 | elapsed:  7.5min finished\n"
     ]
    },
    {
     "name": "stdout",
     "output_type": "stream",
     "text": [
      "ET 3 MSE: 0.80106263575\n"
     ]
    },
    {
     "name": "stderr",
     "output_type": "stream",
     "text": [
      "[Parallel(n_jobs=4)]: Done  15 out of  15 | elapsed:    2.3s finished\n"
     ]
    }
   ],
   "source": [
    "et_2.fit(X_tr_2.drop(categorical_cols, axis=1), y_tr_2)\n",
    "# make predictions\n",
    "et_preds_3 = et_2.predict(X_tr_3.drop(categorical_cols, axis=1))\n",
    "\n",
    "et_3_score = mean_squared_error(y_tr_3, et_preds_3)\n",
    "print(\"ET 3 MSE:\", et_3_score)\n",
    "\n",
    "# save the predictions\n",
    "np.save(\"./Processed_data/et_preds_3_7.npy\", et_preds_3)"
   ]
  },
  {
   "cell_type": "code",
   "execution_count": 13,
   "metadata": {
    "collapsed": true
   },
   "outputs": [],
   "source": [
    "et_3_score = 0.80106263575\n",
    "et_2_score = 1.10588454115"
   ]
  },
  {
   "cell_type": "code",
   "execution_count": 6,
   "metadata": {
    "scrolled": true
   },
   "outputs": [
    {
     "name": "stderr",
     "output_type": "stream",
     "text": [
      "/home/minomi016/anaconda3/lib/python3.6/site-packages/sklearn/tree/tree.py:282: DeprecationWarning: The min_impurity_split parameter is deprecated and will be removed in version 0.21. Use the min_impurity_decrease parameter instead.\n",
      "  DeprecationWarning)\n",
      "/home/minomi016/anaconda3/lib/python3.6/site-packages/sklearn/tree/tree.py:282: DeprecationWarning: The min_impurity_split parameter is deprecated and will be removed in version 0.21. Use the min_impurity_decrease parameter instead.\n",
      "  DeprecationWarning)\n",
      "/home/minomi016/anaconda3/lib/python3.6/site-packages/sklearn/tree/tree.py:282: DeprecationWarning: The min_impurity_split parameter is deprecated and will be removed in version 0.21. Use the min_impurity_decrease parameter instead.\n",
      "  DeprecationWarning)\n",
      "/home/minomi016/anaconda3/lib/python3.6/site-packages/sklearn/tree/tree.py:282: DeprecationWarning: The min_impurity_split parameter is deprecated and will be removed in version 0.21. Use the min_impurity_decrease parameter instead.\n",
      "  DeprecationWarning)\n",
      "/home/minomi016/anaconda3/lib/python3.6/site-packages/sklearn/tree/tree.py:282: DeprecationWarning: The min_impurity_split parameter is deprecated and will be removed in version 0.21. Use the min_impurity_decrease parameter instead.\n",
      "  DeprecationWarning)\n",
      "/home/minomi016/anaconda3/lib/python3.6/site-packages/sklearn/tree/tree.py:282: DeprecationWarning: The min_impurity_split parameter is deprecated and will be removed in version 0.21. Use the min_impurity_decrease parameter instead.\n",
      "  DeprecationWarning)\n",
      "/home/minomi016/anaconda3/lib/python3.6/site-packages/sklearn/tree/tree.py:282: DeprecationWarning: The min_impurity_split parameter is deprecated and will be removed in version 0.21. Use the min_impurity_decrease parameter instead.\n",
      "  DeprecationWarning)\n",
      "/home/minomi016/anaconda3/lib/python3.6/site-packages/sklearn/tree/tree.py:282: DeprecationWarning: The min_impurity_split parameter is deprecated and will be removed in version 0.21. Use the min_impurity_decrease parameter instead.\n",
      "  DeprecationWarning)\n",
      "/home/minomi016/anaconda3/lib/python3.6/site-packages/sklearn/tree/tree.py:282: DeprecationWarning: The min_impurity_split parameter is deprecated and will be removed in version 0.21. Use the min_impurity_decrease parameter instead.\n",
      "  DeprecationWarning)\n",
      "/home/minomi016/anaconda3/lib/python3.6/site-packages/sklearn/tree/tree.py:282: DeprecationWarning: The min_impurity_split parameter is deprecated and will be removed in version 0.21. Use the min_impurity_decrease parameter instead.\n",
      "  DeprecationWarning)\n",
      "/home/minomi016/anaconda3/lib/python3.6/site-packages/sklearn/tree/tree.py:282: DeprecationWarning: The min_impurity_split parameter is deprecated and will be removed in version 0.21. Use the min_impurity_decrease parameter instead.\n",
      "  DeprecationWarning)\n",
      "/home/minomi016/anaconda3/lib/python3.6/site-packages/sklearn/tree/tree.py:282: DeprecationWarning: The min_impurity_split parameter is deprecated and will be removed in version 0.21. Use the min_impurity_decrease parameter instead.\n",
      "  DeprecationWarning)\n",
      "/home/minomi016/anaconda3/lib/python3.6/site-packages/sklearn/tree/tree.py:282: DeprecationWarning: The min_impurity_split parameter is deprecated and will be removed in version 0.21. Use the min_impurity_decrease parameter instead.\n",
      "  DeprecationWarning)\n",
      "/home/minomi016/anaconda3/lib/python3.6/site-packages/sklearn/tree/tree.py:282: DeprecationWarning: The min_impurity_split parameter is deprecated and will be removed in version 0.21. Use the min_impurity_decrease parameter instead.\n",
      "  DeprecationWarning)\n",
      "/home/minomi016/anaconda3/lib/python3.6/site-packages/sklearn/tree/tree.py:282: DeprecationWarning: The min_impurity_split parameter is deprecated and will be removed in version 0.21. Use the min_impurity_decrease parameter instead.\n",
      "  DeprecationWarning)\n",
      "[Parallel(n_jobs=-1)]: Done  15 out of  15 | elapsed:  5.6min finished\n",
      "[Parallel(n_jobs=4)]: Done  15 out of  15 | elapsed:    0.3s finished\n",
      "/home/minomi016/anaconda3/lib/python3.6/site-packages/sklearn/tree/tree.py:282: DeprecationWarning: The min_impurity_split parameter is deprecated and will be removed in version 0.21. Use the min_impurity_decrease parameter instead.\n",
      "  DeprecationWarning)\n",
      "/home/minomi016/anaconda3/lib/python3.6/site-packages/sklearn/tree/tree.py:282: DeprecationWarning: The min_impurity_split parameter is deprecated and will be removed in version 0.21. Use the min_impurity_decrease parameter instead.\n",
      "  DeprecationWarning)\n",
      "/home/minomi016/anaconda3/lib/python3.6/site-packages/sklearn/tree/tree.py:282: DeprecationWarning: The min_impurity_split parameter is deprecated and will be removed in version 0.21. Use the min_impurity_decrease parameter instead.\n",
      "  DeprecationWarning)\n",
      "/home/minomi016/anaconda3/lib/python3.6/site-packages/sklearn/tree/tree.py:282: DeprecationWarning: The min_impurity_split parameter is deprecated and will be removed in version 0.21. Use the min_impurity_decrease parameter instead.\n",
      "  DeprecationWarning)\n",
      "/home/minomi016/anaconda3/lib/python3.6/site-packages/sklearn/tree/tree.py:282: DeprecationWarning: The min_impurity_split parameter is deprecated and will be removed in version 0.21. Use the min_impurity_decrease parameter instead.\n",
      "  DeprecationWarning)\n",
      "/home/minomi016/anaconda3/lib/python3.6/site-packages/sklearn/tree/tree.py:282: DeprecationWarning: The min_impurity_split parameter is deprecated and will be removed in version 0.21. Use the min_impurity_decrease parameter instead.\n",
      "  DeprecationWarning)\n",
      "/home/minomi016/anaconda3/lib/python3.6/site-packages/sklearn/tree/tree.py:282: DeprecationWarning: The min_impurity_split parameter is deprecated and will be removed in version 0.21. Use the min_impurity_decrease parameter instead.\n",
      "  DeprecationWarning)\n",
      "/home/minomi016/anaconda3/lib/python3.6/site-packages/sklearn/tree/tree.py:282: DeprecationWarning: The min_impurity_split parameter is deprecated and will be removed in version 0.21. Use the min_impurity_decrease parameter instead.\n",
      "  DeprecationWarning)\n",
      "/home/minomi016/anaconda3/lib/python3.6/site-packages/sklearn/tree/tree.py:282: DeprecationWarning: The min_impurity_split parameter is deprecated and will be removed in version 0.21. Use the min_impurity_decrease parameter instead.\n",
      "  DeprecationWarning)\n",
      "/home/minomi016/anaconda3/lib/python3.6/site-packages/sklearn/tree/tree.py:282: DeprecationWarning: The min_impurity_split parameter is deprecated and will be removed in version 0.21. Use the min_impurity_decrease parameter instead.\n",
      "  DeprecationWarning)\n",
      "/home/minomi016/anaconda3/lib/python3.6/site-packages/sklearn/tree/tree.py:282: DeprecationWarning: The min_impurity_split parameter is deprecated and will be removed in version 0.21. Use the min_impurity_decrease parameter instead.\n",
      "  DeprecationWarning)\n",
      "/home/minomi016/anaconda3/lib/python3.6/site-packages/sklearn/tree/tree.py:282: DeprecationWarning: The min_impurity_split parameter is deprecated and will be removed in version 0.21. Use the min_impurity_decrease parameter instead.\n",
      "  DeprecationWarning)\n",
      "/home/minomi016/anaconda3/lib/python3.6/site-packages/sklearn/tree/tree.py:282: DeprecationWarning: The min_impurity_split parameter is deprecated and will be removed in version 0.21. Use the min_impurity_decrease parameter instead.\n",
      "  DeprecationWarning)\n",
      "/home/minomi016/anaconda3/lib/python3.6/site-packages/sklearn/tree/tree.py:282: DeprecationWarning: The min_impurity_split parameter is deprecated and will be removed in version 0.21. Use the min_impurity_decrease parameter instead.\n",
      "  DeprecationWarning)\n",
      "/home/minomi016/anaconda3/lib/python3.6/site-packages/sklearn/tree/tree.py:282: DeprecationWarning: The min_impurity_split parameter is deprecated and will be removed in version 0.21. Use the min_impurity_decrease parameter instead.\n",
      "  DeprecationWarning)\n",
      "[Parallel(n_jobs=-1)]: Done  15 out of  15 | elapsed: 36.8min finished\n"
     ]
    },
    {
     "data": {
      "text/plain": [
       "ExtraTreesRegressor(bootstrap=False, criterion='mse', max_depth=35,\n",
       "          max_features='auto', max_leaf_nodes=None,\n",
       "          min_impurity_decrease=0.0, min_impurity_split=1e-05,\n",
       "          min_samples_leaf=30, min_samples_split=2,\n",
       "          min_weight_fraction_leaf=0.0, n_estimators=15, n_jobs=-1,\n",
       "          oob_score=False, random_state=0, verbose=1, warm_start=False)"
      ]
     },
     "execution_count": 6,
     "metadata": {},
     "output_type": "execute_result"
    }
   ],
   "source": [
    "et_3.fit(X_tr_3.drop(categorical_cols, axis=1), y_tr_3)\n",
    "et_test_preds_1 = et_3.predict(X_test.drop(categorical_cols, axis=1))\n",
    "np.save(\"./Processed_data/et_test_preds_1_7.npy\", et_test_preds_1)\n",
    "\n",
    "et_all.fit(pd.concat([X_tr_1, X_tr_2, X_tr_3], axis=0).drop(categorical_cols, axis=1)\n",
    "         , np.concatenate([y_tr_1, y_tr_2, y_tr_3], axis=0))"
   ]
  },
  {
   "cell_type": "code",
   "execution_count": 7,
   "metadata": {},
   "outputs": [
    {
     "name": "stderr",
     "output_type": "stream",
     "text": [
      "[Parallel(n_jobs=4)]: Done  15 out of  15 | elapsed:    0.3s finished\n"
     ]
    }
   ],
   "source": [
    "et_test_preds_2 = et_all.predict(X_test.drop(categorical_cols, axis=1))\n",
    "np.save(\"./Processed_data/et_test_preds_2_7.npy\", et_test_preds_2)\n",
    "\n",
    "# average our predictions\n",
    "et_test_preds_3 = (et_test_preds_1 + et_test_preds_2) / 2\n",
    "np.save(\"./Processed_data/et_test_preds_7_avg.npy\", et_test_preds_3)"
   ]
  },
  {
   "cell_type": "code",
   "execution_count": 20,
   "metadata": {},
   "outputs": [
    {
     "data": {
      "text/html": [
       "<div>\n",
       "<style>\n",
       "    .dataframe thead tr:only-child th {\n",
       "        text-align: right;\n",
       "    }\n",
       "\n",
       "    .dataframe thead th {\n",
       "        text-align: left;\n",
       "    }\n",
       "\n",
       "    .dataframe tbody tr th {\n",
       "        vertical-align: top;\n",
       "    }\n",
       "</style>\n",
       "<table border=\"1\" class=\"dataframe\">\n",
       "  <thead>\n",
       "    <tr style=\"text-align: right;\">\n",
       "      <th></th>\n",
       "      <th>model</th>\n",
       "      <th>2</th>\n",
       "      <th>3</th>\n",
       "    </tr>\n",
       "  </thead>\n",
       "  <tbody>\n",
       "    <tr>\n",
       "      <th>0</th>\n",
       "      <td>linear</td>\n",
       "      <td>1.548105</td>\n",
       "      <td>1.130952</td>\n",
       "    </tr>\n",
       "    <tr>\n",
       "      <th>1</th>\n",
       "      <td>nn</td>\n",
       "      <td>1.353402</td>\n",
       "      <td>1.022426</td>\n",
       "    </tr>\n",
       "    <tr>\n",
       "      <th>4</th>\n",
       "      <td>extra trees</td>\n",
       "      <td>1.105885</td>\n",
       "      <td>0.801063</td>\n",
       "    </tr>\n",
       "    <tr>\n",
       "      <th>2</th>\n",
       "      <td>lgb</td>\n",
       "      <td>1.270162</td>\n",
       "      <td>1.010710</td>\n",
       "    </tr>\n",
       "    <tr>\n",
       "      <th>3</th>\n",
       "      <td>extra trees</td>\n",
       "      <td>1.105885</td>\n",
       "      <td>0.801063</td>\n",
       "    </tr>\n",
       "  </tbody>\n",
       "</table>\n",
       "</div>"
      ],
      "text/plain": [
       "         model         2         3\n",
       "0       linear  1.548105  1.130952\n",
       "1           nn  1.353402  1.022426\n",
       "4  extra trees  1.105885  0.801063\n",
       "2          lgb  1.270162  1.010710\n",
       "3  extra trees  1.105885  0.801063"
      ]
     },
     "execution_count": 20,
     "metadata": {},
     "output_type": "execute_result"
    }
   ],
   "source": [
    "et_results = [\"extra trees\", et_2_score, et_3_score ]\n",
    "mse_results.loc[3] = et_results\n",
    "mse_results.to_pickle(\"./Processed_data/mse_results.pkl\")\n",
    "mse_results.head()"
   ]
  },
  {
   "cell_type": "code",
   "execution_count": 16,
   "metadata": {},
   "outputs": [
    {
     "name": "stdout",
     "output_type": "stream",
     "text": [
      "Feature ranking:\n",
      "1. feature 1 (0.227132) - target_item_lag_1\n",
      "2. feature 0 (0.211514) - target_lag_1\n",
      "3. feature 4 (0.040875) - target_item_lag_2\n",
      "4. feature 6 (0.038302) - target_lag_3\n",
      "5. feature 2 (0.037493) - target_shop_lag_1\n",
      "6. feature 3 (0.035962) - target_lag_2\n",
      "7. feature 7 (0.024722) - target_item_lag_3\n",
      "8. feature 5 (0.023457) - target_shop_lag_2\n",
      "9. feature 36 (0.023061) - item_name_len\n",
      "10. feature 37 (0.019296) - item_name_wc\n",
      "11. feature 38 (0.014286) - item_name_tfidf_0\n",
      "12. feature 81 (0.014024) - shop_name_tfidf_10\n",
      "13. feature 55 (0.012476) - item_category_name_len\n",
      "14. feature 52 (0.012097) - item_name_tfidf_21\n",
      "15. feature 60 (0.011078) - item_category_name_tfidf_6\n",
      "16. feature 8 (0.011056) - target_shop_lag_3\n",
      "17. feature 50 (0.009954) - item_name_tfidf_16\n",
      "18. feature 73 (0.008505) - shop_name_len\n",
      "19. feature 35 (0.008501) - target_shop_lag_12\n",
      "20. feature 17 (0.007936) - target_shop_lag_6\n",
      "21. feature 64 (0.007636) - item_category_name_tfidf_13\n",
      "22. feature 11 (0.007410) - target_shop_lag_4\n",
      "23. feature 65 (0.007214) - item_category_name_tfidf_14\n",
      "24. feature 31 (0.007049) - target_item_lag_11\n",
      "25. feature 72 (0.006897) - item_category_name_tfidf_24\n",
      "26. feature 25 (0.006671) - target_item_lag_9\n",
      "27. feature 74 (0.006671) - shop_name_wc\n",
      "28. feature 20 (0.006586) - target_shop_lag_7\n",
      "29. feature 28 (0.006551) - target_item_lag_10\n",
      "30. feature 12 (0.006372) - target_lag_5\n",
      "31. feature 90 (0.006151) - shop_name_tfidf_21\n",
      "32. feature 14 (0.005905) - target_shop_lag_5\n",
      "33. feature 66 (0.005882) - item_category_name_tfidf_16\n",
      "34. feature 22 (0.005694) - target_item_lag_8\n",
      "35. feature 48 (0.005680) - item_name_tfidf_12\n",
      "36. feature 23 (0.005267) - target_shop_lag_8\n",
      "37. feature 70 (0.005069) - item_category_name_tfidf_22\n",
      "38. feature 54 (0.004994) - item_name_tfidf_24\n",
      "39. feature 9 (0.004917) - target_lag_4\n",
      "40. feature 24 (0.004749) - target_lag_9\n",
      "41. feature 86 (0.004698) - shop_name_tfidf_17\n",
      "42. feature 15 (0.004570) - target_lag_6\n",
      "43. feature 43 (0.004465) - item_name_tfidf_7\n",
      "44. feature 44 (0.004197) - item_name_tfidf_8\n",
      "45. feature 88 (0.004193) - shop_name_tfidf_19\n",
      "46. feature 32 (0.003873) - target_shop_lag_11\n",
      "47. feature 93 (0.003362) - shop_name_tfidf_24\n",
      "48. feature 47 (0.003311) - item_name_tfidf_11\n",
      "49. feature 78 (0.003254) - shop_name_tfidf_7\n",
      "50. feature 18 (0.003085) - target_lag_7\n",
      "51. feature 16 (0.002821) - target_item_lag_6\n",
      "52. feature 79 (0.002362) - shop_name_tfidf_8\n",
      "53. feature 29 (0.002161) - target_shop_lag_10\n",
      "54. feature 21 (0.002144) - target_lag_8\n",
      "55. feature 13 (0.002086) - target_item_lag_5\n",
      "56. feature 26 (0.002063) - target_shop_lag_9\n",
      "57. feature 75 (0.002028) - shop_name_tfidf_0\n",
      "58. feature 33 (0.002005) - target_lag_12\n",
      "59. feature 76 (0.001960) - shop_name_tfidf_2\n",
      "60. feature 10 (0.001684) - target_item_lag_4\n",
      "61. feature 56 (0.001670) - item_category_name_tfidf_0\n",
      "62. feature 69 (0.001652) - item_category_name_tfidf_21\n",
      "63. feature 89 (0.001591) - shop_name_tfidf_20\n",
      "64. feature 59 (0.001572) - item_category_name_tfidf_3\n",
      "65. feature 51 (0.001520) - item_name_tfidf_20\n",
      "66. feature 27 (0.001510) - target_lag_10\n",
      "67. feature 19 (0.001459) - target_item_lag_7\n",
      "68. feature 67 (0.001307) - item_category_name_tfidf_17\n",
      "69. feature 30 (0.001010) - target_lag_11\n",
      "70. feature 34 (0.000929) - target_item_lag_12\n",
      "71. feature 68 (0.000857) - item_category_name_tfidf_20\n",
      "72. feature 57 (0.000808) - item_category_name_tfidf_1\n",
      "73. feature 71 (0.000798) - item_category_name_tfidf_23\n",
      "74. feature 87 (0.000737) - shop_name_tfidf_18\n",
      "75. feature 80 (0.000715) - shop_name_tfidf_9\n",
      "76. feature 61 (0.000681) - item_category_name_tfidf_8\n",
      "77. feature 49 (0.000680) - item_name_tfidf_15\n",
      "78. feature 41 (0.000586) - item_name_tfidf_3\n",
      "79. feature 62 (0.000535) - item_category_name_tfidf_9\n",
      "80. feature 82 (0.000501) - shop_name_tfidf_13\n",
      "81. feature 85 (0.000487) - shop_name_tfidf_16\n",
      "82. feature 58 (0.000451) - item_category_name_tfidf_2\n",
      "83. feature 40 (0.000398) - item_name_tfidf_2\n",
      "84. feature 39 (0.000390) - item_name_tfidf_1\n",
      "85. feature 91 (0.000327) - shop_name_tfidf_22\n",
      "86. feature 53 (0.000319) - item_name_tfidf_22\n",
      "87. feature 92 (0.000299) - shop_name_tfidf_23\n",
      "88. feature 46 (0.000161) - item_name_tfidf_10\n",
      "89. feature 83 (0.000144) - shop_name_tfidf_14\n",
      "90. feature 77 (0.000126) - shop_name_tfidf_4\n",
      "91. feature 84 (0.000113) - shop_name_tfidf_15\n",
      "92. feature 63 (0.000096) - item_category_name_tfidf_11\n",
      "93. feature 42 (0.000082) - item_name_tfidf_4\n",
      "94. feature 45 (0.000074) - item_name_tfidf_9\n"
     ]
    },
    {
     "data": {
      "image/png": "[encoded data removed]",
      "text/plain": [
       "<matplotlib.figure.Figure at 0x7fd6a1784ba8>"
      ]
     },
     "metadata": {},
     "output_type": "display_data"
    }
   ],
   "source": [
    "ranked_list = feature_importance(et_all, X_tr_1.drop(categorical_cols, axis=1))"
   ]
  },
  {
   "cell_type": "code",
   "execution_count": 17,
   "metadata": {
    "collapsed": true
   },
   "outputs": [
    {
     "data": {
      "text/plain": [
       "['item_category_name_tfidf_8',\n",
       " 'item_name_tfidf_15',\n",
       " 'item_name_tfidf_3',\n",
       " 'item_category_name_tfidf_9',\n",
       " 'shop_name_tfidf_13',\n",
       " 'shop_name_tfidf_16',\n",
       " 'item_category_name_tfidf_2',\n",
       " 'item_name_tfidf_2',\n",
       " 'item_name_tfidf_1',\n",
       " 'shop_name_tfidf_22',\n",
       " 'item_name_tfidf_22',\n",
       " 'shop_name_tfidf_23',\n",
       " 'item_name_tfidf_10',\n",
       " 'shop_name_tfidf_14',\n",
       " 'shop_name_tfidf_4',\n",
       " 'shop_name_tfidf_15',\n",
       " 'item_category_name_tfidf_11',\n",
       " 'item_name_tfidf_4',\n",
       " 'item_name_tfidf_9']"
      ]
     },
     "execution_count": 17,
     "metadata": {},
     "output_type": "execute_result"
    }
   ],
   "source": [
    "cols_to_drop = ranked_list[75:]\n",
    "matching = [s for s in cols_to_drop if (\"lag_\" not in s)]\n",
    "matching"
   ]
  },
  {
   "cell_type": "code",
   "execution_count": 5,
   "metadata": {
    "collapsed": true
   },
   "outputs": [],
   "source": [
    "matching = ['item_category_name_tfidf_8',\n",
    " 'item_name_tfidf_15',\n",
    " 'item_name_tfidf_3',\n",
    " 'item_category_name_tfidf_9',\n",
    " 'shop_name_tfidf_13',\n",
    " 'shop_name_tfidf_16',\n",
    " 'item_category_name_tfidf_2',\n",
    " 'item_name_tfidf_2',\n",
    " 'item_name_tfidf_1',\n",
    " 'shop_name_tfidf_22',\n",
    " 'item_name_tfidf_22',\n",
    " 'shop_name_tfidf_23',\n",
    " 'item_name_tfidf_10',\n",
    " 'shop_name_tfidf_14',\n",
    " 'shop_name_tfidf_4',\n",
    " 'shop_name_tfidf_15',\n",
    " 'item_category_name_tfidf_11',\n",
    " 'item_name_tfidf_4',\n",
    " 'item_name_tfidf_9']"
   ]
  },
  {
   "cell_type": "markdown",
   "metadata": {},
   "source": [
    "## Stack level 2 Model"
   ]
  },
  {
   "cell_type": "markdown",
   "metadata": {},
   "source": [
    "Add Model Level 1 result for data process for stack level 2 "
   ]
  },
  {
   "cell_type": "code",
   "execution_count": 6,
   "metadata": {},
   "outputs": [],
   "source": [
    "nn_preds_2 = np.load(\"./Processed_data/nn_preds_2_7.npy\")\n",
    "nn_preds_3 = np.load(\"./Processed_data/nn_preds_3_7.npy\")\n",
    "nn_preds_test = np.load(\"./Processed_data/nn_preds_test_3_7.npy\")\n",
    "\n",
    "lm_preds2 = np.load(\"./Processed_data/lm_preds2_7.npy\")\n",
    "lm_preds3 = np.load(\"./Processed_data/lm_preds3_7.npy\")\n",
    "lm_preds_te = np.load(\"./Processed_data/lm_preds_te_avg_7.npy\")\n",
    "\n",
    "lgb_test_preds = np.load(\"./Processed_data/lgb_test_preds_7_avg.npy\")\n",
    "lgb_preds_3 = np.load(\"./Processed_data/lgb_preds_3_7.npy\")\n",
    "lgb_preds_2 = np.load(\"./Processed_data/lgb_preds_2_7.npy\")\n",
    "\n",
    "et_test_preds_3 = np.load(\"./Processed_data/et_test_preds_7_avg.npy\")\n",
    "et_preds_3 = np.load(\"./Processed_data/et_preds_3_7.npy\")\n",
    "et_preds_2 = np.load(\"./Processed_data/et_preds_2_7.npy\")\n"
   ]
  },
  {
   "cell_type": "code",
   "execution_count": 7,
   "metadata": {
    "collapsed": true
   },
   "outputs": [],
   "source": [
    "X_tr_2['lgb_7'] = lgb_preds_2.clip(*[-1,25])\n",
    "X_tr_2['nn_7'] = nn_preds_2.clip(*[-1,25])\n",
    "X_tr_2['lm_7'] = lm_preds2.clip(*[-1,25])\n",
    "X_tr_2['et_7'] = et_preds_2.clip(*[-1,25])\n",
    "\n",
    "X_tr_3['lgb_7'] = lgb_preds_3.clip(*[-1,25])\n",
    "X_tr_3['nn_7'] = nn_preds_3.clip(*[-1,25])\n",
    "X_tr_3['lm_7'] = lm_preds3.clip(*[-1,25])\n",
    "X_tr_3['et_7'] = et_preds_3.clip(*[-1,25])\n",
    "\n",
    "X_test['lgb_7'] = lgb_test_preds.clip(*[-1,25])\n",
    "X_test['nn_7'] = nn_preds_test.clip(*[-1,25])\n",
    "X_test['lm_7'] = lm_preds_te.clip(*[-1,25])\n",
    "X_test['et_7'] = et_test_preds_3.clip(*[-1,25])"
   ]
  },
  {
   "cell_type": "code",
   "execution_count": 10,
   "metadata": {},
   "outputs": [
    {
     "name": "stdout",
     "output_type": "stream",
     "text": [
      "y_tr_2: (1846931,)\n",
      "y_tr_3: (1614364,)\n"
     ]
    }
   ],
   "source": [
    "y_tr_3 = np.load(\"./Process_data/y_tr_3.npy\")\n",
    "y_tr_2 = np.load(\"./Process_data/y_tr_2.npy\")\n",
    "y_tr_3 = y_tr_3.clip(*[0,25])\n",
    "y_tr_2 = y_tr_2.clip(*[0,25])\n",
    "\n",
    "print(\"y_tr_2:\", y_tr_2.shape)\n",
    "print(\"y_tr_3:\", y_tr_3.shape)\n",
    "\n",
    "# create our targets - since each model was used to predict the other dataset we reverse our targets\n",
    "y_train = np.squeeze(np.concatenate([y_tr_2, y_tr_3], axis=0)).clip(*[0,25])"
   ]
  },
  {
   "cell_type": "code",
   "execution_count": 11,
   "metadata": {},
   "outputs": [
    {
     "name": "stdout",
     "output_type": "stream",
     "text": [
      "Grouped Columns: 82\n",
      "Total Columns: 83\n"
     ]
    }
   ],
   "source": [
    "X_tr_2.drop(matching, axis=1, inplace=True)\n",
    "X_tr_3.drop(matching, axis=1, inplace=True)\n",
    "X_test.drop(matching, axis=1, inplace=True)\n",
    "\n",
    "lag_cols = [s for s in X_tr_2.columns if \"lag_\" in s]\n",
    "id_cols = [s for s in X_tr_2.columns if \"_id\" in s]\n",
    "text_cols = [s for s in X_tr_2.columns if (\"tfidf\" in s) or (\"_wc\" in s)  or (\"_len\" in s) ]\n",
    "pred_cols = [s for s in X_tr_2.columns if ((\"_0\" in s) or (\"_7\" in s)) and ('lag' not in s) and ('tfidf' not in s) and (s != \"m_5\")]\n",
    "\n",
    "num_grouped_cols = len(lag_cols) + len(id_cols) + len(text_cols) + len(pred_cols)\n",
    "\n",
    "print(\"Grouped Columns:\", num_grouped_cols)\n",
    "print(\"Total Columns:\", len(X_tr_2.columns))"
   ]
  },
  {
   "cell_type": "code",
   "execution_count": 12,
   "metadata": {},
   "outputs": [
    {
     "name": "stdout",
     "output_type": "stream",
     "text": [
      "X_train: (3461295, 83)\n",
      "y_train: (3461295,)\n",
      "X_test: (214200, 83)\n"
     ]
    }
   ],
   "source": [
    "X_train = pd.concat([X_tr_2, X_tr_3], axis=0)\n",
    "\n",
    "print(\"X_train:\", X_train.shape)\n",
    "print(\"y_train:\", y_train.shape)\n",
    "print(\"X_test:\",X_test.shape)"
   ]
  },
  {
   "cell_type": "code",
   "execution_count": 13,
   "metadata": {
    "collapsed": true
   },
   "outputs": [],
   "source": [
    "X_train.to_pickle(\"./Process_data/X_train_level_2.pkl\")\n",
    "X_tr_2.to_pickle(\"./Process_data/X_tr_2_level_2.pkl\")\n",
    "X_tr_3.to_pickle(\"./Process_data/X_tr_3_level_2.pkl\")\n",
    "X_test.to_pickle(\"./Process_data/X_test_level_2.pkl\")\n",
    "\n",
    "np.save(\"./Process_data/y_train_level_2.npy\", y_train)\n",
    "np.save(\"./Process_data/y_tr_2_level_2.npy\", y_tr_2)\n",
    "np.save(\"./Process_data/y_tr_3_level_2.npy\", y_tr_3)"
   ]
  },
  {
   "cell_type": "code",
   "execution_count": 13,
   "metadata": {
    "collapsed": true
   },
   "outputs": [],
   "source": [
    "X_train = pd.read_pickle(\"./Process_data/X_train_level_2.pkl\")\n",
    "X_tr_2 = pd.read_pickle(\"./Process_data/X_tr_2_level_2.pkl\")\n",
    "X_tr_3 = pd.read_pickle(\"./Process_data/X_tr_3_level_2.pkl\")\n",
    "X_test = pd.read_pickle(\"./Process_data/X_test_level_2.pkl\")\n",
    "\n",
    "y_train = np.load(\"./Process_data/y_train_level_2.npy\", y_train)\n",
    "y_tr_2 = np.load(\"./Process_data/y_tr_2_level_2.npy\", y_tr_2)\n",
    "y_tr_3 = np.load(\"./Process_data/y_tr_3_level_2.npy\", y_tr_3)"
   ]
  },
  {
   "cell_type": "markdown",
   "metadata": {},
   "source": [
    "##  Model 1 : LGB Regressor"
   ]
  },
  {
   "cell_type": "code",
   "execution_count": 15,
   "metadata": {},
   "outputs": [],
   "source": [
    "lgb_drop_cols = []"
   ]
  },
  {
   "cell_type": "code",
   "execution_count": 16,
   "metadata": {},
   "outputs": [
    {
     "name": "stderr",
     "output_type": "stream",
     "text": [
      "/home/minomi016/anaconda3/lib/python3.6/site-packages/lightgbm/basic.py:1040: UserWarning: Using categorical_feature in Dataset.\n",
      "  warnings.warn('Using categorical_feature in Dataset.')\n"
     ]
    }
   ],
   "source": [
    "# make this tree shallower\n",
    "lgb_params = {\n",
    "                'feature_fraction': .75,\n",
    "                'metric': 'mse',\n",
    "                'max_depth': 20,\n",
    "                'nthread':6, \n",
    "                'min_data_in_leaf': 20, \n",
    "                'bagging_fraction': 0.75, \n",
    "                'boosting_type': 'gbdt',\n",
    "                'learning_rate': 0.03, \n",
    "                'objective': 'mse', \n",
    "                'application': 'regression',\n",
    "                'objective': 'regression',\n",
    "                'bagging_seed': 2407, \n",
    "                'num_leaves': 2**9,\n",
    "                'bagging_freq':1,\n",
    "                'verbose':1,\n",
    "              }\n",
    "\n",
    "lgb_stacked2 = lgb.train(lgb_params, lgb.Dataset(X_tr_2.drop(lgb_drop_cols, axis=1)\n",
    "                                                 , label=y_tr_2, categorical_feature=id_cols), 100)"
   ]
  },
  {
   "cell_type": "code",
   "execution_count": 17,
   "metadata": {},
   "outputs": [
    {
     "name": "stdout",
     "output_type": "stream",
     "text": [
      "LGB MSE: 0.915895506261\n",
      "LGB Clipped MSE: 0.915894816801\n"
     ]
    }
   ],
   "source": [
    "lgb2_train_preds_3 = lgb_stacked2.predict(X_tr_3.drop(lgb_drop_cols, axis=1))\n",
    "\n",
    "lgb_mse = mean_squared_error(y_tr_3, lgb2_train_preds_3)\n",
    "lgb_mse_clipped = mean_squared_error(y_tr_3, lgb2_train_preds_3.clip(*[0,25]))\n",
    "\n",
    "print(\"LGB MSE:\", lgb_mse)\n",
    "print(\"LGB Clipped MSE:\", lgb_mse_clipped)"
   ]
  },
  {
   "cell_type": "code",
   "execution_count": 24,
   "metadata": {
    "scrolled": true
   },
   "outputs": [
    {
     "data": {
      "text/html": [
       "<div>\n",
       "<style>\n",
       "    .dataframe thead tr:only-child th {\n",
       "        text-align: right;\n",
       "    }\n",
       "\n",
       "    .dataframe thead th {\n",
       "        text-align: left;\n",
       "    }\n",
       "\n",
       "    .dataframe tbody tr th {\n",
       "        vertical-align: top;\n",
       "    }\n",
       "</style>\n",
       "<table border=\"1\" class=\"dataframe\">\n",
       "  <thead>\n",
       "    <tr style=\"text-align: right;\">\n",
       "      <th></th>\n",
       "      <th>col</th>\n",
       "      <th>importance</th>\n",
       "    </tr>\n",
       "  </thead>\n",
       "  <tbody>\n",
       "    <tr>\n",
       "      <th>52</th>\n",
       "      <td>item_category_name_tfidf_0</td>\n",
       "      <td>3</td>\n",
       "    </tr>\n",
       "    <tr>\n",
       "      <th>63</th>\n",
       "      <td>item_category_name_tfidf_23</td>\n",
       "      <td>4</td>\n",
       "    </tr>\n",
       "    <tr>\n",
       "      <th>68</th>\n",
       "      <td>shop_name_tfidf_2</td>\n",
       "      <td>4</td>\n",
       "    </tr>\n",
       "    <tr>\n",
       "      <th>59</th>\n",
       "      <td>item_category_name_tfidf_17</td>\n",
       "      <td>6</td>\n",
       "    </tr>\n",
       "    <tr>\n",
       "      <th>71</th>\n",
       "      <td>shop_name_tfidf_9</td>\n",
       "      <td>10</td>\n",
       "    </tr>\n",
       "    <tr>\n",
       "      <th>60</th>\n",
       "      <td>item_category_name_tfidf_20</td>\n",
       "      <td>13</td>\n",
       "    </tr>\n",
       "    <tr>\n",
       "      <th>67</th>\n",
       "      <td>shop_name_tfidf_0</td>\n",
       "      <td>20</td>\n",
       "    </tr>\n",
       "    <tr>\n",
       "      <th>61</th>\n",
       "      <td>item_category_name_tfidf_21</td>\n",
       "      <td>20</td>\n",
       "    </tr>\n",
       "    <tr>\n",
       "      <th>57</th>\n",
       "      <td>item_category_name_tfidf_14</td>\n",
       "      <td>25</td>\n",
       "    </tr>\n",
       "    <tr>\n",
       "      <th>64</th>\n",
       "      <td>item_category_name_tfidf_24</td>\n",
       "      <td>27</td>\n",
       "    </tr>\n",
       "    <tr>\n",
       "      <th>74</th>\n",
       "      <td>shop_name_tfidf_18</td>\n",
       "      <td>29</td>\n",
       "    </tr>\n",
       "    <tr>\n",
       "      <th>50</th>\n",
       "      <td>item_name_tfidf_24</td>\n",
       "      <td>42</td>\n",
       "    </tr>\n",
       "    <tr>\n",
       "      <th>48</th>\n",
       "      <td>item_name_tfidf_20</td>\n",
       "      <td>43</td>\n",
       "    </tr>\n",
       "    <tr>\n",
       "      <th>73</th>\n",
       "      <td>shop_name_tfidf_17</td>\n",
       "      <td>43</td>\n",
       "    </tr>\n",
       "    <tr>\n",
       "      <th>69</th>\n",
       "      <td>shop_name_tfidf_7</td>\n",
       "      <td>49</td>\n",
       "    </tr>\n",
       "    <tr>\n",
       "      <th>53</th>\n",
       "      <td>item_category_name_tfidf_1</td>\n",
       "      <td>50</td>\n",
       "    </tr>\n",
       "    <tr>\n",
       "      <th>42</th>\n",
       "      <td>item_name_tfidf_0</td>\n",
       "      <td>53</td>\n",
       "    </tr>\n",
       "    <tr>\n",
       "      <th>76</th>\n",
       "      <td>shop_name_tfidf_20</td>\n",
       "      <td>55</td>\n",
       "    </tr>\n",
       "    <tr>\n",
       "      <th>75</th>\n",
       "      <td>shop_name_tfidf_19</td>\n",
       "      <td>69</td>\n",
       "    </tr>\n",
       "    <tr>\n",
       "      <th>78</th>\n",
       "      <td>shop_name_tfidf_24</td>\n",
       "      <td>72</td>\n",
       "    </tr>\n",
       "    <tr>\n",
       "      <th>54</th>\n",
       "      <td>item_category_name_tfidf_3</td>\n",
       "      <td>79</td>\n",
       "    </tr>\n",
       "    <tr>\n",
       "      <th>70</th>\n",
       "      <td>shop_name_tfidf_8</td>\n",
       "      <td>88</td>\n",
       "    </tr>\n",
       "    <tr>\n",
       "      <th>44</th>\n",
       "      <td>item_name_tfidf_8</td>\n",
       "      <td>90</td>\n",
       "    </tr>\n",
       "    <tr>\n",
       "      <th>28</th>\n",
       "      <td>target_shop_lag_9</td>\n",
       "      <td>109</td>\n",
       "    </tr>\n",
       "    <tr>\n",
       "      <th>55</th>\n",
       "      <td>item_category_name_tfidf_6</td>\n",
       "      <td>116</td>\n",
       "    </tr>\n",
       "    <tr>\n",
       "      <th>31</th>\n",
       "      <td>target_shop_lag_10</td>\n",
       "      <td>129</td>\n",
       "    </tr>\n",
       "    <tr>\n",
       "      <th>34</th>\n",
       "      <td>target_shop_lag_11</td>\n",
       "      <td>145</td>\n",
       "    </tr>\n",
       "    <tr>\n",
       "      <th>45</th>\n",
       "      <td>item_name_tfidf_11</td>\n",
       "      <td>151</td>\n",
       "    </tr>\n",
       "    <tr>\n",
       "      <th>58</th>\n",
       "      <td>item_category_name_tfidf_16</td>\n",
       "      <td>154</td>\n",
       "    </tr>\n",
       "    <tr>\n",
       "      <th>33</th>\n",
       "      <td>target_item_lag_11</td>\n",
       "      <td>157</td>\n",
       "    </tr>\n",
       "    <tr>\n",
       "      <th>...</th>\n",
       "      <td>...</td>\n",
       "      <td>...</td>\n",
       "    </tr>\n",
       "    <tr>\n",
       "      <th>13</th>\n",
       "      <td>target_shop_lag_4</td>\n",
       "      <td>375</td>\n",
       "    </tr>\n",
       "    <tr>\n",
       "      <th>56</th>\n",
       "      <td>item_category_name_tfidf_13</td>\n",
       "      <td>409</td>\n",
       "    </tr>\n",
       "    <tr>\n",
       "      <th>77</th>\n",
       "      <td>shop_name_tfidf_21</td>\n",
       "      <td>424</td>\n",
       "    </tr>\n",
       "    <tr>\n",
       "      <th>35</th>\n",
       "      <td>target_lag_12</td>\n",
       "      <td>434</td>\n",
       "    </tr>\n",
       "    <tr>\n",
       "      <th>11</th>\n",
       "      <td>target_lag_4</td>\n",
       "      <td>443</td>\n",
       "    </tr>\n",
       "    <tr>\n",
       "      <th>66</th>\n",
       "      <td>shop_name_wc</td>\n",
       "      <td>507</td>\n",
       "    </tr>\n",
       "    <tr>\n",
       "      <th>72</th>\n",
       "      <td>shop_name_tfidf_10</td>\n",
       "      <td>534</td>\n",
       "    </tr>\n",
       "    <tr>\n",
       "      <th>10</th>\n",
       "      <td>target_shop_lag_3</td>\n",
       "      <td>567</td>\n",
       "    </tr>\n",
       "    <tr>\n",
       "      <th>47</th>\n",
       "      <td>item_name_tfidf_16</td>\n",
       "      <td>604</td>\n",
       "    </tr>\n",
       "    <tr>\n",
       "      <th>12</th>\n",
       "      <td>target_item_lag_4</td>\n",
       "      <td>645</td>\n",
       "    </tr>\n",
       "    <tr>\n",
       "      <th>65</th>\n",
       "      <td>shop_name_len</td>\n",
       "      <td>810</td>\n",
       "    </tr>\n",
       "    <tr>\n",
       "      <th>8</th>\n",
       "      <td>target_lag_3</td>\n",
       "      <td>839</td>\n",
       "    </tr>\n",
       "    <tr>\n",
       "      <th>41</th>\n",
       "      <td>item_name_wc</td>\n",
       "      <td>864</td>\n",
       "    </tr>\n",
       "    <tr>\n",
       "      <th>9</th>\n",
       "      <td>target_item_lag_3</td>\n",
       "      <td>868</td>\n",
       "    </tr>\n",
       "    <tr>\n",
       "      <th>51</th>\n",
       "      <td>item_category_name_len</td>\n",
       "      <td>940</td>\n",
       "    </tr>\n",
       "    <tr>\n",
       "      <th>5</th>\n",
       "      <td>target_lag_2</td>\n",
       "      <td>1082</td>\n",
       "    </tr>\n",
       "    <tr>\n",
       "      <th>7</th>\n",
       "      <td>target_shop_lag_2</td>\n",
       "      <td>1194</td>\n",
       "    </tr>\n",
       "    <tr>\n",
       "      <th>39</th>\n",
       "      <td>item_category_id</td>\n",
       "      <td>1276</td>\n",
       "    </tr>\n",
       "    <tr>\n",
       "      <th>38</th>\n",
       "      <td>month_number</td>\n",
       "      <td>1472</td>\n",
       "    </tr>\n",
       "    <tr>\n",
       "      <th>82</th>\n",
       "      <td>et_7</td>\n",
       "      <td>1607</td>\n",
       "    </tr>\n",
       "    <tr>\n",
       "      <th>2</th>\n",
       "      <td>target_lag_1</td>\n",
       "      <td>1687</td>\n",
       "    </tr>\n",
       "    <tr>\n",
       "      <th>81</th>\n",
       "      <td>lm_7</td>\n",
       "      <td>1804</td>\n",
       "    </tr>\n",
       "    <tr>\n",
       "      <th>6</th>\n",
       "      <td>target_item_lag_2</td>\n",
       "      <td>1985</td>\n",
       "    </tr>\n",
       "    <tr>\n",
       "      <th>80</th>\n",
       "      <td>nn_7</td>\n",
       "      <td>2077</td>\n",
       "    </tr>\n",
       "    <tr>\n",
       "      <th>4</th>\n",
       "      <td>target_shop_lag_1</td>\n",
       "      <td>2231</td>\n",
       "    </tr>\n",
       "    <tr>\n",
       "      <th>79</th>\n",
       "      <td>lgb_7</td>\n",
       "      <td>2336</td>\n",
       "    </tr>\n",
       "    <tr>\n",
       "      <th>40</th>\n",
       "      <td>item_name_len</td>\n",
       "      <td>2609</td>\n",
       "    </tr>\n",
       "    <tr>\n",
       "      <th>3</th>\n",
       "      <td>target_item_lag_1</td>\n",
       "      <td>2983</td>\n",
       "    </tr>\n",
       "    <tr>\n",
       "      <th>1</th>\n",
       "      <td>shop_id</td>\n",
       "      <td>3357</td>\n",
       "    </tr>\n",
       "    <tr>\n",
       "      <th>0</th>\n",
       "      <td>item_id</td>\n",
       "      <td>6173</td>\n",
       "    </tr>\n",
       "  </tbody>\n",
       "</table>\n",
       "<p>83 rows × 2 columns</p>\n",
       "</div>"
      ],
      "text/plain": [
       "                            col  importance\n",
       "52   item_category_name_tfidf_0           3\n",
       "63  item_category_name_tfidf_23           4\n",
       "68            shop_name_tfidf_2           4\n",
       "59  item_category_name_tfidf_17           6\n",
       "71            shop_name_tfidf_9          10\n",
       "60  item_category_name_tfidf_20          13\n",
       "67            shop_name_tfidf_0          20\n",
       "61  item_category_name_tfidf_21          20\n",
       "57  item_category_name_tfidf_14          25\n",
       "64  item_category_name_tfidf_24          27\n",
       "74           shop_name_tfidf_18          29\n",
       "50           item_name_tfidf_24          42\n",
       "48           item_name_tfidf_20          43\n",
       "73           shop_name_tfidf_17          43\n",
       "69            shop_name_tfidf_7          49\n",
       "53   item_category_name_tfidf_1          50\n",
       "42            item_name_tfidf_0          53\n",
       "76           shop_name_tfidf_20          55\n",
       "75           shop_name_tfidf_19          69\n",
       "78           shop_name_tfidf_24          72\n",
       "54   item_category_name_tfidf_3          79\n",
       "70            shop_name_tfidf_8          88\n",
       "44            item_name_tfidf_8          90\n",
       "28            target_shop_lag_9         109\n",
       "55   item_category_name_tfidf_6         116\n",
       "31           target_shop_lag_10         129\n",
       "34           target_shop_lag_11         145\n",
       "45           item_name_tfidf_11         151\n",
       "58  item_category_name_tfidf_16         154\n",
       "33           target_item_lag_11         157\n",
       "..                          ...         ...\n",
       "13            target_shop_lag_4         375\n",
       "56  item_category_name_tfidf_13         409\n",
       "77           shop_name_tfidf_21         424\n",
       "35                target_lag_12         434\n",
       "11                 target_lag_4         443\n",
       "66                 shop_name_wc         507\n",
       "72           shop_name_tfidf_10         534\n",
       "10            target_shop_lag_3         567\n",
       "47           item_name_tfidf_16         604\n",
       "12            target_item_lag_4         645\n",
       "65                shop_name_len         810\n",
       "8                  target_lag_3         839\n",
       "41                 item_name_wc         864\n",
       "9             target_item_lag_3         868\n",
       "51       item_category_name_len         940\n",
       "5                  target_lag_2        1082\n",
       "7             target_shop_lag_2        1194\n",
       "39             item_category_id        1276\n",
       "38                 month_number        1472\n",
       "82                         et_7        1607\n",
       "2                  target_lag_1        1687\n",
       "81                         lm_7        1804\n",
       "6             target_item_lag_2        1985\n",
       "80                         nn_7        2077\n",
       "4             target_shop_lag_1        2231\n",
       "79                        lgb_7        2336\n",
       "40                item_name_len        2609\n",
       "3             target_item_lag_1        2983\n",
       "1                       shop_id        3357\n",
       "0                       item_id        6173\n",
       "\n",
       "[83 rows x 2 columns]"
      ]
     },
     "execution_count": 24,
     "metadata": {},
     "output_type": "execute_result"
    }
   ],
   "source": [
    "# let's see which features are important so we can exclude features that aren't\n",
    "importances = lgb_stacked2.feature_importance()\n",
    "\n",
    "# remove the last column since that was not used the the gbm\n",
    "cols = X_train.drop([], axis=1).columns\n",
    "\n",
    "# create a dataframe to map the column name to the importance\n",
    "feature_importances = pd.DataFrame({ 'col': cols, 'importance':importances })\n",
    "\n",
    "# sort the dataframe\n",
    "feature_importances.sort_values(by=\"importance\", inplace=True)\n",
    "\n",
    "feature_importances"
   ]
  },
  {
   "cell_type": "code",
   "execution_count": 25,
   "metadata": {
    "collapsed": true
   },
   "outputs": [],
   "source": [
    "important_features = feature_importances.iloc[30:].col.values\n",
    "unimportant_features = feature_importances.iloc[:45].col.values\n",
    "lgb_drop_cols = unimportant_features"
   ]
  },
  {
   "cell_type": "code",
   "execution_count": 21,
   "metadata": {},
   "outputs": [
    {
     "data": {
      "text/html": [
       "<div>\n",
       "<style>\n",
       "    .dataframe thead tr:only-child th {\n",
       "        text-align: right;\n",
       "    }\n",
       "\n",
       "    .dataframe thead th {\n",
       "        text-align: left;\n",
       "    }\n",
       "\n",
       "    .dataframe tbody tr th {\n",
       "        vertical-align: top;\n",
       "    }\n",
       "</style>\n",
       "<table border=\"1\" class=\"dataframe\">\n",
       "  <thead>\n",
       "    <tr style=\"text-align: right;\">\n",
       "      <th></th>\n",
       "      <th>model</th>\n",
       "      <th>2</th>\n",
       "      <th>3</th>\n",
       "    </tr>\n",
       "  </thead>\n",
       "  <tbody>\n",
       "    <tr>\n",
       "      <th>0</th>\n",
       "      <td>linear</td>\n",
       "      <td>1.548105</td>\n",
       "      <td>1.130952</td>\n",
       "    </tr>\n",
       "    <tr>\n",
       "      <th>1</th>\n",
       "      <td>nn</td>\n",
       "      <td>1.353402</td>\n",
       "      <td>1.022426</td>\n",
       "    </tr>\n",
       "    <tr>\n",
       "      <th>4</th>\n",
       "      <td>lgb2</td>\n",
       "      <td>NaN</td>\n",
       "      <td>0.915896</td>\n",
       "    </tr>\n",
       "    <tr>\n",
       "      <th>2</th>\n",
       "      <td>lgb</td>\n",
       "      <td>1.270162</td>\n",
       "      <td>1.010710</td>\n",
       "    </tr>\n",
       "    <tr>\n",
       "      <th>3</th>\n",
       "      <td>extra trees</td>\n",
       "      <td>1.105885</td>\n",
       "      <td>0.801063</td>\n",
       "    </tr>\n",
       "    <tr>\n",
       "      <th>6</th>\n",
       "      <td>lgb2</td>\n",
       "      <td>NaN</td>\n",
       "      <td>0.915896</td>\n",
       "    </tr>\n",
       "  </tbody>\n",
       "</table>\n",
       "</div>"
      ],
      "text/plain": [
       "         model         2         3\n",
       "0       linear  1.548105  1.130952\n",
       "1           nn  1.353402  1.022426\n",
       "4         lgb2       NaN  0.915896\n",
       "2          lgb  1.270162  1.010710\n",
       "3  extra trees  1.105885  0.801063\n",
       "6         lgb2       NaN  0.915896"
      ]
     },
     "execution_count": 21,
     "metadata": {},
     "output_type": "execute_result"
    }
   ],
   "source": [
    "lgb2_results = [\"lgb2\", float('NaN'), lgb_mse ]\n",
    "mse_results.loc[4] = lgb2_results\n",
    "mse_results.to_pickle(\"mse_results.pkl\")\n",
    "mse_results"
   ]
  },
  {
   "cell_type": "code",
   "execution_count": 19,
   "metadata": {
    "collapsed": true
   },
   "outputs": [],
   "source": [
    "mse_results = pd.read_pickle(\"./Processed_data/mse_results.pkl\")"
   ]
  },
  {
   "cell_type": "code",
   "execution_count": 22,
   "metadata": {},
   "outputs": [
    {
     "name": "stderr",
     "output_type": "stream",
     "text": [
      "/home/minomi016/anaconda3/lib/python3.6/site-packages/lightgbm/basic.py:1040: UserWarning: Using categorical_feature in Dataset.\n",
      "  warnings.warn('Using categorical_feature in Dataset.')\n",
      "/home/minomi016/anaconda3/lib/python3.6/site-packages/lightgbm/basic.py:685: UserWarning: categorical_feature in param dict is overridden.\n",
      "  warnings.warn('categorical_feature in param dict is overridden.')\n"
     ]
    }
   ],
   "source": [
    "lgb_stacked3 = lgb.train(lgb_params, lgb.Dataset(X_train.drop(lgb_drop_cols, axis=1)\n",
    "                                                 , label=y_train, categorical_feature=id_cols), 100)\n",
    "lgb2_test_preds_1 = lgb_stacked3.predict(X_test.drop(lgb_drop_cols, axis=1))"
   ]
  },
  {
   "cell_type": "code",
   "execution_count": 23,
   "metadata": {},
   "outputs": [
    {
     "name": "stderr",
     "output_type": "stream",
     "text": [
      "/home/minomi016/anaconda3/lib/python3.6/site-packages/lightgbm/basic.py:1040: UserWarning: Using categorical_feature in Dataset.\n",
      "  warnings.warn('Using categorical_feature in Dataset.')\n",
      "/home/minomi016/anaconda3/lib/python3.6/site-packages/lightgbm/basic.py:685: UserWarning: categorical_feature in param dict is overridden.\n",
      "  warnings.warn('categorical_feature in param dict is overridden.')\n"
     ]
    }
   ],
   "source": [
    "lgb_stacked4 = lgb.train(lgb_params, lgb.Dataset(X_tr_3.drop(lgb_drop_cols, axis=1), label=y_tr_3, categorical_feature=id_cols), 100)\n",
    "lgb2_test_preds_2 = lgb_stacked4.predict(X_test.drop(lgb_drop_cols, axis=1))\n",
    "\n",
    "lgb2_test_preds_3 = (lgb2_test_preds_1 + lgb2_test_preds_2) / 2"
   ]
  },
  {
   "cell_type": "markdown",
   "metadata": {},
   "source": [
    "## Model 2 : linear"
   ]
  },
  {
   "cell_type": "code",
   "execution_count": 26,
   "metadata": {},
   "outputs": [
    {
     "data": {
      "text/plain": [
       "LinearRegression(copy_X=True, fit_intercept=True, n_jobs=-1, normalize=False)"
      ]
     },
     "execution_count": 26,
     "metadata": {},
     "output_type": "execute_result"
    }
   ],
   "source": [
    "lm_use_cols = pred_cols\n",
    "lm_stacked2 = LinearRegression(n_jobs=-1)\n",
    "lm_stacked2.fit(X_tr_2[lm_use_cols], y_tr_2)"
   ]
  },
  {
   "cell_type": "code",
   "execution_count": 27,
   "metadata": {},
   "outputs": [
    {
     "name": "stdout",
     "output_type": "stream",
     "text": [
      "LM MSE: 0.798675909854\n",
      "LM Clipped MSE: 0.798550972697\n"
     ]
    }
   ],
   "source": [
    "# predict on dataset 3\n",
    "lm2_train_preds_3 = lm_stacked2.predict(X_tr_3[lm_use_cols])\n",
    "\n",
    "lm2_mse = mean_squared_error(y_tr_3, lm2_train_preds_3)\n",
    "lm2_mse_clipped = mean_squared_error(y_tr_3, lm2_train_preds_3.clip(*[0,25]))\n",
    "\n",
    "print(\"LM MSE:\", lm2_mse)\n",
    "print(\"LM Clipped MSE:\", lm2_mse_clipped)\n",
    "\n",
    "# the clipped predictions are better so let's use those\n",
    "lm2_train_preds_3 = lm2_train_preds_3.clip(*[0,25])"
   ]
  },
  {
   "cell_type": "code",
   "execution_count": 28,
   "metadata": {
    "scrolled": true
   },
   "outputs": [
    {
     "data": {
      "text/html": [
       "<div>\n",
       "<style>\n",
       "    .dataframe thead tr:only-child th {\n",
       "        text-align: right;\n",
       "    }\n",
       "\n",
       "    .dataframe thead th {\n",
       "        text-align: left;\n",
       "    }\n",
       "\n",
       "    .dataframe tbody tr th {\n",
       "        vertical-align: top;\n",
       "    }\n",
       "</style>\n",
       "<table border=\"1\" class=\"dataframe\">\n",
       "  <thead>\n",
       "    <tr style=\"text-align: right;\">\n",
       "      <th></th>\n",
       "      <th>model</th>\n",
       "      <th>2</th>\n",
       "      <th>3</th>\n",
       "    </tr>\n",
       "  </thead>\n",
       "  <tbody>\n",
       "    <tr>\n",
       "      <th>0</th>\n",
       "      <td>linear</td>\n",
       "      <td>1.548105</td>\n",
       "      <td>1.130952</td>\n",
       "    </tr>\n",
       "    <tr>\n",
       "      <th>1</th>\n",
       "      <td>nn</td>\n",
       "      <td>1.353402</td>\n",
       "      <td>1.022426</td>\n",
       "    </tr>\n",
       "    <tr>\n",
       "      <th>4</th>\n",
       "      <td>lgb2</td>\n",
       "      <td>NaN</td>\n",
       "      <td>0.915896</td>\n",
       "    </tr>\n",
       "    <tr>\n",
       "      <th>2</th>\n",
       "      <td>lgb</td>\n",
       "      <td>1.270162</td>\n",
       "      <td>1.010710</td>\n",
       "    </tr>\n",
       "    <tr>\n",
       "      <th>3</th>\n",
       "      <td>extra trees</td>\n",
       "      <td>1.105885</td>\n",
       "      <td>0.801063</td>\n",
       "    </tr>\n",
       "    <tr>\n",
       "      <th>6</th>\n",
       "      <td>lgb2</td>\n",
       "      <td>NaN</td>\n",
       "      <td>0.915896</td>\n",
       "    </tr>\n",
       "    <tr>\n",
       "      <th>5</th>\n",
       "      <td>linear2</td>\n",
       "      <td>NaN</td>\n",
       "      <td>0.798551</td>\n",
       "    </tr>\n",
       "  </tbody>\n",
       "</table>\n",
       "</div>"
      ],
      "text/plain": [
       "         model         2         3\n",
       "0       linear  1.548105  1.130952\n",
       "1           nn  1.353402  1.022426\n",
       "4         lgb2       NaN  0.915896\n",
       "2          lgb  1.270162  1.010710\n",
       "3  extra trees  1.105885  0.801063\n",
       "6         lgb2       NaN  0.915896\n",
       "5      linear2       NaN  0.798551"
      ]
     },
     "execution_count": 28,
     "metadata": {},
     "output_type": "execute_result"
    }
   ],
   "source": [
    "# make sure the results are improving\n",
    "lm2_results = [\"linear2\", float('NaN'), lm2_mse_clipped ]\n",
    "mse_results.loc[5] = lm2_results\n",
    "mse_results.to_pickle(\"mse_results.pkl\")\n",
    "mse_results"
   ]
  },
  {
   "cell_type": "code",
   "execution_count": 29,
   "metadata": {
    "collapsed": true
   },
   "outputs": [],
   "source": [
    "# fit a model to combine datasets to predict for test\n",
    "lm_stacked3 = LinearRegression(n_jobs=-1)\n",
    "lm_stacked3.fit(X_train[lm_use_cols], y_train)\n",
    "# make our predictions on test data\n",
    "lm2_test_preds_1 = lm_stacked3.predict(X_test[lm_use_cols])"
   ]
  },
  {
   "cell_type": "code",
   "execution_count": 30,
   "metadata": {
    "collapsed": true
   },
   "outputs": [],
   "source": [
    "# fit a model to combine datasets to predict for test\n",
    "lm_stacked4 = LinearRegression(n_jobs=-1)\n",
    "lm_stacked4.fit(X_tr_3[lm_use_cols], y_tr_3)\n",
    "lm2_test_preds_2 = lm_stacked4.predict(X_test[lm_use_cols])\n",
    "\n",
    "lm2_test_preds_3 = (lm2_test_preds_2 + lm2_test_preds_1) / 2"
   ]
  },
  {
   "cell_type": "markdown",
   "metadata": {},
   "source": [
    "## Model 3 : Extract tree"
   ]
  },
  {
   "cell_type": "code",
   "execution_count": 31,
   "metadata": {
    "collapsed": true
   },
   "outputs": [],
   "source": [
    "# exclude our ids\n",
    "etr_cols_to_drop = []\n",
    "etr_cols_to_drop = id_cols + text_cols"
   ]
  },
  {
   "cell_type": "code",
   "execution_count": 32,
   "metadata": {},
   "outputs": [
    {
     "name": "stderr",
     "output_type": "stream",
     "text": [
      "[Parallel(n_jobs=4)]: Done   5 out of   5 | elapsed:   19.4s finished\n"
     ]
    },
    {
     "data": {
      "text/plain": [
       "ExtraTreesRegressor(bootstrap=False, criterion='mse', max_depth=10,\n",
       "          max_features='auto', max_leaf_nodes=None,\n",
       "          min_impurity_decrease=1e-05, min_impurity_split=None,\n",
       "          min_samples_leaf=25, min_samples_split=2,\n",
       "          min_weight_fraction_leaf=0.0, n_estimators=5, n_jobs=4,\n",
       "          oob_score=False, random_state=0, verbose=1, warm_start=False)"
      ]
     },
     "execution_count": 32,
     "metadata": {},
     "output_type": "execute_result"
    }
   ],
   "source": [
    "# keep the model small since we are only using it to evaluate feature importance\n",
    "stack_forest2 = ExtraTreesRegressor(n_estimators=5, random_state=0, max_depth=10\n",
    "                                    , min_impurity_decrease=1e-5, min_samples_leaf=25, n_jobs=4, verbose=1)\n",
    "\n",
    "# fit model to dataset 2 to predict for 3\n",
    "stack_forest2.fit(X_tr_2.drop(etr_cols_to_drop, axis=1), y_tr_2)"
   ]
  },
  {
   "cell_type": "code",
   "execution_count": 33,
   "metadata": {},
   "outputs": [
    {
     "name": "stdout",
     "output_type": "stream",
     "text": [
      "ET MSE: 0.786008261497\n"
     ]
    },
    {
     "name": "stderr",
     "output_type": "stream",
     "text": [
      "[Parallel(n_jobs=4)]: Done   5 out of   5 | elapsed:    0.2s finished\n"
     ]
    }
   ],
   "source": [
    "et2_preds_3 = stack_forest2.predict(X_tr_3.drop(etr_cols_to_drop, axis=1))\n",
    "et2_mse = mean_squared_error(y_tr_3, et2_preds_3)\n",
    "print(\"ET MSE:\", et2_mse)"
   ]
  },
  {
   "cell_type": "code",
   "execution_count": 34,
   "metadata": {
    "scrolled": true
   },
   "outputs": [
    {
     "name": "stdout",
     "output_type": "stream",
     "text": [
      "Feature ranking:\n",
      "1. feature 40 (0.485630) - et_7\n",
      "2. feature 38 (0.240215) - nn_7\n",
      "3. feature 37 (0.072936) - lgb_7\n",
      "4. feature 0 (0.063013) - target_lag_1\n",
      "5. feature 36 (0.036736) - month_number\n",
      "6. feature 39 (0.035050) - lm_7\n",
      "7. feature 7 (0.015306) - target_item_lag_3\n",
      "8. feature 2 (0.010735) - target_shop_lag_1\n",
      "9. feature 6 (0.005990) - target_lag_3\n",
      "10. feature 1 (0.005035) - target_item_lag_1\n",
      "11. feature 10 (0.004969) - target_item_lag_4\n",
      "12. feature 3 (0.004074) - target_lag_2\n",
      "13. feature 11 (0.003990) - target_shop_lag_4\n",
      "14. feature 5 (0.002714) - target_shop_lag_2\n",
      "15. feature 4 (0.002511) - target_item_lag_2\n",
      "16. feature 8 (0.002230) - target_shop_lag_3\n",
      "17. feature 17 (0.001646) - target_shop_lag_6\n",
      "18. feature 14 (0.000927) - target_shop_lag_5\n",
      "19. feature 35 (0.000913) - target_shop_lag_12\n",
      "20. feature 29 (0.000881) - target_shop_lag_10\n",
      "21. feature 13 (0.000600) - target_item_lag_5\n",
      "22. feature 22 (0.000556) - target_item_lag_8\n",
      "23. feature 23 (0.000521) - target_shop_lag_8\n",
      "24. feature 28 (0.000312) - target_item_lag_10\n",
      "25. feature 20 (0.000309) - target_shop_lag_7\n",
      "26. feature 25 (0.000303) - target_item_lag_9\n",
      "27. feature 9 (0.000296) - target_lag_4\n",
      "28. feature 27 (0.000255) - target_lag_10\n",
      "29. feature 30 (0.000199) - target_lag_11\n",
      "30. feature 34 (0.000132) - target_item_lag_12\n",
      "31. feature 16 (0.000126) - target_item_lag_6\n",
      "32. feature 12 (0.000122) - target_lag_5\n",
      "33. feature 32 (0.000117) - target_shop_lag_11\n",
      "34. feature 21 (0.000110) - target_lag_8\n",
      "35. feature 31 (0.000098) - target_item_lag_11\n",
      "36. feature 33 (0.000094) - target_lag_12\n",
      "37. feature 26 (0.000085) - target_shop_lag_9\n",
      "38. feature 24 (0.000084) - target_lag_9\n",
      "39. feature 19 (0.000081) - target_item_lag_7\n",
      "40. feature 18 (0.000057) - target_lag_7\n",
      "41. feature 15 (0.000043) - target_lag_6\n"
     ]
    },
    {
     "data": {
      "image/png": "[encoded data removed]",
      "text/plain": [
       "<matplotlib.figure.Figure at 0x7f716ab2c3c8>"
      ]
     },
     "metadata": {},
     "output_type": "display_data"
    }
   ],
   "source": [
    "#let's drop some more un-important columns before we fit our last model\n",
    "ranked_list = feature_importance(stack_forest2, X_tr_2.drop(etr_cols_to_drop, axis=1))"
   ]
  },
  {
   "cell_type": "code",
   "execution_count": 35,
   "metadata": {
    "collapsed": true
   },
   "outputs": [],
   "source": [
    "# only use the top 11 features for these models\n",
    "features_to_use = ranked_list[:11]"
   ]
  },
  {
   "cell_type": "code",
   "execution_count": 36,
   "metadata": {},
   "outputs": [
    {
     "name": "stderr",
     "output_type": "stream",
     "text": [
      "[Parallel(n_jobs=-1)]: Done  30 out of  30 | elapsed:   20.9s finished\n"
     ]
    },
    {
     "data": {
      "text/plain": [
       "ExtraTreesRegressor(bootstrap=False, criterion='mse', max_depth=10,\n",
       "          max_features='auto', max_leaf_nodes=None,\n",
       "          min_impurity_decrease=1e-05, min_impurity_split=None,\n",
       "          min_samples_leaf=20, min_samples_split=2,\n",
       "          min_weight_fraction_leaf=0.0, n_estimators=30, n_jobs=-1,\n",
       "          oob_score=False, random_state=0, verbose=1, warm_start=False)"
      ]
     },
     "execution_count": 36,
     "metadata": {},
     "output_type": "execute_result"
    }
   ],
   "source": [
    "stack_forest2 = ExtraTreesRegressor(n_estimators=30, random_state=0, max_depth=10, min_impurity_decrease=1e-5, min_samples_leaf=20, n_jobs=-1, verbose=1)\n",
    "\n",
    "# fit model to dataset 2 to predict for 3\n",
    "stack_forest2.fit(X_tr_2[features_to_use], y_tr_2)"
   ]
  },
  {
   "cell_type": "code",
   "execution_count": 37,
   "metadata": {},
   "outputs": [
    {
     "name": "stdout",
     "output_type": "stream",
     "text": [
      "ET MSE: 0.777657623644\n"
     ]
    },
    {
     "name": "stderr",
     "output_type": "stream",
     "text": [
      "[Parallel(n_jobs=4)]: Done  30 out of  30 | elapsed:    1.0s finished\n"
     ]
    }
   ],
   "source": [
    "et2_preds_3 = stack_forest2.predict(X_tr_3[features_to_use])\n",
    "et2_mse = mean_squared_error(y_tr_3, et2_preds_3)\n",
    "print(\"ET MSE:\", et2_mse)"
   ]
  },
  {
   "cell_type": "code",
   "execution_count": 38,
   "metadata": {},
   "outputs": [
    {
     "data": {
      "text/html": [
       "<div>\n",
       "<style>\n",
       "    .dataframe thead tr:only-child th {\n",
       "        text-align: right;\n",
       "    }\n",
       "\n",
       "    .dataframe thead th {\n",
       "        text-align: left;\n",
       "    }\n",
       "\n",
       "    .dataframe tbody tr th {\n",
       "        vertical-align: top;\n",
       "    }\n",
       "</style>\n",
       "<table border=\"1\" class=\"dataframe\">\n",
       "  <thead>\n",
       "    <tr style=\"text-align: right;\">\n",
       "      <th></th>\n",
       "      <th>model</th>\n",
       "      <th>2</th>\n",
       "      <th>3</th>\n",
       "    </tr>\n",
       "  </thead>\n",
       "  <tbody>\n",
       "    <tr>\n",
       "      <th>0</th>\n",
       "      <td>linear</td>\n",
       "      <td>1.548105</td>\n",
       "      <td>1.130952</td>\n",
       "    </tr>\n",
       "    <tr>\n",
       "      <th>1</th>\n",
       "      <td>nn</td>\n",
       "      <td>1.353402</td>\n",
       "      <td>1.022426</td>\n",
       "    </tr>\n",
       "    <tr>\n",
       "      <th>4</th>\n",
       "      <td>lgb2</td>\n",
       "      <td>NaN</td>\n",
       "      <td>0.915896</td>\n",
       "    </tr>\n",
       "    <tr>\n",
       "      <th>2</th>\n",
       "      <td>lgb</td>\n",
       "      <td>1.270162</td>\n",
       "      <td>1.010710</td>\n",
       "    </tr>\n",
       "    <tr>\n",
       "      <th>3</th>\n",
       "      <td>extra trees</td>\n",
       "      <td>1.105885</td>\n",
       "      <td>0.801063</td>\n",
       "    </tr>\n",
       "    <tr>\n",
       "      <th>6</th>\n",
       "      <td>et2</td>\n",
       "      <td>NaN</td>\n",
       "      <td>0.777658</td>\n",
       "    </tr>\n",
       "    <tr>\n",
       "      <th>5</th>\n",
       "      <td>linear2</td>\n",
       "      <td>NaN</td>\n",
       "      <td>0.798551</td>\n",
       "    </tr>\n",
       "  </tbody>\n",
       "</table>\n",
       "</div>"
      ],
      "text/plain": [
       "         model         2         3\n",
       "0       linear  1.548105  1.130952\n",
       "1           nn  1.353402  1.022426\n",
       "4         lgb2       NaN  0.915896\n",
       "2          lgb  1.270162  1.010710\n",
       "3  extra trees  1.105885  0.801063\n",
       "6          et2       NaN  0.777658\n",
       "5      linear2       NaN  0.798551"
      ]
     },
     "execution_count": 38,
     "metadata": {},
     "output_type": "execute_result"
    }
   ],
   "source": [
    "# make sure the results are improving\n",
    "et2_results = [\"et2\", float('NaN'), et2_mse ]\n",
    "mse_results.loc[6] = et2_results\n",
    "mse_results.to_pickle(\"mse_results.pkl\")\n",
    "mse_results"
   ]
  },
  {
   "cell_type": "code",
   "execution_count": 39,
   "metadata": {},
   "outputs": [
    {
     "name": "stderr",
     "output_type": "stream",
     "text": [
      "[Parallel(n_jobs=-1)]: Done  30 out of  30 | elapsed:   44.6s finished\n"
     ]
    },
    {
     "data": {
      "text/plain": [
       "ExtraTreesRegressor(bootstrap=False, criterion='mse', max_depth=10,\n",
       "          max_features='auto', max_leaf_nodes=None,\n",
       "          min_impurity_decrease=1e-05, min_impurity_split=None,\n",
       "          min_samples_leaf=20, min_samples_split=2,\n",
       "          min_weight_fraction_leaf=0.0, n_estimators=30, n_jobs=-1,\n",
       "          oob_score=False, random_state=0, verbose=1, warm_start=False)"
      ]
     },
     "execution_count": 39,
     "metadata": {},
     "output_type": "execute_result"
    }
   ],
   "source": [
    "# fit to combine datasets to predict for test\n",
    "stack_forest3 = ExtraTreesRegressor(n_estimators=30, random_state=0, max_depth=10\n",
    "                                    , min_impurity_decrease=1e-5, min_samples_leaf=20, n_jobs=-1, verbose=1)\n",
    "\n",
    "# fit model to dataset 2 to predict for 3\n",
    "stack_forest3.fit(X_train[features_to_use], y_train)"
   ]
  },
  {
   "cell_type": "code",
   "execution_count": 40,
   "metadata": {},
   "outputs": [
    {
     "name": "stderr",
     "output_type": "stream",
     "text": [
      "[Parallel(n_jobs=4)]: Done  30 out of  30 | elapsed:    0.1s finished\n"
     ]
    }
   ],
   "source": [
    "et2_test_preds_1 = stack_forest3.predict(X_test[features_to_use])"
   ]
  },
  {
   "cell_type": "code",
   "execution_count": 41,
   "metadata": {},
   "outputs": [
    {
     "name": "stderr",
     "output_type": "stream",
     "text": [
      "[Parallel(n_jobs=-1)]: Done  30 out of  30 | elapsed:   20.9s finished\n",
      "[Parallel(n_jobs=4)]: Done  30 out of  30 | elapsed:    0.1s finished\n"
     ]
    }
   ],
   "source": [
    "# fit to combine datasets to predict for test\n",
    "stack_forest4 = ExtraTreesRegressor(n_estimators=30, random_state=0, max_depth=10\n",
    "                                    , min_impurity_decrease=1e-5, min_samples_leaf=20, n_jobs=-1, verbose=1)\n",
    "\n",
    "# fit model to dataset 2 to predict for 3\n",
    "stack_forest4.fit(X_tr_3[features_to_use], y_tr_3)\n",
    "\n",
    "et2_test_preds_2 = stack_forest4.predict(X_test[features_to_use])\n",
    "et2_test_preds_3 = (et2_test_preds_2 + et2_test_preds_1) / 2"
   ]
  },
  {
   "cell_type": "markdown",
   "metadata": {},
   "source": [
    "## Model 4 : Random Forest"
   ]
  },
  {
   "cell_type": "code",
   "execution_count": 42,
   "metadata": {},
   "outputs": [
    {
     "name": "stderr",
     "output_type": "stream",
     "text": [
      "[Parallel(n_jobs=-1)]: Done   3 out of   3 | elapsed:   39.4s finished\n"
     ]
    },
    {
     "data": {
      "text/plain": [
       "RandomForestRegressor(bootstrap=True, criterion='mse', max_depth=10,\n",
       "           max_features='auto', max_leaf_nodes=None,\n",
       "           min_impurity_decrease=1e-07, min_impurity_split=None,\n",
       "           min_samples_leaf=20, min_samples_split=2,\n",
       "           min_weight_fraction_leaf=0.0, n_estimators=3, n_jobs=-1,\n",
       "           oob_score=False, random_state=10, verbose=1, warm_start=False)"
      ]
     },
     "execution_count": 42,
     "metadata": {},
     "output_type": "execute_result"
    }
   ],
   "source": [
    "rf_drop_cols = id_cols + text_cols\n",
    "# tweak our parameters to try to get our predictions to improve\n",
    "stack_rf2 = RandomForestRegressor(n_estimators=3, random_state=10, max_depth=10, min_impurity_decrease=1e-7, min_samples_leaf=20, n_jobs=-1, verbose=1)\n",
    "\n",
    "# fit model to dataset 2 to predict for 3\n",
    "stack_rf2.fit(X_tr_2.drop(rf_drop_cols, axis=1), y_tr_2)"
   ]
  },
  {
   "cell_type": "code",
   "execution_count": 43,
   "metadata": {},
   "outputs": [
    {
     "name": "stdout",
     "output_type": "stream",
     "text": [
      "RF MSE: 0.803047640101\n"
     ]
    },
    {
     "name": "stderr",
     "output_type": "stream",
     "text": [
      "[Parallel(n_jobs=3)]: Done   3 out of   3 | elapsed:    0.2s finished\n"
     ]
    }
   ],
   "source": [
    "rf2_preds_3 = stack_rf2.predict(X_tr_3.drop(rf_drop_cols, axis=1))\n",
    "rf2_mse = mean_squared_error(y_tr_3, rf2_preds_3)\n",
    "print(\"RF MSE:\", rf2_mse)"
   ]
  },
  {
   "cell_type": "code",
   "execution_count": 44,
   "metadata": {
    "scrolled": true
   },
   "outputs": [
    {
     "name": "stdout",
     "output_type": "stream",
     "text": [
      "Feature ranking:\n",
      "1. feature 40 (0.655970) - et_7\n",
      "2. feature 37 (0.115747) - lgb_7\n",
      "3. feature 0 (0.095752) - target_lag_1\n",
      "4. feature 36 (0.040548) - month_number\n",
      "5. feature 38 (0.028825) - nn_7\n",
      "6. feature 1 (0.013136) - target_item_lag_1\n",
      "7. feature 39 (0.011666) - lm_7\n",
      "8. feature 2 (0.005636) - target_shop_lag_1\n",
      "9. feature 6 (0.005447) - target_lag_3\n",
      "10. feature 4 (0.005427) - target_item_lag_2\n",
      "11. feature 3 (0.004531) - target_lag_2\n",
      "12. feature 7 (0.002852) - target_item_lag_3\n",
      "13. feature 10 (0.002215) - target_item_lag_4\n",
      "14. feature 8 (0.001366) - target_shop_lag_3\n",
      "15. feature 5 (0.001211) - target_shop_lag_2\n",
      "16. feature 16 (0.001200) - target_item_lag_6\n",
      "17. feature 33 (0.001157) - target_lag_12\n",
      "18. feature 9 (0.001101) - target_lag_4\n",
      "19. feature 13 (0.000591) - target_item_lag_5\n",
      "20. feature 19 (0.000504) - target_item_lag_7\n",
      "21. feature 32 (0.000484) - target_shop_lag_11\n",
      "22. feature 34 (0.000478) - target_item_lag_12\n",
      "23. feature 25 (0.000457) - target_item_lag_9\n",
      "24. feature 30 (0.000441) - target_lag_11\n",
      "25. feature 14 (0.000404) - target_shop_lag_5\n",
      "26. feature 22 (0.000376) - target_item_lag_8\n",
      "27. feature 24 (0.000342) - target_lag_9\n",
      "28. feature 31 (0.000252) - target_item_lag_11\n",
      "29. feature 17 (0.000225) - target_shop_lag_6\n",
      "30. feature 29 (0.000223) - target_shop_lag_10\n",
      "31. feature 12 (0.000175) - target_lag_5\n",
      "32. feature 11 (0.000163) - target_shop_lag_4\n",
      "33. feature 27 (0.000152) - target_lag_10\n",
      "34. feature 21 (0.000145) - target_lag_8\n",
      "35. feature 18 (0.000142) - target_lag_7\n",
      "36. feature 23 (0.000128) - target_shop_lag_8\n",
      "37. feature 15 (0.000114) - target_lag_6\n",
      "38. feature 26 (0.000111) - target_shop_lag_9\n",
      "39. feature 28 (0.000110) - target_item_lag_10\n",
      "40. feature 35 (0.000104) - target_shop_lag_12\n",
      "41. feature 20 (0.000092) - target_shop_lag_7\n"
     ]
    },
    {
     "data": {
      "image/png": "[encoded data removed]",
      "text/plain": [
       "<matplotlib.figure.Figure at 0x7f7091cd7ac8>"
      ]
     },
     "metadata": {},
     "output_type": "display_data"
    }
   ],
   "source": [
    "# let's drop some more un-important columns before we fit our last model\n",
    "ranked_list = feature_importance(stack_rf2, X_tr_2.drop(rf_drop_cols, axis=1))"
   ]
  },
  {
   "cell_type": "code",
   "execution_count": 45,
   "metadata": {
    "collapsed": true
   },
   "outputs": [],
   "source": [
    "# this time let's keep the set of features small\n",
    "features_to_use = ranked_list[:10]"
   ]
  },
  {
   "cell_type": "code",
   "execution_count": 46,
   "metadata": {},
   "outputs": [
    {
     "name": "stderr",
     "output_type": "stream",
     "text": [
      "[Parallel(n_jobs=-1)]: Done  25 out of  25 | elapsed:  2.0min finished\n"
     ]
    },
    {
     "name": "stdout",
     "output_type": "stream",
     "text": [
      "RF MSE: 0.792666546785\n"
     ]
    },
    {
     "name": "stderr",
     "output_type": "stream",
     "text": [
      "[Parallel(n_jobs=4)]: Done  25 out of  25 | elapsed:    0.9s finished\n"
     ]
    }
   ],
   "source": [
    "# tweak our parameters to try to get our predictions to improve\n",
    "stack_rf2 = RandomForestRegressor(n_estimators=25, random_state=10, max_depth=10, min_impurity_decrease=1e-7, min_samples_leaf=20, n_jobs=-1, verbose=1)\n",
    "\n",
    "# fit model to dataset 2 to predict for 3\n",
    "stack_rf2.fit(X_tr_2[features_to_use], y_tr_2)\n",
    "rf2_preds_3 = stack_rf2.predict(X_tr_3[features_to_use])\n",
    "rf2_mse = mean_squared_error(y_tr_3, rf2_preds_3)\n",
    "print(\"RF MSE:\", rf2_mse)"
   ]
  },
  {
   "cell_type": "code",
   "execution_count": 47,
   "metadata": {
    "collapsed": true
   },
   "outputs": [
    {
     "data": {
      "text/html": [
       "<div>\n",
       "<style>\n",
       "    .dataframe thead tr:only-child th {\n",
       "        text-align: right;\n",
       "    }\n",
       "\n",
       "    .dataframe thead th {\n",
       "        text-align: left;\n",
       "    }\n",
       "\n",
       "    .dataframe tbody tr th {\n",
       "        vertical-align: top;\n",
       "    }\n",
       "</style>\n",
       "<table border=\"1\" class=\"dataframe\">\n",
       "  <thead>\n",
       "    <tr style=\"text-align: right;\">\n",
       "      <th></th>\n",
       "      <th>model</th>\n",
       "      <th>2</th>\n",
       "      <th>3</th>\n",
       "    </tr>\n",
       "  </thead>\n",
       "  <tbody>\n",
       "    <tr>\n",
       "      <th>0</th>\n",
       "      <td>linear</td>\n",
       "      <td>1.548105</td>\n",
       "      <td>1.130952</td>\n",
       "    </tr>\n",
       "    <tr>\n",
       "      <th>1</th>\n",
       "      <td>nn</td>\n",
       "      <td>1.353402</td>\n",
       "      <td>1.022426</td>\n",
       "    </tr>\n",
       "    <tr>\n",
       "      <th>4</th>\n",
       "      <td>lgb2</td>\n",
       "      <td>NaN</td>\n",
       "      <td>0.915896</td>\n",
       "    </tr>\n",
       "    <tr>\n",
       "      <th>2</th>\n",
       "      <td>lgb</td>\n",
       "      <td>1.270162</td>\n",
       "      <td>1.010710</td>\n",
       "    </tr>\n",
       "    <tr>\n",
       "      <th>3</th>\n",
       "      <td>extra trees</td>\n",
       "      <td>1.105885</td>\n",
       "      <td>0.801063</td>\n",
       "    </tr>\n",
       "    <tr>\n",
       "      <th>6</th>\n",
       "      <td>et2</td>\n",
       "      <td>NaN</td>\n",
       "      <td>0.777658</td>\n",
       "    </tr>\n",
       "    <tr>\n",
       "      <th>5</th>\n",
       "      <td>linear2</td>\n",
       "      <td>NaN</td>\n",
       "      <td>0.798551</td>\n",
       "    </tr>\n",
       "    <tr>\n",
       "      <th>7</th>\n",
       "      <td>rf2</td>\n",
       "      <td>NaN</td>\n",
       "      <td>0.792667</td>\n",
       "    </tr>\n",
       "  </tbody>\n",
       "</table>\n",
       "</div>"
      ],
      "text/plain": [
       "         model         2         3\n",
       "0       linear  1.548105  1.130952\n",
       "1           nn  1.353402  1.022426\n",
       "4         lgb2       NaN  0.915896\n",
       "2          lgb  1.270162  1.010710\n",
       "3  extra trees  1.105885  0.801063\n",
       "6          et2       NaN  0.777658\n",
       "5      linear2       NaN  0.798551\n",
       "7          rf2       NaN  0.792667"
      ]
     },
     "execution_count": 47,
     "metadata": {},
     "output_type": "execute_result"
    }
   ],
   "source": [
    "# make sure the results are improving\n",
    "rf2_results = [\"rf2\", float(\"NaN\"), rf2_mse ]\n",
    "mse_results.loc[7] = rf2_results\n",
    "mse_results.to_pickle(\"./Processed_data/mse_results.pkl\")\n",
    "mse_results"
   ]
  },
  {
   "cell_type": "code",
   "execution_count": 49,
   "metadata": {},
   "outputs": [
    {
     "name": "stderr",
     "output_type": "stream",
     "text": [
      "[Parallel(n_jobs=-1)]: Done  25 out of  25 | elapsed:  4.4min finished\n",
      "[Parallel(n_jobs=4)]: Done  25 out of  25 | elapsed:    0.1s finished\n"
     ]
    }
   ],
   "source": [
    "stack_rf3 = RandomForestRegressor(n_estimators=25, random_state=10, max_depth=10, min_impurity_decrease=1e-7, min_samples_leaf=20, n_jobs=-1, verbose=1)\n",
    "\n",
    "stack_rf3.fit(X_train[features_to_use], y_train)\n",
    "rf2_preds_te = stack_rf3.predict(X_test[features_to_use])"
   ]
  },
  {
   "cell_type": "code",
   "execution_count": 50,
   "metadata": {},
   "outputs": [
    {
     "name": "stderr",
     "output_type": "stream",
     "text": [
      "[Parallel(n_jobs=-1)]: Done  25 out of  25 | elapsed:  1.7min finished\n",
      "[Parallel(n_jobs=4)]: Done  25 out of  25 | elapsed:    0.2s finished\n"
     ]
    }
   ],
   "source": [
    "stack_rf4 = RandomForestRegressor(n_estimators=25, random_state=10, max_depth=10, min_impurity_decrease=1e-7, min_samples_leaf=20, n_jobs=-1, verbose=1)\n",
    "\n",
    "stack_rf4.fit(X_tr_3[features_to_use], y_tr_3)\n",
    "rf2_preds_te_2 = stack_rf4.predict(X_test[features_to_use])"
   ]
  },
  {
   "cell_type": "code",
   "execution_count": 51,
   "metadata": {},
   "outputs": [
    {
     "name": "stdout",
     "output_type": "stream",
     "text": [
      "MSE of Two Test Preds: 0.0358677291028\n"
     ]
    }
   ],
   "source": [
    "rf2_preds_te_3 = (rf2_preds_te_2 + rf2_preds_te) / 2\n",
    "print(\"MSE of Two Test Preds:\", mean_squared_error(rf2_preds_te_2, rf2_preds_te))"
   ]
  },
  {
   "cell_type": "markdown",
   "metadata": {},
   "source": [
    "## Stack Level 3 Model \n",
    "### In this level , I will train a model for finding the useful parameters , and use those parameters to train the final model"
   ]
  },
  {
   "cell_type": "code",
   "execution_count": 52,
   "metadata": {},
   "outputs": [
    {
     "data": {
      "text/plain": [
       "Index(['target_lag_5', 'target_item_lag_5', 'target_shop_lag_5',\n",
       "       'target_lag_6', 'target_item_lag_6', 'target_shop_lag_6',\n",
       "       'target_lag_7', 'target_item_lag_7', 'target_shop_lag_7',\n",
       "       'target_lag_8', 'target_item_lag_8', 'target_shop_lag_8',\n",
       "       'target_lag_9', 'target_item_lag_9', 'target_shop_lag_9',\n",
       "       'target_lag_10', 'target_item_lag_10', 'target_shop_lag_10',\n",
       "       'target_lag_11', 'target_item_lag_11', 'target_shop_lag_11'],\n",
       "      dtype='object')"
      ]
     },
     "execution_count": 52,
     "metadata": {},
     "output_type": "execute_result"
    }
   ],
   "source": [
    "# drop our text and id columns\n",
    "X_tr_3.drop(id_cols + text_cols, axis=1, inplace=True)\n",
    "X_test.drop(id_cols + text_cols, axis=1, inplace=True)\n",
    "X_tr_3.columns\n",
    "cols = X_tr_3.columns[9:33]\n",
    "cols_to_drop = cols[3:33]\n",
    "cols_to_drop"
   ]
  },
  {
   "cell_type": "code",
   "execution_count": 53,
   "metadata": {
    "collapsed": true
   },
   "outputs": [],
   "source": [
    "X_tr_3.drop(cols_to_drop, axis=1, inplace=True)\n",
    "X_test.drop(cols_to_drop, axis=1, inplace=True)"
   ]
  },
  {
   "cell_type": "code",
   "execution_count": 54,
   "metadata": {
    "collapsed": true
   },
   "outputs": [],
   "source": [
    "X_tr_3['lgb_l2'] = lgb2_train_preds_3.clip(*[0,22])\n",
    "X_tr_3['lm_l2'] = lm2_train_preds_3.clip(*[0,22])\n",
    "X_tr_3['et_l2'] = et2_preds_3.clip(*[0,22])\n",
    "X_tr_3['rf_l2'] = rf2_preds_3.clip(*[0,22])\n",
    "\n",
    "X_test['lgb_l2'] = lgb2_test_preds_3.clip(*[0,22])\n",
    "X_test['lm_l2'] = lm2_test_preds_3.clip(*[0,22])\n",
    "X_test['et_l2'] = et2_test_preds_3.clip(*[0,22])\n",
    "X_test['rf_l2'] = rf2_preds_te_3.clip(*[0,22])"
   ]
  },
  {
   "cell_type": "code",
   "execution_count": 55,
   "metadata": {},
   "outputs": [
    {
     "name": "stdout",
     "output_type": "stream",
     "text": [
      "Lags: ['target_lag_1', 'target_item_lag_1', 'target_shop_lag_1', 'target_lag_2', 'target_item_lag_2', 'target_shop_lag_2', 'target_lag_3', 'target_item_lag_3', 'target_shop_lag_3', 'target_lag_4', 'target_item_lag_4', 'target_shop_lag_4', 'target_lag_12', 'target_item_lag_12', 'target_shop_lag_12']\n",
      "Preds: ['month_number', 'lgb_7', 'nn_7', 'lm_7', 'et_7', 'lgb_l2', 'lm_l2', 'et_l2', 'rf_l2']\n"
     ]
    }
   ],
   "source": [
    "lag_cols = []\n",
    "pred_cols= []\n",
    "\n",
    "# make lists of columns again\n",
    "for col in X_tr_3.columns:\n",
    "    if \"lag_\" in col:\n",
    "        lag_cols.append(col)\n",
    "    else:\n",
    "        pred_cols.append(col)\n",
    "        \n",
    "print(\"Lags:\", lag_cols)\n",
    "print(\"Preds:\", pred_cols)"
   ]
  },
  {
   "cell_type": "code",
   "execution_count": 56,
   "metadata": {
    "collapsed": true
   },
   "outputs": [],
   "source": [
    "y_tr_3 = y_tr_3.clip(*[0,20])\n",
    "X_tr_3.to_pickle(\"./Processed_data/X_tr_3_level3.pkl\")\n",
    "X_test.to_pickle(\"./Processed_data/X_test_level3.pkl\")\n",
    "np.save(\"./Processed_data/y_tr_3.npy\", y_tr_3)"
   ]
  },
  {
   "cell_type": "code",
   "execution_count": 57,
   "metadata": {},
   "outputs": [
    {
     "data": {
      "image/png": "[encoded data removed]",
      "text/plain": [
       "<matplotlib.figure.Figure at 0x7f70d32d1e80>"
      ]
     },
     "metadata": {},
     "output_type": "display_data"
    }
   ],
   "source": [
    "plt.hist(y_tr_3, bins=np.arange(0,5,0.5), label=\"Clipped Truth\", alpha=0.75)\n",
    "plt.hist(X_tr_3.et_l2, bins=np.arange(0,5,0.5), label=\"RFC Predictions\", alpha=0.5)\n",
    "plt.title(\"ETR vs Ground Truth (clipped)\")\n",
    "plt.legend()\n",
    "plt.show()"
   ]
  },
  {
   "cell_type": "code",
   "execution_count": 58,
   "metadata": {},
   "outputs": [
    {
     "name": "stdout",
     "output_type": "stream",
     "text": [
      "X_tr_3 MSE: 0.686670243717\n",
      "X_tr_3 Rounded MSE: 0.718355339936\n",
      "X_tr_3 Rounded MSE: 0.686872094605\n"
     ]
    }
   ],
   "source": [
    "print(\"X_tr_3 MSE:\", mean_squared_error(y_tr_3, X_tr_3.et_l2))\n",
    "print(\"X_tr_3 Rounded MSE:\", mean_squared_error(y_tr_3, round(X_tr_3.et_l2)))\n",
    "print(\"X_tr_3 Rounded MSE:\", mean_squared_error(y_tr_3, (round(X_tr_3.et_l2) + 7 * X_tr_3.et_l2) / 8))"
   ]
  },
  {
   "cell_type": "markdown",
   "metadata": {},
   "source": [
    "## Final Model 1 : Linear model"
   ]
  },
  {
   "cell_type": "code",
   "execution_count": 59,
   "metadata": {},
   "outputs": [
    {
     "name": "stdout",
     "output_type": "stream",
     "text": [
      "MSE: 0.672172678614\n"
     ]
    }
   ],
   "source": [
    "final_lm = LinearRegression(n_jobs=-1)\n",
    "final_lm.fit(X_tr_3, y_tr_3)\n",
    "final_lm_preds = final_lm.predict(X_tr_3)\n",
    "\n",
    "print(\"MSE:\", mean_squared_error(y_tr_3, final_lm_preds))"
   ]
  },
  {
   "cell_type": "code",
   "execution_count": 60,
   "metadata": {},
   "outputs": [
    {
     "data": {
      "text/html": [
       "<div>\n",
       "<style>\n",
       "    .dataframe thead tr:only-child th {\n",
       "        text-align: right;\n",
       "    }\n",
       "\n",
       "    .dataframe thead th {\n",
       "        text-align: left;\n",
       "    }\n",
       "\n",
       "    .dataframe tbody tr th {\n",
       "        vertical-align: top;\n",
       "    }\n",
       "</style>\n",
       "<table border=\"1\" class=\"dataframe\">\n",
       "  <thead>\n",
       "    <tr style=\"text-align: right;\">\n",
       "      <th></th>\n",
       "      <th>model</th>\n",
       "      <th>mse</th>\n",
       "    </tr>\n",
       "  </thead>\n",
       "  <tbody>\n",
       "    <tr>\n",
       "      <th>0</th>\n",
       "      <td>lm1</td>\n",
       "      <td>0.672173</td>\n",
       "    </tr>\n",
       "  </tbody>\n",
       "</table>\n",
       "</div>"
      ],
      "text/plain": [
       "  model       mse\n",
       "0   lm1  0.672173"
      ]
     },
     "execution_count": 60,
     "metadata": {},
     "output_type": "execute_result"
    }
   ],
   "source": [
    "stacked_mse = pd.DataFrame(columns=[\"model\", \"mse\"])\n",
    "stacked_mse.loc[0] = [\"lm1\", mean_squared_error(y_tr_3, final_lm_preds)]\n",
    "stacked_mse"
   ]
  },
  {
   "cell_type": "code",
   "execution_count": 61,
   "metadata": {
    "collapsed": true
   },
   "outputs": [],
   "source": [
    "final_lm_test_preds = final_lm.predict(X_test)"
   ]
  },
  {
   "cell_type": "code",
   "execution_count": 62,
   "metadata": {
    "scrolled": true
   },
   "outputs": [
    {
     "name": "stdout",
     "output_type": "stream",
     "text": [
      "target_lag_1    -    0.00266852860716\n",
      "target_item_lag_1    -    -0.00055034338828\n",
      "target_shop_lag_1    -    1.28969680693e-05\n",
      "target_lag_2    -    0.0126572606171\n",
      "target_item_lag_2    -    0.000586556442171\n",
      "target_shop_lag_2    -    3.27089915392e-06\n",
      "target_lag_3    -    0.00213674922031\n",
      "target_item_lag_3    -    0.000136722590735\n",
      "target_shop_lag_3    -    -3.41762833115e-06\n",
      "target_lag_4    -    0.00551427121255\n",
      "target_item_lag_4    -    -0.000165127436218\n",
      "target_shop_lag_4    -    -1.212265678e-05\n",
      "target_lag_12    -    -0.00624987355646\n",
      "target_item_lag_12    -    -0.000117074928894\n",
      "target_shop_lag_12    -    -6.73926910809e-06\n",
      "month_number    -    0.00495648466794\n",
      "lgb_7    -    -0.167127868355\n",
      "nn_7    -    -0.0407999123668\n",
      "lm_7    -    0.0371739566592\n",
      "et_7    -    -0.0826705593319\n",
      "lgb_l2    -    0.0344374944258\n",
      "lm_l2    -    0.554592388845\n",
      "et_l2    -    0.375886905096\n",
      "rf_l2    -    0.172018952858\n",
      "\n",
      "Positive Coeffs: ['target_lag_1', 'target_shop_lag_1', 'target_lag_2', 'target_item_lag_2', 'target_shop_lag_2', 'target_lag_3', 'target_item_lag_3', 'target_lag_4', 'month_number', 'lm_7', 'lgb_l2', 'lm_l2', 'et_l2', 'rf_l2']\n"
     ]
    }
   ],
   "source": [
    "pos_coefs = []\n",
    "for i in range(len(X_tr_3.columns)):\n",
    "    print(X_tr_3.columns[i], \"   -   \", final_lm.coef_[i])\n",
    "    if final_lm.coef_[i] > 0:\n",
    "        pos_coefs.append(X_tr_3.columns[i])\n",
    "        \n",
    "print()\n",
    "print(\"Positive Coeffs:\", pos_coefs)"
   ]
  },
  {
   "cell_type": "code",
   "execution_count": 67,
   "metadata": {},
   "outputs": [
    {
     "data": {
      "text/html": [
       "<div>\n",
       "<style>\n",
       "    .dataframe thead tr:only-child th {\n",
       "        text-align: right;\n",
       "    }\n",
       "\n",
       "    .dataframe thead th {\n",
       "        text-align: left;\n",
       "    }\n",
       "\n",
       "    .dataframe tbody tr th {\n",
       "        vertical-align: top;\n",
       "    }\n",
       "</style>\n",
       "<table border=\"1\" class=\"dataframe\">\n",
       "  <thead>\n",
       "    <tr style=\"text-align: right;\">\n",
       "      <th></th>\n",
       "      <th>ID</th>\n",
       "      <th>shop_id</th>\n",
       "      <th>item_id</th>\n",
       "    </tr>\n",
       "  </thead>\n",
       "  <tbody>\n",
       "    <tr>\n",
       "      <th>0</th>\n",
       "      <td>0</td>\n",
       "      <td>5</td>\n",
       "      <td>5037</td>\n",
       "    </tr>\n",
       "    <tr>\n",
       "      <th>1</th>\n",
       "      <td>1</td>\n",
       "      <td>5</td>\n",
       "      <td>5320</td>\n",
       "    </tr>\n",
       "    <tr>\n",
       "      <th>2</th>\n",
       "      <td>2</td>\n",
       "      <td>5</td>\n",
       "      <td>5233</td>\n",
       "    </tr>\n",
       "    <tr>\n",
       "      <th>3</th>\n",
       "      <td>3</td>\n",
       "      <td>5</td>\n",
       "      <td>5232</td>\n",
       "    </tr>\n",
       "    <tr>\n",
       "      <th>4</th>\n",
       "      <td>4</td>\n",
       "      <td>5</td>\n",
       "      <td>5268</td>\n",
       "    </tr>\n",
       "  </tbody>\n",
       "</table>\n",
       "</div>"
      ],
      "text/plain": [
       "   ID  shop_id  item_id\n",
       "0   0        5     5037\n",
       "1   1        5     5320\n",
       "2   2        5     5233\n",
       "3   3        5     5232\n",
       "4   4        5     5268"
      ]
     },
     "execution_count": 67,
     "metadata": {},
     "output_type": "execute_result"
    }
   ],
   "source": [
    "test       = pd.read_csv('./final_project_data/test.csv')\n",
    "test.head()"
   ]
  },
  {
   "cell_type": "code",
   "execution_count": 68,
   "metadata": {},
   "outputs": [],
   "source": [
    "test['lm_item_cnt_month'] = final_lm_test_preds.clip(*[0,20])"
   ]
  },
  {
   "cell_type": "code",
   "execution_count": 69,
   "metadata": {},
   "outputs": [
    {
     "name": "stdout",
     "output_type": "stream",
     "text": [
      "MSE: 0.675982953973\n",
      "Max: 29.9975356946\n"
     ]
    }
   ],
   "source": [
    "final_lm3 = LinearRegression(n_jobs=-1)\n",
    "final_lm3.fit(X_tr_3[pos_coefs], y_tr_3)\n",
    "final_lm_preds3 = final_lm3.predict(X_tr_3[pos_coefs])\n",
    "\n",
    "print(\"MSE:\", mean_squared_error(y_tr_3, final_lm_preds3))\n",
    "print(\"Max:\", np.max(final_lm_preds3))"
   ]
  },
  {
   "cell_type": "code",
   "execution_count": 70,
   "metadata": {},
   "outputs": [
    {
     "name": "stdout",
     "output_type": "stream",
     "text": [
      "Max: 26.5855636831\n"
     ]
    }
   ],
   "source": [
    "stacked_mse.loc[1] = [\"lm_pos\", mean_squared_error(y_tr_3, final_lm_preds3)]\n",
    "stacked_mse\n",
    "final_lm_test_preds3 = final_lm3.predict(X_test[pos_coefs])\n",
    "print(\"Max:\", np.max(final_lm_test_preds3))"
   ]
  },
  {
   "cell_type": "code",
   "execution_count": 71,
   "metadata": {
    "collapsed": true
   },
   "outputs": [],
   "source": [
    "test['lm3_item_cnt_month'] = final_lm_test_preds3.clip(*[0,20])"
   ]
  },
  {
   "cell_type": "code",
   "execution_count": 72,
   "metadata": {},
   "outputs": [
    {
     "name": "stdout",
     "output_type": "stream",
     "text": [
      "MSE: 0.676755064951\n"
     ]
    }
   ],
   "source": [
    "final_lm2 = LinearRegression(n_jobs=-1)\n",
    "final_lm2.fit(X_tr_3[pred_cols], y_tr_3)\n",
    "final_lm_preds2 = final_lm2.predict(X_tr_3[pred_cols])\n",
    "\n",
    "print(\"MSE:\", mean_squared_error(y_tr_3, final_lm_preds2))"
   ]
  },
  {
   "cell_type": "code",
   "execution_count": 73,
   "metadata": {},
   "outputs": [
    {
     "name": "stdout",
     "output_type": "stream",
     "text": [
      "Max: 20.0\n"
     ]
    }
   ],
   "source": [
    "stacked_mse.loc[2] = [\"lm_preds\", mean_squared_error(y_tr_3, final_lm_preds2)]\n",
    "stacked_mse\n",
    "final_lm_test_preds2 = final_lm2.predict(X_test[pred_cols]).clip(*[0,20])\n",
    "print(\"Max:\", np.max(final_lm_test_preds2))"
   ]
  },
  {
   "cell_type": "code",
   "execution_count": 74,
   "metadata": {
    "collapsed": true
   },
   "outputs": [],
   "source": [
    "test['lm2_item_cnt_month'] = final_lm_test_preds2"
   ]
  },
  {
   "cell_type": "markdown",
   "metadata": {},
   "source": [
    "## Final Model 2 : Random Forest"
   ]
  },
  {
   "cell_type": "code",
   "execution_count": 75,
   "metadata": {},
   "outputs": [
    {
     "name": "stderr",
     "output_type": "stream",
     "text": [
      "[Parallel(n_jobs=-1)]: Done  25 out of  25 | elapsed:  3.5min finished\n"
     ]
    },
    {
     "data": {
      "text/plain": [
       "RandomForestRegressor(bootstrap=True, criterion='mse', max_depth=10,\n",
       "           max_features='auto', max_leaf_nodes=None,\n",
       "           min_impurity_decrease=1e-06, min_impurity_split=None,\n",
       "           min_samples_leaf=25, min_samples_split=2,\n",
       "           min_weight_fraction_leaf=0.0, n_estimators=25, n_jobs=-1,\n",
       "           oob_score=False, random_state=13, verbose=1, warm_start=False)"
      ]
     },
     "execution_count": 75,
     "metadata": {},
     "output_type": "execute_result"
    }
   ],
   "source": [
    "final_forest = RandomForestRegressor(n_estimators=25, random_state=13, max_depth=10, min_impurity_decrease=1e-6, min_samples_leaf=25, n_jobs=-1, verbose=1)\n",
    "final_forest.fit(X_tr_3, y_tr_3)"
   ]
  },
  {
   "cell_type": "code",
   "execution_count": 76,
   "metadata": {},
   "outputs": [
    {
     "name": "stdout",
     "output_type": "stream",
     "text": [
      "MSE: 0.601317097898\n"
     ]
    },
    {
     "name": "stderr",
     "output_type": "stream",
     "text": [
      "[Parallel(n_jobs=4)]: Done  25 out of  25 | elapsed:    0.9s finished\n"
     ]
    }
   ],
   "source": [
    "# score on the data we trained on just for comparison\n",
    "ff_preds = final_forest.predict(X_tr_3)\n",
    "ff_mse = mean_squared_error(y_tr_3, ff_preds)\n",
    "\n",
    "print(\"MSE:\", ff_mse)"
   ]
  },
  {
   "cell_type": "code",
   "execution_count": 77,
   "metadata": {},
   "outputs": [
    {
     "name": "stderr",
     "output_type": "stream",
     "text": [
      "[Parallel(n_jobs=4)]: Done  25 out of  25 | elapsed:    0.1s finished\n"
     ]
    }
   ],
   "source": [
    "stacked_mse.loc[3] = [\"rf\", mean_squared_error(y_tr_3, ff_preds)]\n",
    "stacked_mse\n",
    "# predict on test data\n",
    "final_rf_test_preds = final_forest.predict(X_test)\n",
    "np.save(\"ff_test_preds_6.npy\", final_rf_test_preds)"
   ]
  },
  {
   "cell_type": "code",
   "execution_count": 78,
   "metadata": {
    "collapsed": true
   },
   "outputs": [],
   "source": [
    "np.max(final_rf_test_preds)\n",
    "test['rf_item_cnt_month'] = final_rf_test_preds.clip(*[0,20])\n",
    "test.to_pickle(\"./Processed_data/test_w_preds.pkl\")"
   ]
  },
  {
   "cell_type": "code",
   "execution_count": 79,
   "metadata": {},
   "outputs": [
    {
     "name": "stderr",
     "output_type": "stream",
     "text": [
      "[Parallel(n_jobs=-1)]: Done  25 out of  25 | elapsed:  2.4min finished\n"
     ]
    },
    {
     "name": "stdout",
     "output_type": "stream",
     "text": [
      "MSE: 0.608065681763\n"
     ]
    },
    {
     "name": "stderr",
     "output_type": "stream",
     "text": [
      "[Parallel(n_jobs=4)]: Done  25 out of  25 | elapsed:    0.8s finished\n"
     ]
    }
   ],
   "source": [
    "final_forest2 = RandomForestRegressor(n_estimators=25, random_state=13, max_depth=10, min_impurity_decrease=1e-6, min_samples_leaf=20, n_jobs=-1, verbose=1)\n",
    "final_forest2.fit(X_tr_3[pred_cols], y_tr_3)\n",
    "ff_preds2 = final_forest2.predict(X_tr_3[pred_cols])\n",
    "ff_mse2 = mean_squared_error(y_tr_3, ff_preds2)\n",
    "\n",
    "print(\"MSE:\", ff_mse2)"
   ]
  },
  {
   "cell_type": "code",
   "execution_count": 80,
   "metadata": {},
   "outputs": [
    {
     "name": "stdout",
     "output_type": "stream",
     "text": [
      "Max: 19.9930583181\n"
     ]
    },
    {
     "name": "stderr",
     "output_type": "stream",
     "text": [
      "[Parallel(n_jobs=4)]: Done  25 out of  25 | elapsed:    0.1s finished\n"
     ]
    }
   ],
   "source": [
    "stacked_mse.loc[4] = [\"rf_preds\", mean_squared_error(y_tr_3, ff_preds2)]\n",
    "stacked_mse\n",
    "final_rf_test_preds2 = final_forest2.predict(X_test[pred_cols])\n",
    "print(\"Max:\", np.max(final_rf_test_preds2))\n",
    "np.save(\"ff_test_preds_2_6.npy\", final_rf_test_preds2)"
   ]
  },
  {
   "cell_type": "code",
   "execution_count": 81,
   "metadata": {
    "collapsed": true
   },
   "outputs": [],
   "source": [
    "test['rf_item_cnt_month2'] = final_rf_test_preds2.clip(*[0,20])\n",
    "test.to_pickle(\"./Processed_data/test_w_preds.pkl\")"
   ]
  },
  {
   "cell_type": "markdown",
   "metadata": {},
   "source": [
    "## Final Model 3 : LGB"
   ]
  },
  {
   "cell_type": "code",
   "execution_count": 82,
   "metadata": {
    "collapsed": true
   },
   "outputs": [],
   "source": [
    "lgb_params = {\n",
    "                'feature_fraction': .75,\n",
    "                'metric': 'mse',\n",
    "                'max_depth': 15,\n",
    "                'nthread':6, \n",
    "                'min_data_in_leaf': 10, \n",
    "                'bagging_fraction': 0.75, \n",
    "                'boosting_type': 'gbdt',\n",
    "                'learning_rate': 0.03, \n",
    "                'objective': 'mse', \n",
    "                'application': 'regression',\n",
    "                'objective': 'regression',\n",
    "                'bagging_seed': 2407, \n",
    "                'num_leaves': 2**9,\n",
    "                'bagging_freq':1,\n",
    "                'verbose':1,\n",
    "              }\n",
    "\n",
    "final_lgb = lgb.train(lgb_params, lgb.Dataset(X_tr_3,label= y_tr_3), 100)"
   ]
  },
  {
   "cell_type": "code",
   "execution_count": 83,
   "metadata": {},
   "outputs": [
    {
     "name": "stdout",
     "output_type": "stream",
     "text": [
      "MSE: 0.476370653113\n"
     ]
    }
   ],
   "source": [
    "final_lgb_preds = final_lgb.predict(X_tr_3)\n",
    "final_lgb_mse = mean_squared_error(y_tr_3, final_lgb_preds)\n",
    "\n",
    "print(\"MSE:\", final_lgb_mse)"
   ]
  },
  {
   "cell_type": "code",
   "execution_count": 84,
   "metadata": {},
   "outputs": [
    {
     "name": "stdout",
     "output_type": "stream",
     "text": [
      "Max: 19.1426937912\n"
     ]
    }
   ],
   "source": [
    "stacked_mse.loc[5] = [\"lgb\", final_lgb_mse]\n",
    "stacked_mse\n",
    "final_lgb_test_preds = final_lgb.predict(X_test)\n",
    "print(\"Max:\", np.max(final_lgb_test_preds))"
   ]
  },
  {
   "cell_type": "code",
   "execution_count": 85,
   "metadata": {
    "collapsed": true
   },
   "outputs": [],
   "source": [
    "test['lgb_item_cnt_month'] = final_lgb_test_preds\n",
    "test[[\"ID\", \"lgb_item_cnt_month\"]].to_csv(\"20180725_lgb_final_new.csv\", header=[\"ID\", \"item_cnt_month\"], index=False)"
   ]
  },
  {
   "cell_type": "code",
   "execution_count": 86,
   "metadata": {
    "collapsed": true
   },
   "outputs": [],
   "source": [
    "lgb_params = {\n",
    "                'feature_fraction': .75,\n",
    "                'metric': 'mse',\n",
    "                'max_depth': 15,\n",
    "                'nthread':4, \n",
    "                'min_data_in_leaf': 20, \n",
    "                'bagging_fraction': 0.75, \n",
    "                'boosting_type': 'gbdt',\n",
    "                'learning_rate': 0.03, \n",
    "                'objective': 'mse', \n",
    "                'objective': 'regression',\n",
    "                'bagging_seed': 2407, \n",
    "                'num_leaves': 2**9,\n",
    "                'bagging_freq':1,\n",
    "                'verbose':2,\n",
    "              }\n",
    "final_lgb2 = lgb.train(lgb_params, lgb.Dataset(X_tr_3[pred_cols],label= y_tr_3), 100)"
   ]
  },
  {
   "cell_type": "code",
   "execution_count": 87,
   "metadata": {},
   "outputs": [
    {
     "name": "stdout",
     "output_type": "stream",
     "text": [
      "MSE: 0.584158191829\n",
      "Max: 17.676565402\n"
     ]
    }
   ],
   "source": [
    "final_lgb_preds2 = final_lgb2.predict(X_tr_3[pred_cols])\n",
    "final_lgb_mse2 = mean_squared_error(y_tr_3, final_lgb_preds2)\n",
    "\n",
    "print(\"MSE:\", final_lgb_mse2)\n",
    "print(\"Max:\", np.max(final_lgb_preds2))"
   ]
  },
  {
   "cell_type": "code",
   "execution_count": 88,
   "metadata": {},
   "outputs": [
    {
     "data": {
      "text/html": [
       "<div>\n",
       "<style>\n",
       "    .dataframe thead tr:only-child th {\n",
       "        text-align: right;\n",
       "    }\n",
       "\n",
       "    .dataframe thead th {\n",
       "        text-align: left;\n",
       "    }\n",
       "\n",
       "    .dataframe tbody tr th {\n",
       "        vertical-align: top;\n",
       "    }\n",
       "</style>\n",
       "<table border=\"1\" class=\"dataframe\">\n",
       "  <thead>\n",
       "    <tr style=\"text-align: right;\">\n",
       "      <th></th>\n",
       "      <th>model</th>\n",
       "      <th>mse</th>\n",
       "    </tr>\n",
       "  </thead>\n",
       "  <tbody>\n",
       "    <tr>\n",
       "      <th>0</th>\n",
       "      <td>lm1</td>\n",
       "      <td>0.672173</td>\n",
       "    </tr>\n",
       "    <tr>\n",
       "      <th>1</th>\n",
       "      <td>lm_pos</td>\n",
       "      <td>0.675983</td>\n",
       "    </tr>\n",
       "    <tr>\n",
       "      <th>2</th>\n",
       "      <td>lm_preds</td>\n",
       "      <td>0.676755</td>\n",
       "    </tr>\n",
       "    <tr>\n",
       "      <th>3</th>\n",
       "      <td>rf</td>\n",
       "      <td>0.601317</td>\n",
       "    </tr>\n",
       "    <tr>\n",
       "      <th>4</th>\n",
       "      <td>rf_preds</td>\n",
       "      <td>0.608066</td>\n",
       "    </tr>\n",
       "    <tr>\n",
       "      <th>5</th>\n",
       "      <td>lgb</td>\n",
       "      <td>0.476371</td>\n",
       "    </tr>\n",
       "    <tr>\n",
       "      <th>6</th>\n",
       "      <td>lgb_preds</td>\n",
       "      <td>0.584158</td>\n",
       "    </tr>\n",
       "  </tbody>\n",
       "</table>\n",
       "</div>"
      ],
      "text/plain": [
       "       model       mse\n",
       "0        lm1  0.672173\n",
       "1     lm_pos  0.675983\n",
       "2   lm_preds  0.676755\n",
       "3         rf  0.601317\n",
       "4   rf_preds  0.608066\n",
       "5        lgb  0.476371\n",
       "6  lgb_preds  0.584158"
      ]
     },
     "execution_count": 88,
     "metadata": {},
     "output_type": "execute_result"
    }
   ],
   "source": [
    "stacked_mse.loc[6] = [\"lgb_preds\", final_lgb_mse2]\n",
    "stacked_mse"
   ]
  },
  {
   "cell_type": "code",
   "execution_count": 91,
   "metadata": {},
   "outputs": [
    {
     "name": "stdout",
     "output_type": "stream",
     "text": [
      "Max: 12.1438740358\n"
     ]
    }
   ],
   "source": [
    "final_lgb_test_preds2 = final_lgb2.predict(X_test[pred_cols])\n",
    "print(\"Max:\", np.max(final_lgb_test_preds2))\n",
    "test['lgb_item_cnt_month2'] = final_lgb_test_preds2"
   ]
  },
  {
   "cell_type": "code",
   "execution_count": 93,
   "metadata": {},
   "outputs": [
    {
     "data": {
      "text/html": [
       "<div>\n",
       "<style>\n",
       "    .dataframe thead tr:only-child th {\n",
       "        text-align: right;\n",
       "    }\n",
       "\n",
       "    .dataframe thead th {\n",
       "        text-align: left;\n",
       "    }\n",
       "\n",
       "    .dataframe tbody tr th {\n",
       "        vertical-align: top;\n",
       "    }\n",
       "</style>\n",
       "<table border=\"1\" class=\"dataframe\">\n",
       "  <thead>\n",
       "    <tr style=\"text-align: right;\">\n",
       "      <th></th>\n",
       "      <th>ID</th>\n",
       "      <th>shop_id</th>\n",
       "      <th>item_id</th>\n",
       "      <th>lm_item_cnt_month</th>\n",
       "      <th>lm3_item_cnt_month</th>\n",
       "      <th>lm2_item_cnt_month</th>\n",
       "      <th>rf_item_cnt_month</th>\n",
       "      <th>rf_item_cnt_month2</th>\n",
       "      <th>lgb_item_cnt_month</th>\n",
       "      <th>lgb_item_cnt_month2</th>\n",
       "    </tr>\n",
       "  </thead>\n",
       "  <tbody>\n",
       "    <tr>\n",
       "      <th>0</th>\n",
       "      <td>0</td>\n",
       "      <td>5</td>\n",
       "      <td>5037</td>\n",
       "      <td>0.657617</td>\n",
       "      <td>0.627546</td>\n",
       "      <td>0.620372</td>\n",
       "      <td>0.775235</td>\n",
       "      <td>0.658678</td>\n",
       "      <td>0.661819</td>\n",
       "      <td>0.635214</td>\n",
       "    </tr>\n",
       "    <tr>\n",
       "      <th>1</th>\n",
       "      <td>1</td>\n",
       "      <td>5</td>\n",
       "      <td>5320</td>\n",
       "      <td>0.261580</td>\n",
       "      <td>0.249188</td>\n",
       "      <td>0.264817</td>\n",
       "      <td>0.220781</td>\n",
       "      <td>0.218335</td>\n",
       "      <td>0.218740</td>\n",
       "      <td>0.200038</td>\n",
       "    </tr>\n",
       "    <tr>\n",
       "      <th>2</th>\n",
       "      <td>2</td>\n",
       "      <td>5</td>\n",
       "      <td>5233</td>\n",
       "      <td>0.887828</td>\n",
       "      <td>0.850879</td>\n",
       "      <td>0.850332</td>\n",
       "      <td>0.985467</td>\n",
       "      <td>0.934715</td>\n",
       "      <td>0.916285</td>\n",
       "      <td>0.847754</td>\n",
       "    </tr>\n",
       "    <tr>\n",
       "      <th>3</th>\n",
       "      <td>3</td>\n",
       "      <td>5</td>\n",
       "      <td>5232</td>\n",
       "      <td>0.655792</td>\n",
       "      <td>0.626069</td>\n",
       "      <td>0.634864</td>\n",
       "      <td>0.729238</td>\n",
       "      <td>0.639419</td>\n",
       "      <td>0.663530</td>\n",
       "      <td>0.609056</td>\n",
       "    </tr>\n",
       "    <tr>\n",
       "      <th>4</th>\n",
       "      <td>4</td>\n",
       "      <td>5</td>\n",
       "      <td>5268</td>\n",
       "      <td>5.153497</td>\n",
       "      <td>4.709488</td>\n",
       "      <td>5.139327</td>\n",
       "      <td>4.171311</td>\n",
       "      <td>4.824730</td>\n",
       "      <td>3.457588</td>\n",
       "      <td>4.531997</td>\n",
       "    </tr>\n",
       "  </tbody>\n",
       "</table>\n",
       "</div>"
      ],
      "text/plain": [
       "   ID  shop_id  item_id  lm_item_cnt_month  lm3_item_cnt_month  \\\n",
       "0   0        5     5037           0.657617            0.627546   \n",
       "1   1        5     5320           0.261580            0.249188   \n",
       "2   2        5     5233           0.887828            0.850879   \n",
       "3   3        5     5232           0.655792            0.626069   \n",
       "4   4        5     5268           5.153497            4.709488   \n",
       "\n",
       "   lm2_item_cnt_month  rf_item_cnt_month  rf_item_cnt_month2  \\\n",
       "0            0.620372           0.775235            0.658678   \n",
       "1            0.264817           0.220781            0.218335   \n",
       "2            0.850332           0.985467            0.934715   \n",
       "3            0.634864           0.729238            0.639419   \n",
       "4            5.139327           4.171311            4.824730   \n",
       "\n",
       "   lgb_item_cnt_month  lgb_item_cnt_month2  \n",
       "0            0.661819             0.635214  \n",
       "1            0.218740             0.200038  \n",
       "2            0.916285             0.847754  \n",
       "3            0.663530             0.609056  \n",
       "4            3.457588             4.531997  "
      ]
     },
     "execution_count": 93,
     "metadata": {},
     "output_type": "execute_result"
    }
   ],
   "source": [
    "test.head()"
   ]
  },
  {
   "cell_type": "markdown",
   "metadata": {},
   "source": [
    "# Result "
   ]
  },
  {
   "cell_type": "code",
   "execution_count": 96,
   "metadata": {},
   "outputs": [
    {
     "data": {
      "text/plain": [
       "Index(['ID', 'shop_id', 'item_id', 'lm_item_cnt_month', 'lm3_item_cnt_month',\n",
       "       'lm2_item_cnt_month', 'rf_item_cnt_month', 'rf_item_cnt_month2',\n",
       "       'lgb_item_cnt_month', 'lgb_item_cnt_month2'],\n",
       "      dtype='object')"
      ]
     },
     "execution_count": 96,
     "metadata": {},
     "output_type": "execute_result"
    }
   ],
   "source": [
    "test.columns"
   ]
  },
  {
   "cell_type": "code",
   "execution_count": 103,
   "metadata": {},
   "outputs": [
    {
     "name": "stdout",
     "output_type": "stream",
     "text": [
      "['rf_item_cnt_month', 'lm2_item_cnt_month', 'rf_item_cnt_month2', 'lgb_item_cnt_month2', 'lm3_item_cnt_month', 'lgb_item_cnt_month', 'lm_item_cnt_month']\n"
     ]
    }
   ],
   "source": [
    "Avg_col = list(set(test.columns) - set(['ID', 'item_id', 'shop_id']))\n",
    "print(Avg_col)"
   ]
  },
  {
   "cell_type": "code",
   "execution_count": 106,
   "metadata": {},
   "outputs": [],
   "source": [
    "test[\"Avg\"] = np.mean(test[Avg_col], axis = 1)"
   ]
  },
  {
   "cell_type": "code",
   "execution_count": 107,
   "metadata": {
    "collapsed": true
   },
   "outputs": [],
   "source": [
    "test[[\"ID\", \"Avg\"]].to_csv(\"20180725_Avg_new.csv\", header=[\"ID\", \"item_cnt_month\"], index=False)"
   ]
  },
  {
   "cell_type": "code",
   "execution_count": null,
   "metadata": {
    "collapsed": true
   },
   "outputs": [],
   "source": []
  }
 ],
 "metadata": {
  "kernelspec": {
   "display_name": "Python 3",
   "language": "python",
   "name": "python3"
  },
  "language_info": {
   "codemirror_mode": {
    "name": "ipython",
    "version": 3
   },
   "file_extension": ".py",
   "mimetype": "text/x-python",
   "name": "python",
   "nbconvert_exporter": "python",
   "pygments_lexer": "ipython3",
   "version": "3.6.3"
  }
 },
 "nbformat": 4,
 "nbformat_minor": 2
}
