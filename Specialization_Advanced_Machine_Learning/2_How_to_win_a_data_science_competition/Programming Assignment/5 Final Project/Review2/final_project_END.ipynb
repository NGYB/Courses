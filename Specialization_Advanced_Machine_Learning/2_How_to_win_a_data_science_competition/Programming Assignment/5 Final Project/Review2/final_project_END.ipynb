{
 "cells": [
  {
   "cell_type": "markdown",
   "metadata": {
    "_cell_guid": "a389695a-2af0-4761-a57b-dd00e72b3c57",
    "_uuid": "a5a5f83e347d30cf4873e62482a707bd6b1c9c8a"
   },
   "source": [
    "## Load Data, import libs"
   ]
  },
  {
   "cell_type": "code",
   "execution_count": 1,
   "metadata": {
    "_cell_guid": "b1076dfc-b9ad-4769-8c92-a6c4dae69d19",
    "_uuid": "8f2839f25d086af736a60e9eeb907d3b93b6e0e5",
    "collapsed": true
   },
   "outputs": [],
   "source": [
    "import numpy as np\n",
    "import pandas as pd\n",
    "import gzip # for gzip files\n",
    "import matplotlib.pyplot as plt\n",
    "%matplotlib inline\n",
    "\n",
    "# Load items and shops\n",
    "items_df = pd.read_csv('items.csv')\n",
    "shops_df = pd.read_csv('shops.csv')\n",
    "# Load other\n",
    "icats_df = pd.read_csv('item_categories.csv')\n",
    "train_df = pd.read_csv('sales_train.csv.gz', header=0, sep=',', quotechar='\"')\n",
    "smpsb_df = pd.read_csv('sample_submission.csv', header=0, sep=',', quotechar='\"')\n",
    "test_df  = pd.read_csv('test.csv', header=0, sep=',', quotechar='\"')"
   ]
  },
  {
   "cell_type": "markdown",
   "metadata": {},
   "source": [
    "# Check what's in dataframes"
   ]
  },
  {
   "cell_type": "code",
   "execution_count": 2,
   "metadata": {
    "collapsed": false
   },
   "outputs": [
    {
     "data": {
      "text/html": [
       "<div>\n",
       "<table border=\"1\" class=\"dataframe\">\n",
       "  <thead>\n",
       "    <tr style=\"text-align: right;\">\n",
       "      <th></th>\n",
       "      <th>item_name</th>\n",
       "      <th>item_id</th>\n",
       "      <th>item_category_id</th>\n",
       "    </tr>\n",
       "  </thead>\n",
       "  <tbody>\n",
       "    <tr>\n",
       "      <th>0</th>\n",
       "      <td>! ВО ВЛАСТИ НАВАЖДЕНИЯ (ПЛАСТ.)         D</td>\n",
       "      <td>0</td>\n",
       "      <td>40</td>\n",
       "    </tr>\n",
       "    <tr>\n",
       "      <th>1</th>\n",
       "      <td>!ABBYY FineReader 12 Professional Edition Full...</td>\n",
       "      <td>1</td>\n",
       "      <td>76</td>\n",
       "    </tr>\n",
       "    <tr>\n",
       "      <th>2</th>\n",
       "      <td>***В ЛУЧАХ СЛАВЫ   (UNV)                    D</td>\n",
       "      <td>2</td>\n",
       "      <td>40</td>\n",
       "    </tr>\n",
       "    <tr>\n",
       "      <th>3</th>\n",
       "      <td>***ГОЛУБАЯ ВОЛНА  (Univ)                      D</td>\n",
       "      <td>3</td>\n",
       "      <td>40</td>\n",
       "    </tr>\n",
       "    <tr>\n",
       "      <th>4</th>\n",
       "      <td>***КОРОБКА (СТЕКЛО)                       D</td>\n",
       "      <td>4</td>\n",
       "      <td>40</td>\n",
       "    </tr>\n",
       "  </tbody>\n",
       "</table>\n",
       "</div>"
      ],
      "text/plain": [
       "                                           item_name  item_id  \\\n",
       "0          ! ВО ВЛАСТИ НАВАЖДЕНИЯ (ПЛАСТ.)         D        0   \n",
       "1  !ABBYY FineReader 12 Professional Edition Full...        1   \n",
       "2      ***В ЛУЧАХ СЛАВЫ   (UNV)                    D        2   \n",
       "3    ***ГОЛУБАЯ ВОЛНА  (Univ)                      D        3   \n",
       "4        ***КОРОБКА (СТЕКЛО)                       D        4   \n",
       "\n",
       "   item_category_id  \n",
       "0                40  \n",
       "1                76  \n",
       "2                40  \n",
       "3                40  \n",
       "4                40  "
      ]
     },
     "execution_count": 2,
     "metadata": {},
     "output_type": "execute_result"
    }
   ],
   "source": [
    "items_df.head()"
   ]
  },
  {
   "cell_type": "code",
   "execution_count": 3,
   "metadata": {
    "collapsed": false
   },
   "outputs": [
    {
     "name": "stdout",
     "output_type": "stream",
     "text": [
      "(22170, 3)\n",
      "(60, 2)\n",
      "(84, 2)\n",
      "(2935849, 6)\n",
      "(214200, 2)\n",
      "(214200, 3)\n"
     ]
    }
   ],
   "source": [
    "# Check the shapes of dfs\n",
    "print (items_df.shape)\n",
    "print (shops_df.shape)\n",
    "print (icats_df.shape)\n",
    "print (train_df.shape)\n",
    "print (smpsb_df.shape)\n",
    "print (test_df.shape)"
   ]
  },
  {
   "cell_type": "code",
   "execution_count": 4,
   "metadata": {
    "collapsed": false
   },
   "outputs": [
    {
     "data": {
      "text/html": [
       "<div>\n",
       "<table border=\"1\" class=\"dataframe\">\n",
       "  <thead>\n",
       "    <tr style=\"text-align: right;\">\n",
       "      <th></th>\n",
       "      <th>shop_name</th>\n",
       "      <th>shop_id</th>\n",
       "    </tr>\n",
       "  </thead>\n",
       "  <tbody>\n",
       "    <tr>\n",
       "      <th>0</th>\n",
       "      <td>!Якутск Орджоникидзе, 56 фран</td>\n",
       "      <td>0</td>\n",
       "    </tr>\n",
       "    <tr>\n",
       "      <th>1</th>\n",
       "      <td>!Якутск ТЦ \"Центральный\" фран</td>\n",
       "      <td>1</td>\n",
       "    </tr>\n",
       "    <tr>\n",
       "      <th>2</th>\n",
       "      <td>Адыгея ТЦ \"Мега\"</td>\n",
       "      <td>2</td>\n",
       "    </tr>\n",
       "    <tr>\n",
       "      <th>3</th>\n",
       "      <td>Балашиха ТРК \"Октябрь-Киномир\"</td>\n",
       "      <td>3</td>\n",
       "    </tr>\n",
       "    <tr>\n",
       "      <th>4</th>\n",
       "      <td>Волжский ТЦ \"Волга Молл\"</td>\n",
       "      <td>4</td>\n",
       "    </tr>\n",
       "  </tbody>\n",
       "</table>\n",
       "</div>"
      ],
      "text/plain": [
       "                        shop_name  shop_id\n",
       "0   !Якутск Орджоникидзе, 56 фран        0\n",
       "1   !Якутск ТЦ \"Центральный\" фран        1\n",
       "2                Адыгея ТЦ \"Мега\"        2\n",
       "3  Балашиха ТРК \"Октябрь-Киномир\"        3\n",
       "4        Волжский ТЦ \"Волга Молл\"        4"
      ]
     },
     "execution_count": 4,
     "metadata": {},
     "output_type": "execute_result"
    }
   ],
   "source": [
    "shops_df.head()"
   ]
  },
  {
   "cell_type": "code",
   "execution_count": 5,
   "metadata": {
    "collapsed": false
   },
   "outputs": [
    {
     "data": {
      "text/html": [
       "<div>\n",
       "<table border=\"1\" class=\"dataframe\">\n",
       "  <thead>\n",
       "    <tr style=\"text-align: right;\">\n",
       "      <th></th>\n",
       "      <th>item_category_name</th>\n",
       "      <th>item_category_id</th>\n",
       "    </tr>\n",
       "  </thead>\n",
       "  <tbody>\n",
       "    <tr>\n",
       "      <th>0</th>\n",
       "      <td>PC - Гарнитуры/Наушники</td>\n",
       "      <td>0</td>\n",
       "    </tr>\n",
       "    <tr>\n",
       "      <th>1</th>\n",
       "      <td>Аксессуары - PS2</td>\n",
       "      <td>1</td>\n",
       "    </tr>\n",
       "    <tr>\n",
       "      <th>2</th>\n",
       "      <td>Аксессуары - PS3</td>\n",
       "      <td>2</td>\n",
       "    </tr>\n",
       "    <tr>\n",
       "      <th>3</th>\n",
       "      <td>Аксессуары - PS4</td>\n",
       "      <td>3</td>\n",
       "    </tr>\n",
       "    <tr>\n",
       "      <th>4</th>\n",
       "      <td>Аксессуары - PSP</td>\n",
       "      <td>4</td>\n",
       "    </tr>\n",
       "  </tbody>\n",
       "</table>\n",
       "</div>"
      ],
      "text/plain": [
       "        item_category_name  item_category_id\n",
       "0  PC - Гарнитуры/Наушники                 0\n",
       "1         Аксессуары - PS2                 1\n",
       "2         Аксессуары - PS3                 2\n",
       "3         Аксессуары - PS4                 3\n",
       "4         Аксессуары - PSP                 4"
      ]
     },
     "execution_count": 5,
     "metadata": {},
     "output_type": "execute_result"
    }
   ],
   "source": [
    "icats_df.head()"
   ]
  },
  {
   "cell_type": "code",
   "execution_count": 6,
   "metadata": {
    "collapsed": false
   },
   "outputs": [
    {
     "data": {
      "text/html": [
       "<div>\n",
       "<table border=\"1\" class=\"dataframe\">\n",
       "  <thead>\n",
       "    <tr style=\"text-align: right;\">\n",
       "      <th></th>\n",
       "      <th>date</th>\n",
       "      <th>date_block_num</th>\n",
       "      <th>shop_id</th>\n",
       "      <th>item_id</th>\n",
       "      <th>item_price</th>\n",
       "      <th>item_cnt_day</th>\n",
       "    </tr>\n",
       "  </thead>\n",
       "  <tbody>\n",
       "    <tr>\n",
       "      <th>0</th>\n",
       "      <td>02.01.2013</td>\n",
       "      <td>0</td>\n",
       "      <td>59</td>\n",
       "      <td>22154</td>\n",
       "      <td>999.00</td>\n",
       "      <td>1.0</td>\n",
       "    </tr>\n",
       "    <tr>\n",
       "      <th>1</th>\n",
       "      <td>03.01.2013</td>\n",
       "      <td>0</td>\n",
       "      <td>25</td>\n",
       "      <td>2552</td>\n",
       "      <td>899.00</td>\n",
       "      <td>1.0</td>\n",
       "    </tr>\n",
       "    <tr>\n",
       "      <th>2</th>\n",
       "      <td>05.01.2013</td>\n",
       "      <td>0</td>\n",
       "      <td>25</td>\n",
       "      <td>2552</td>\n",
       "      <td>899.00</td>\n",
       "      <td>-1.0</td>\n",
       "    </tr>\n",
       "    <tr>\n",
       "      <th>3</th>\n",
       "      <td>06.01.2013</td>\n",
       "      <td>0</td>\n",
       "      <td>25</td>\n",
       "      <td>2554</td>\n",
       "      <td>1709.05</td>\n",
       "      <td>1.0</td>\n",
       "    </tr>\n",
       "    <tr>\n",
       "      <th>4</th>\n",
       "      <td>15.01.2013</td>\n",
       "      <td>0</td>\n",
       "      <td>25</td>\n",
       "      <td>2555</td>\n",
       "      <td>1099.00</td>\n",
       "      <td>1.0</td>\n",
       "    </tr>\n",
       "  </tbody>\n",
       "</table>\n",
       "</div>"
      ],
      "text/plain": [
       "         date  date_block_num  shop_id  item_id  item_price  item_cnt_day\n",
       "0  02.01.2013               0       59    22154      999.00           1.0\n",
       "1  03.01.2013               0       25     2552      899.00           1.0\n",
       "2  05.01.2013               0       25     2552      899.00          -1.0\n",
       "3  06.01.2013               0       25     2554     1709.05           1.0\n",
       "4  15.01.2013               0       25     2555     1099.00           1.0"
      ]
     },
     "execution_count": 6,
     "metadata": {},
     "output_type": "execute_result"
    }
   ],
   "source": [
    "train_df.head()"
   ]
  },
  {
   "cell_type": "code",
   "execution_count": 7,
   "metadata": {
    "collapsed": false
   },
   "outputs": [
    {
     "data": {
      "text/html": [
       "<div>\n",
       "<table border=\"1\" class=\"dataframe\">\n",
       "  <thead>\n",
       "    <tr style=\"text-align: right;\">\n",
       "      <th></th>\n",
       "      <th>ID</th>\n",
       "      <th>item_cnt_month</th>\n",
       "    </tr>\n",
       "  </thead>\n",
       "  <tbody>\n",
       "    <tr>\n",
       "      <th>0</th>\n",
       "      <td>0</td>\n",
       "      <td>0.5</td>\n",
       "    </tr>\n",
       "    <tr>\n",
       "      <th>1</th>\n",
       "      <td>1</td>\n",
       "      <td>0.5</td>\n",
       "    </tr>\n",
       "    <tr>\n",
       "      <th>2</th>\n",
       "      <td>2</td>\n",
       "      <td>0.5</td>\n",
       "    </tr>\n",
       "    <tr>\n",
       "      <th>3</th>\n",
       "      <td>3</td>\n",
       "      <td>0.5</td>\n",
       "    </tr>\n",
       "    <tr>\n",
       "      <th>4</th>\n",
       "      <td>4</td>\n",
       "      <td>0.5</td>\n",
       "    </tr>\n",
       "  </tbody>\n",
       "</table>\n",
       "</div>"
      ],
      "text/plain": [
       "   ID  item_cnt_month\n",
       "0   0             0.5\n",
       "1   1             0.5\n",
       "2   2             0.5\n",
       "3   3             0.5\n",
       "4   4             0.5"
      ]
     },
     "execution_count": 7,
     "metadata": {},
     "output_type": "execute_result"
    }
   ],
   "source": [
    "smpsb_df.head()"
   ]
  },
  {
   "cell_type": "code",
   "execution_count": 8,
   "metadata": {
    "collapsed": false
   },
   "outputs": [
    {
     "data": {
      "text/html": [
       "<div>\n",
       "<table border=\"1\" class=\"dataframe\">\n",
       "  <thead>\n",
       "    <tr style=\"text-align: right;\">\n",
       "      <th></th>\n",
       "      <th>ID</th>\n",
       "      <th>shop_id</th>\n",
       "      <th>item_id</th>\n",
       "    </tr>\n",
       "  </thead>\n",
       "  <tbody>\n",
       "    <tr>\n",
       "      <th>0</th>\n",
       "      <td>0</td>\n",
       "      <td>5</td>\n",
       "      <td>5037</td>\n",
       "    </tr>\n",
       "    <tr>\n",
       "      <th>1</th>\n",
       "      <td>1</td>\n",
       "      <td>5</td>\n",
       "      <td>5320</td>\n",
       "    </tr>\n",
       "    <tr>\n",
       "      <th>2</th>\n",
       "      <td>2</td>\n",
       "      <td>5</td>\n",
       "      <td>5233</td>\n",
       "    </tr>\n",
       "    <tr>\n",
       "      <th>3</th>\n",
       "      <td>3</td>\n",
       "      <td>5</td>\n",
       "      <td>5232</td>\n",
       "    </tr>\n",
       "    <tr>\n",
       "      <th>4</th>\n",
       "      <td>4</td>\n",
       "      <td>5</td>\n",
       "      <td>5268</td>\n",
       "    </tr>\n",
       "  </tbody>\n",
       "</table>\n",
       "</div>"
      ],
      "text/plain": [
       "   ID  shop_id  item_id\n",
       "0   0        5     5037\n",
       "1   1        5     5320\n",
       "2   2        5     5233\n",
       "3   3        5     5232\n",
       "4   4        5     5268"
      ]
     },
     "execution_count": 8,
     "metadata": {},
     "output_type": "execute_result"
    }
   ],
   "source": [
    "test_df.head()"
   ]
  },
  {
   "cell_type": "markdown",
   "metadata": {
    "_cell_guid": "79c7e3d0-c299-4dcb-8224-4455121ee9b0",
    "_uuid": "d629ff2d2480ee46fbb7e2d37f6b5fab8052498a",
    "collapsed": true
   },
   "source": [
    "## Map Items Categorries\n",
    "Map Cattegories to more narrow ones"
   ]
  },
  {
   "cell_type": "code",
   "execution_count": 9,
   "metadata": {
    "_cell_guid": "63a4042c-cf37-4272-963a-adb7cbe29727",
    "_uuid": "3f94e8420e24fc493ddd5a768cf4327d21694ec1",
    "collapsed": false
   },
   "outputs": [
    {
     "data": {
      "text/html": [
       "<div>\n",
       "<table border=\"1\" class=\"dataframe\">\n",
       "  <thead>\n",
       "    <tr style=\"text-align: right;\">\n",
       "      <th></th>\n",
       "      <th>item_category_name</th>\n",
       "      <th>item_category_id</th>\n",
       "      <th>cats</th>\n",
       "    </tr>\n",
       "  </thead>\n",
       "  <tbody>\n",
       "    <tr>\n",
       "      <th>0</th>\n",
       "      <td>PC - Гарнитуры/Наушники</td>\n",
       "      <td>0</td>\n",
       "      <td>PC - Гарнитуры/Наушники</td>\n",
       "    </tr>\n",
       "    <tr>\n",
       "      <th>1</th>\n",
       "      <td>Аксессуары - PS2</td>\n",
       "      <td>1</td>\n",
       "      <td>Access</td>\n",
       "    </tr>\n",
       "    <tr>\n",
       "      <th>2</th>\n",
       "      <td>Аксессуары - PS3</td>\n",
       "      <td>2</td>\n",
       "      <td>Access</td>\n",
       "    </tr>\n",
       "    <tr>\n",
       "      <th>3</th>\n",
       "      <td>Аксессуары - PS4</td>\n",
       "      <td>3</td>\n",
       "      <td>Access</td>\n",
       "    </tr>\n",
       "    <tr>\n",
       "      <th>4</th>\n",
       "      <td>Аксессуары - PSP</td>\n",
       "      <td>4</td>\n",
       "      <td>Access</td>\n",
       "    </tr>\n",
       "  </tbody>\n",
       "</table>\n",
       "</div>"
      ],
      "text/plain": [
       "        item_category_name  item_category_id                     cats\n",
       "0  PC - Гарнитуры/Наушники                 0  PC - Гарнитуры/Наушники\n",
       "1         Аксессуары - PS2                 1                   Access\n",
       "2         Аксессуары - PS3                 2                   Access\n",
       "3         Аксессуары - PS4                 3                   Access\n",
       "4         Аксессуары - PSP                 4                   Access"
      ]
     },
     "execution_count": 9,
     "metadata": {},
     "output_type": "execute_result"
    }
   ],
   "source": [
    "l = list(icats_df.item_category_name)\n",
    "l_cat = l\n",
    "\n",
    "for ind in range(1,8):\n",
    "    l_cat[ind] = 'Access'\n",
    "\n",
    "for ind in range(10,18):\n",
    "    l_cat[ind] = 'Consoles'\n",
    "\n",
    "for ind in range(18,25):\n",
    "    l_cat[ind] = 'Consoles Games'\n",
    "\n",
    "for ind in range(26,28):\n",
    "    l_cat[ind] = 'phone games'\n",
    "\n",
    "for ind in range(28,32):\n",
    "    l_cat[ind] = 'CD games'\n",
    "\n",
    "for ind in range(32,37):\n",
    "    l_cat[ind] = 'Card'\n",
    "\n",
    "for ind in range(37,43):\n",
    "    l_cat[ind] = 'Movie'\n",
    "\n",
    "for ind in range(43,55):\n",
    "    l_cat[ind] = 'Books'\n",
    "\n",
    "for ind in range(55,61):\n",
    "    l_cat[ind] = 'Music'\n",
    "\n",
    "for ind in range(61,73):\n",
    "    l_cat[ind] = 'Gifts'\n",
    "\n",
    "for ind in range(73,79):\n",
    "    l_cat[ind] = 'Soft'\n",
    "\n",
    "\n",
    "icats_df['cats'] = l_cat\n",
    "icats_df.head()"
   ]
  },
  {
   "cell_type": "code",
   "execution_count": 10,
   "metadata": {
    "collapsed": true
   },
   "outputs": [],
   "source": [
    "items_df = pd.merge(items_df, icats_df, on=['item_category_id'], how='left')"
   ]
  },
  {
   "cell_type": "code",
   "execution_count": 11,
   "metadata": {
    "collapsed": false
   },
   "outputs": [
    {
     "data": {
      "text/html": [
       "<div>\n",
       "<table border=\"1\" class=\"dataframe\">\n",
       "  <thead>\n",
       "    <tr style=\"text-align: right;\">\n",
       "      <th></th>\n",
       "      <th>item_id</th>\n",
       "      <th>cats</th>\n",
       "    </tr>\n",
       "  </thead>\n",
       "  <tbody>\n",
       "    <tr>\n",
       "      <th>0</th>\n",
       "      <td>0</td>\n",
       "      <td>Movie</td>\n",
       "    </tr>\n",
       "    <tr>\n",
       "      <th>1</th>\n",
       "      <td>1</td>\n",
       "      <td>Soft</td>\n",
       "    </tr>\n",
       "    <tr>\n",
       "      <th>2</th>\n",
       "      <td>2</td>\n",
       "      <td>Movie</td>\n",
       "    </tr>\n",
       "    <tr>\n",
       "      <th>3</th>\n",
       "      <td>3</td>\n",
       "      <td>Movie</td>\n",
       "    </tr>\n",
       "    <tr>\n",
       "      <th>4</th>\n",
       "      <td>4</td>\n",
       "      <td>Movie</td>\n",
       "    </tr>\n",
       "  </tbody>\n",
       "</table>\n",
       "</div>"
      ],
      "text/plain": [
       "   item_id   cats\n",
       "0        0  Movie\n",
       "1        1   Soft\n",
       "2        2  Movie\n",
       "3        3  Movie\n",
       "4        4  Movie"
      ]
     },
     "execution_count": 11,
     "metadata": {},
     "output_type": "execute_result"
    }
   ],
   "source": [
    "items_df = items_df[['item_id', 'cats']]\n",
    "items_df.head()"
   ]
  },
  {
   "cell_type": "markdown",
   "metadata": {},
   "source": [
    "## EDA"
   ]
  },
  {
   "cell_type": "code",
   "execution_count": 12,
   "metadata": {
    "collapsed": false
   },
   "outputs": [
    {
     "data": {
      "text/html": [
       "<div>\n",
       "<table border=\"1\" class=\"dataframe\">\n",
       "  <thead>\n",
       "    <tr style=\"text-align: right;\">\n",
       "      <th></th>\n",
       "      <th>date_block_num</th>\n",
       "      <th>shop_id</th>\n",
       "      <th>item_id</th>\n",
       "      <th>item_price</th>\n",
       "      <th>item_cnt_day</th>\n",
       "    </tr>\n",
       "  </thead>\n",
       "  <tbody>\n",
       "    <tr>\n",
       "      <th>count</th>\n",
       "      <td>2.935849e+06</td>\n",
       "      <td>2.935849e+06</td>\n",
       "      <td>2.935849e+06</td>\n",
       "      <td>2.935849e+06</td>\n",
       "      <td>2.935849e+06</td>\n",
       "    </tr>\n",
       "    <tr>\n",
       "      <th>mean</th>\n",
       "      <td>1.456991e+01</td>\n",
       "      <td>3.300173e+01</td>\n",
       "      <td>1.019723e+04</td>\n",
       "      <td>8.908532e+02</td>\n",
       "      <td>1.242641e+00</td>\n",
       "    </tr>\n",
       "    <tr>\n",
       "      <th>std</th>\n",
       "      <td>9.422988e+00</td>\n",
       "      <td>1.622697e+01</td>\n",
       "      <td>6.324297e+03</td>\n",
       "      <td>1.729800e+03</td>\n",
       "      <td>2.618834e+00</td>\n",
       "    </tr>\n",
       "    <tr>\n",
       "      <th>min</th>\n",
       "      <td>0.000000e+00</td>\n",
       "      <td>0.000000e+00</td>\n",
       "      <td>0.000000e+00</td>\n",
       "      <td>-1.000000e+00</td>\n",
       "      <td>-2.200000e+01</td>\n",
       "    </tr>\n",
       "    <tr>\n",
       "      <th>25%</th>\n",
       "      <td>7.000000e+00</td>\n",
       "      <td>2.200000e+01</td>\n",
       "      <td>4.476000e+03</td>\n",
       "      <td>2.490000e+02</td>\n",
       "      <td>1.000000e+00</td>\n",
       "    </tr>\n",
       "    <tr>\n",
       "      <th>50%</th>\n",
       "      <td>1.400000e+01</td>\n",
       "      <td>3.100000e+01</td>\n",
       "      <td>9.343000e+03</td>\n",
       "      <td>3.990000e+02</td>\n",
       "      <td>1.000000e+00</td>\n",
       "    </tr>\n",
       "    <tr>\n",
       "      <th>75%</th>\n",
       "      <td>2.300000e+01</td>\n",
       "      <td>4.700000e+01</td>\n",
       "      <td>1.568400e+04</td>\n",
       "      <td>9.990000e+02</td>\n",
       "      <td>1.000000e+00</td>\n",
       "    </tr>\n",
       "    <tr>\n",
       "      <th>max</th>\n",
       "      <td>3.300000e+01</td>\n",
       "      <td>5.900000e+01</td>\n",
       "      <td>2.216900e+04</td>\n",
       "      <td>3.079800e+05</td>\n",
       "      <td>2.169000e+03</td>\n",
       "    </tr>\n",
       "  </tbody>\n",
       "</table>\n",
       "</div>"
      ],
      "text/plain": [
       "       date_block_num       shop_id       item_id    item_price  item_cnt_day\n",
       "count    2.935849e+06  2.935849e+06  2.935849e+06  2.935849e+06  2.935849e+06\n",
       "mean     1.456991e+01  3.300173e+01  1.019723e+04  8.908532e+02  1.242641e+00\n",
       "std      9.422988e+00  1.622697e+01  6.324297e+03  1.729800e+03  2.618834e+00\n",
       "min      0.000000e+00  0.000000e+00  0.000000e+00 -1.000000e+00 -2.200000e+01\n",
       "25%      7.000000e+00  2.200000e+01  4.476000e+03  2.490000e+02  1.000000e+00\n",
       "50%      1.400000e+01  3.100000e+01  9.343000e+03  3.990000e+02  1.000000e+00\n",
       "75%      2.300000e+01  4.700000e+01  1.568400e+04  9.990000e+02  1.000000e+00\n",
       "max      3.300000e+01  5.900000e+01  2.216900e+04  3.079800e+05  2.169000e+03"
      ]
     },
     "execution_count": 12,
     "metadata": {},
     "output_type": "execute_result"
    }
   ],
   "source": [
    "train_df.describe()"
   ]
  },
  {
   "cell_type": "code",
   "execution_count": 13,
   "metadata": {
    "collapsed": false
   },
   "outputs": [
    {
     "name": "stdout",
     "output_type": "stream",
     "text": [
      "(20,)\n",
      "(60,)\n",
      "(42,)\n",
      "(5100,)\n",
      "(42,)\n",
      "(21807,)\n"
     ]
    }
   ],
   "source": [
    "print (items_df.cats.unique().shape)\n",
    "print (train_df.shop_id.unique().shape)\n",
    "print (test_df.shop_id.unique().shape)\n",
    "print (test_df.item_id.unique().shape)\n",
    "print (test_df.shop_id.unique().shape)\n",
    "print (train_df.item_id.unique().shape)"
   ]
  },
  {
   "cell_type": "markdown",
   "metadata": {},
   "source": [
    "## Remove Outliers"
   ]
  },
  {
   "cell_type": "code",
   "execution_count": 14,
   "metadata": {
    "collapsed": false
   },
   "outputs": [
    {
     "data": {
      "text/html": [
       "<div>\n",
       "<table border=\"1\" class=\"dataframe\">\n",
       "  <thead>\n",
       "    <tr style=\"text-align: right;\">\n",
       "      <th></th>\n",
       "      <th>date_block_num</th>\n",
       "      <th>shop_id</th>\n",
       "      <th>item_id</th>\n",
       "      <th>item_price</th>\n",
       "      <th>item_cnt_day</th>\n",
       "    </tr>\n",
       "  </thead>\n",
       "  <tbody>\n",
       "    <tr>\n",
       "      <th>count</th>\n",
       "      <td>2.935846e+06</td>\n",
       "      <td>2.935846e+06</td>\n",
       "      <td>2.935846e+06</td>\n",
       "      <td>2.935846e+06</td>\n",
       "      <td>2.935846e+06</td>\n",
       "    </tr>\n",
       "    <tr>\n",
       "      <th>mean</th>\n",
       "      <td>1.456990e+01</td>\n",
       "      <td>3.300175e+01</td>\n",
       "      <td>1.019722e+04</td>\n",
       "      <td>8.907492e+02</td>\n",
       "      <td>1.241562e+00</td>\n",
       "    </tr>\n",
       "    <tr>\n",
       "      <th>std</th>\n",
       "      <td>9.422985e+00</td>\n",
       "      <td>1.622697e+01</td>\n",
       "      <td>6.324297e+03</td>\n",
       "      <td>1.720491e+03</td>\n",
       "      <td>2.217636e+00</td>\n",
       "    </tr>\n",
       "    <tr>\n",
       "      <th>min</th>\n",
       "      <td>0.000000e+00</td>\n",
       "      <td>0.000000e+00</td>\n",
       "      <td>0.000000e+00</td>\n",
       "      <td>-1.000000e+00</td>\n",
       "      <td>-2.200000e+01</td>\n",
       "    </tr>\n",
       "    <tr>\n",
       "      <th>25%</th>\n",
       "      <td>7.000000e+00</td>\n",
       "      <td>2.200000e+01</td>\n",
       "      <td>4.476000e+03</td>\n",
       "      <td>2.490000e+02</td>\n",
       "      <td>1.000000e+00</td>\n",
       "    </tr>\n",
       "    <tr>\n",
       "      <th>50%</th>\n",
       "      <td>1.400000e+01</td>\n",
       "      <td>3.100000e+01</td>\n",
       "      <td>9.343000e+03</td>\n",
       "      <td>3.990000e+02</td>\n",
       "      <td>1.000000e+00</td>\n",
       "    </tr>\n",
       "    <tr>\n",
       "      <th>75%</th>\n",
       "      <td>2.300000e+01</td>\n",
       "      <td>4.700000e+01</td>\n",
       "      <td>1.568400e+04</td>\n",
       "      <td>9.990000e+02</td>\n",
       "      <td>1.000000e+00</td>\n",
       "    </tr>\n",
       "    <tr>\n",
       "      <th>max</th>\n",
       "      <td>3.300000e+01</td>\n",
       "      <td>5.900000e+01</td>\n",
       "      <td>2.216900e+04</td>\n",
       "      <td>5.920000e+04</td>\n",
       "      <td>6.690000e+02</td>\n",
       "    </tr>\n",
       "  </tbody>\n",
       "</table>\n",
       "</div>"
      ],
      "text/plain": [
       "       date_block_num       shop_id       item_id    item_price  item_cnt_day\n",
       "count    2.935846e+06  2.935846e+06  2.935846e+06  2.935846e+06  2.935846e+06\n",
       "mean     1.456990e+01  3.300175e+01  1.019722e+04  8.907492e+02  1.241562e+00\n",
       "std      9.422985e+00  1.622697e+01  6.324297e+03  1.720491e+03  2.217636e+00\n",
       "min      0.000000e+00  0.000000e+00  0.000000e+00 -1.000000e+00 -2.200000e+01\n",
       "25%      7.000000e+00  2.200000e+01  4.476000e+03  2.490000e+02  1.000000e+00\n",
       "50%      1.400000e+01  3.100000e+01  9.343000e+03  3.990000e+02  1.000000e+00\n",
       "75%      2.300000e+01  4.700000e+01  1.568400e+04  9.990000e+02  1.000000e+00\n",
       "max      3.300000e+01  5.900000e+01  2.216900e+04  5.920000e+04  6.690000e+02"
      ]
     },
     "execution_count": 14,
     "metadata": {},
     "output_type": "execute_result"
    }
   ],
   "source": [
    "train_df = train_df[train_df['item_price'] < 100000]\n",
    "train_df = train_df[train_df['item_cnt_day'] < 1000]\n",
    "train_df.describe()"
   ]
  },
  {
   "cell_type": "markdown",
   "metadata": {},
   "source": [
    "## Aggregate training data"
   ]
  },
  {
   "cell_type": "markdown",
   "metadata": {},
   "source": [
    "Create grid using all the shop_id, item_id combiation for each date_block_num"
   ]
  },
  {
   "cell_type": "code",
   "execution_count": 15,
   "metadata": {
    "collapsed": true
   },
   "outputs": [],
   "source": [
    "from itertools import product\n",
    "index_cols = ['shop_id', 'item_id', 'date_block_num']\n",
    "grid = []\n",
    "for block_num in train_df['date_block_num'].unique():\n",
    "    cur_shops = train_df.loc[train_df['date_block_num'] == block_num, 'shop_id'].unique()\n",
    "    cur_items = train_df.loc[train_df['date_block_num'] == block_num, 'item_id'].unique()\n",
    "    grid.append(np.array(list(product(*[cur_shops, cur_items, [block_num]])),dtype='int32'))\n",
    "grid = pd.DataFrame(np.vstack(grid), columns = index_cols,dtype=np.int32)"
   ]
  },
  {
   "cell_type": "code",
   "execution_count": 16,
   "metadata": {
    "collapsed": true
   },
   "outputs": [],
   "source": [
    "train_df = train_df.groupby(['date_block_num','shop_id','item_id']).agg(\n",
    "    {'item_cnt_day': np.sum, 'item_price': np.mean}).reset_index()"
   ]
  },
  {
   "cell_type": "code",
   "execution_count": 17,
   "metadata": {
    "collapsed": true
   },
   "outputs": [],
   "source": [
    "train_df.rename(columns={'item_cnt_day': 'item_cnt_month'}, inplace=True)"
   ]
  },
  {
   "cell_type": "code",
   "execution_count": 18,
   "metadata": {
    "collapsed": true
   },
   "outputs": [],
   "source": [
    "train_df = pd.merge(grid, train_df, on=index_cols, how='left')"
   ]
  },
  {
   "cell_type": "markdown",
   "metadata": {},
   "source": [
    "## Add category id to each data point."
   ]
  },
  {
   "cell_type": "code",
   "execution_count": 19,
   "metadata": {
    "collapsed": true
   },
   "outputs": [],
   "source": [
    "train_df = pd.merge(train_df, items_df, on=['item_id'], how='left')\n",
    "test_df = pd.merge(test_df, items_df, on=['item_id'], how='left')"
   ]
  },
  {
   "cell_type": "code",
   "execution_count": 20,
   "metadata": {
    "collapsed": false
   },
   "outputs": [
    {
     "data": {
      "text/html": [
       "<div>\n",
       "<table border=\"1\" class=\"dataframe\">\n",
       "  <thead>\n",
       "    <tr style=\"text-align: right;\">\n",
       "      <th></th>\n",
       "      <th>shop_id</th>\n",
       "      <th>item_id</th>\n",
       "      <th>date_block_num</th>\n",
       "      <th>item_price</th>\n",
       "      <th>item_cnt_month</th>\n",
       "      <th>cats</th>\n",
       "    </tr>\n",
       "  </thead>\n",
       "  <tbody>\n",
       "    <tr>\n",
       "      <th>0</th>\n",
       "      <td>59</td>\n",
       "      <td>22154</td>\n",
       "      <td>0</td>\n",
       "      <td>999.0</td>\n",
       "      <td>1.0</td>\n",
       "      <td>Movie</td>\n",
       "    </tr>\n",
       "    <tr>\n",
       "      <th>1</th>\n",
       "      <td>59</td>\n",
       "      <td>2552</td>\n",
       "      <td>0</td>\n",
       "      <td>NaN</td>\n",
       "      <td>NaN</td>\n",
       "      <td>Music</td>\n",
       "    </tr>\n",
       "    <tr>\n",
       "      <th>2</th>\n",
       "      <td>59</td>\n",
       "      <td>2554</td>\n",
       "      <td>0</td>\n",
       "      <td>NaN</td>\n",
       "      <td>NaN</td>\n",
       "      <td>Music</td>\n",
       "    </tr>\n",
       "    <tr>\n",
       "      <th>3</th>\n",
       "      <td>59</td>\n",
       "      <td>2555</td>\n",
       "      <td>0</td>\n",
       "      <td>NaN</td>\n",
       "      <td>NaN</td>\n",
       "      <td>Music</td>\n",
       "    </tr>\n",
       "    <tr>\n",
       "      <th>4</th>\n",
       "      <td>59</td>\n",
       "      <td>2564</td>\n",
       "      <td>0</td>\n",
       "      <td>NaN</td>\n",
       "      <td>NaN</td>\n",
       "      <td>Music</td>\n",
       "    </tr>\n",
       "  </tbody>\n",
       "</table>\n",
       "</div>"
      ],
      "text/plain": [
       "   shop_id  item_id  date_block_num  item_price  item_cnt_month   cats\n",
       "0       59    22154               0       999.0             1.0  Movie\n",
       "1       59     2552               0         NaN             NaN  Music\n",
       "2       59     2554               0         NaN             NaN  Music\n",
       "3       59     2555               0         NaN             NaN  Music\n",
       "4       59     2564               0         NaN             NaN  Music"
      ]
     },
     "execution_count": 20,
     "metadata": {},
     "output_type": "execute_result"
    }
   ],
   "source": [
    "train_df.head()"
   ]
  },
  {
   "cell_type": "code",
   "execution_count": null,
   "metadata": {
    "collapsed": false
   },
   "outputs": [
    {
     "data": {
      "text/html": [
       "<div>\n",
       "<table border=\"1\" class=\"dataframe\">\n",
       "  <thead>\n",
       "    <tr style=\"text-align: right;\">\n",
       "      <th></th>\n",
       "      <th>ID</th>\n",
       "      <th>shop_id</th>\n",
       "      <th>item_id</th>\n",
       "      <th>cats</th>\n",
       "    </tr>\n",
       "  </thead>\n",
       "  <tbody>\n",
       "    <tr>\n",
       "      <th>0</th>\n",
       "      <td>0</td>\n",
       "      <td>5</td>\n",
       "      <td>5037</td>\n",
       "      <td>Consoles Games</td>\n",
       "    </tr>\n",
       "    <tr>\n",
       "      <th>1</th>\n",
       "      <td>1</td>\n",
       "      <td>5</td>\n",
       "      <td>5320</td>\n",
       "      <td>Music</td>\n",
       "    </tr>\n",
       "    <tr>\n",
       "      <th>2</th>\n",
       "      <td>2</td>\n",
       "      <td>5</td>\n",
       "      <td>5233</td>\n",
       "      <td>Consoles Games</td>\n",
       "    </tr>\n",
       "    <tr>\n",
       "      <th>3</th>\n",
       "      <td>3</td>\n",
       "      <td>5</td>\n",
       "      <td>5232</td>\n",
       "      <td>Consoles Games</td>\n",
       "    </tr>\n",
       "    <tr>\n",
       "      <th>4</th>\n",
       "      <td>4</td>\n",
       "      <td>5</td>\n",
       "      <td>5268</td>\n",
       "      <td>Consoles Games</td>\n",
       "    </tr>\n",
       "  </tbody>\n",
       "</table>\n",
       "</div>"
      ],
      "text/plain": [
       "   ID  shop_id  item_id            cats\n",
       "0   0        5     5037  Consoles Games\n",
       "1   1        5     5320           Music\n",
       "2   2        5     5233  Consoles Games\n",
       "3   3        5     5232  Consoles Games\n",
       "4   4        5     5268  Consoles Games"
      ]
     },
     "execution_count": 21,
     "metadata": {},
     "output_type": "execute_result"
    }
   ],
   "source": [
    "test_df.head()"
   ]
  },
  {
   "cell_type": "markdown",
   "metadata": {},
   "source": [
    "## Mean encoding"
   ]
  },
  {
   "cell_type": "code",
   "execution_count": null,
   "metadata": {
    "collapsed": false
   },
   "outputs": [],
   "source": [
    "%%time\n",
    "for type_ids in [['item_id'], ['shop_id'], ['cats'], ['item_id', 'shop_id']]:\n",
    "    for column_id in ['item_price', 'item_cnt_month']:\n",
    "        mean_df = train_df[type_ids + [column_id]].groupby(type_ids).agg(np.mean).reset_index()\n",
    "        mean_df.rename(columns={column_id: \"mean_of_\"+column_id+\"_groupby_\"+\"_\".join(type_ids)}, inplace=True)\n",
    "        \n",
    "        train_df = pd.merge(train_df, mean_df, on=type_ids, how='left')\n",
    "        test_df = pd.merge(test_df, mean_df, on=type_ids, how='left')"
   ]
  },
  {
   "cell_type": "markdown",
   "metadata": {},
   "source": [
    "## Fillna"
   ]
  },
  {
   "cell_type": "code",
   "execution_count": null,
   "metadata": {
    "collapsed": true
   },
   "outputs": [],
   "source": [
    "# Test fillna\n",
    "test_df['mean_of_item_price_groupby_item_id'] = test_df['mean_of_item_price_groupby_item_id'].fillna(test_df['mean_of_item_price_groupby_cats'])\n",
    "test_df['mean_of_item_cnt_month_groupby_item_id'] = test_df['mean_of_item_cnt_month_groupby_item_id'].fillna(test_df['mean_of_item_cnt_month_groupby_cats'])\n",
    "test_df['mean_of_item_price_groupby_item_id_shop_id'] = test_df['mean_of_item_price_groupby_item_id_shop_id'].fillna(test_df['mean_of_item_price_groupby_item_id'])\n",
    "test_df['mean_of_item_cnt_month_groupby_item_id_shop_id'] = test_df['mean_of_item_cnt_month_groupby_item_id_shop_id'].fillna(test_df['mean_of_item_cnt_month_groupby_item_id'])\n",
    "# Train fillna\n",
    "train_df['mean_of_item_price_groupby_item_id_shop_id'] = train_df['mean_of_item_price_groupby_item_id_shop_id'].fillna(train_df['mean_of_item_price_groupby_item_id'])\n",
    "train_df['mean_of_item_cnt_month_groupby_item_id_shop_id'] = train_df['mean_of_item_cnt_month_groupby_item_id_shop_id'].fillna(train_df['mean_of_item_cnt_month_groupby_item_id'])"
   ]
  },
  {
   "cell_type": "code",
   "execution_count": null,
   "metadata": {
    "collapsed": true
   },
   "outputs": [],
   "source": [
    "for df in train_df, test_df:\n",
    "    for feat in df.columns[4:]:\n",
    "        if 'item_cnt' in feat:\n",
    "            df[feat]=df[feat].fillna(0)\n",
    "        elif 'item_price' in feat:\n",
    "            df[feat]=df[feat].fillna(df[feat].median())"
   ]
  },
  {
   "cell_type": "code",
   "execution_count": null,
   "metadata": {
    "collapsed": true
   },
   "outputs": [],
   "source": [
    "train_df['item_cnt_month'] = train_df['item_cnt_month'].fillna(0)"
   ]
  },
  {
   "cell_type": "markdown",
   "metadata": {},
   "source": [
    "## Add historical sales data"
   ]
  },
  {
   "cell_type": "code",
   "execution_count": null,
   "metadata": {
    "collapsed": true
   },
   "outputs": [],
   "source": [
    "train_df_temp = train_df.copy()\n",
    "train_df = train_df[train_df['date_block_num']>=12]"
   ]
  },
  {
   "cell_type": "code",
   "execution_count": null,
   "metadata": {
    "collapsed": true
   },
   "outputs": [],
   "source": [
    "features = ['item_cnt_month', 'item_price', 'mean_of_item_price_groupby_item_id',\n",
    "       'mean_of_item_cnt_month_groupby_item_id',\n",
    "       'mean_of_item_price_groupby_shop_id',\n",
    "       'mean_of_item_cnt_month_groupby_shop_id',\n",
    "       'mean_of_item_price_groupby_cats',\n",
    "       'mean_of_item_cnt_month_groupby_cats',\n",
    "       'mean_of_item_price_groupby_item_id_shop_id',\n",
    "       'mean_of_item_cnt_month_groupby_item_id_shop_id']"
   ]
  },
  {
   "cell_type": "code",
   "execution_count": null,
   "metadata": {
    "collapsed": true
   },
   "outputs": [],
   "source": [
    "def add_historical_data(df):\n",
    "    for diff in (1, 2, 3, 4, 6, 12):\n",
    "        train_df_copy = train_df_temp.copy()\n",
    "        train_df_copy['date_block_num'] += diff\n",
    "        train_df_copy = train_df_copy[['date_block_num', 'item_id', 'shop_id'] + features]\n",
    "        train_df_copy.rename(columns={\n",
    "            feat: feat+\"_\"+str(diff)+'_month_ago' for feat in features\n",
    "        }, inplace=True)\n",
    "        df = pd.merge(df, train_df_copy, on=['shop_id', 'item_id', 'date_block_num'], how='left')\n",
    "    return df"
   ]
  },
  {
   "cell_type": "code",
   "execution_count": null,
   "metadata": {
    "collapsed": false
   },
   "outputs": [],
   "source": [
    "test_df['date_block_num'] = 34\n",
    "train_df = add_historical_data(train_df)\n",
    "test_df = add_historical_data(test_df)\n",
    "test_df.drop('date_block_num', axis=1, inplace=True)"
   ]
  },
  {
   "cell_type": "code",
   "execution_count": 55,
   "metadata": {
    "collapsed": false
   },
   "outputs": [
    {
     "data": {
      "text/html": [
       "<div>\n",
       "<style scoped>\n",
       "    .dataframe tbody tr th:only-of-type {\n",
       "        vertical-align: middle;\n",
       "    }\n",
       "\n",
       "    .dataframe tbody tr th {\n",
       "        vertical-align: top;\n",
       "    }\n",
       "\n",
       "    .dataframe thead th {\n",
       "        text-align: right;\n",
       "    }\n",
       "</style>\n",
       "<table border=\"1\" class=\"dataframe\">\n",
       "  <thead>\n",
       "    <tr style=\"text-align: right;\">\n",
       "      <th></th>\n",
       "      <th>shop_id</th>\n",
       "      <th>item_id</th>\n",
       "      <th>date_block_num</th>\n",
       "      <th>item_cnt_month</th>\n",
       "      <th>item_price</th>\n",
       "      <th>cats</th>\n",
       "      <th>mean_of_item_price_groupby_item_id</th>\n",
       "      <th>mean_of_item_cnt_month_groupby_item_id</th>\n",
       "      <th>mean_of_item_price_groupby_shop_id</th>\n",
       "      <th>mean_of_item_cnt_month_groupby_shop_id</th>\n",
       "      <th>...</th>\n",
       "      <th>item_cnt_month_12_month_ago</th>\n",
       "      <th>item_price_12_month_ago</th>\n",
       "      <th>mean_of_item_price_groupby_item_id_12_month_ago</th>\n",
       "      <th>mean_of_item_cnt_month_groupby_item_id_12_month_ago</th>\n",
       "      <th>mean_of_item_price_groupby_shop_id_12_month_ago</th>\n",
       "      <th>mean_of_item_cnt_month_groupby_shop_id_12_month_ago</th>\n",
       "      <th>mean_of_item_price_groupby_cats_12_month_ago</th>\n",
       "      <th>mean_of_item_cnt_month_groupby_cats_12_month_ago</th>\n",
       "      <th>mean_of_item_price_groupby_item_id_shop_id_12_month_ago</th>\n",
       "      <th>mean_of_item_cnt_month_groupby_item_id_shop_id_12_month_ago</th>\n",
       "    </tr>\n",
       "  </thead>\n",
       "  <tbody>\n",
       "    <tr>\n",
       "      <th>0</th>\n",
       "      <td>54</td>\n",
       "      <td>10297</td>\n",
       "      <td>12</td>\n",
       "      <td>4.0</td>\n",
       "      <td>749.0</td>\n",
       "      <td>Movie</td>\n",
       "      <td>709.478496</td>\n",
       "      <td>1.210526</td>\n",
       "      <td>655.04886</td>\n",
       "      <td>2.636404</td>\n",
       "      <td>...</td>\n",
       "      <td>NaN</td>\n",
       "      <td>NaN</td>\n",
       "      <td>NaN</td>\n",
       "      <td>NaN</td>\n",
       "      <td>NaN</td>\n",
       "      <td>NaN</td>\n",
       "      <td>NaN</td>\n",
       "      <td>NaN</td>\n",
       "      <td>NaN</td>\n",
       "      <td>NaN</td>\n",
       "    </tr>\n",
       "    <tr>\n",
       "      <th>1</th>\n",
       "      <td>54</td>\n",
       "      <td>10296</td>\n",
       "      <td>12</td>\n",
       "      <td>3.0</td>\n",
       "      <td>1599.0</td>\n",
       "      <td>Movie</td>\n",
       "      <td>1464.972764</td>\n",
       "      <td>1.130081</td>\n",
       "      <td>655.04886</td>\n",
       "      <td>2.636404</td>\n",
       "      <td>...</td>\n",
       "      <td>NaN</td>\n",
       "      <td>NaN</td>\n",
       "      <td>NaN</td>\n",
       "      <td>NaN</td>\n",
       "      <td>NaN</td>\n",
       "      <td>NaN</td>\n",
       "      <td>NaN</td>\n",
       "      <td>NaN</td>\n",
       "      <td>NaN</td>\n",
       "      <td>NaN</td>\n",
       "    </tr>\n",
       "    <tr>\n",
       "      <th>2</th>\n",
       "      <td>54</td>\n",
       "      <td>10298</td>\n",
       "      <td>12</td>\n",
       "      <td>14.0</td>\n",
       "      <td>399.0</td>\n",
       "      <td>Movie</td>\n",
       "      <td>223.781333</td>\n",
       "      <td>4.821380</td>\n",
       "      <td>655.04886</td>\n",
       "      <td>2.636404</td>\n",
       "      <td>...</td>\n",
       "      <td>NaN</td>\n",
       "      <td>NaN</td>\n",
       "      <td>NaN</td>\n",
       "      <td>NaN</td>\n",
       "      <td>NaN</td>\n",
       "      <td>NaN</td>\n",
       "      <td>NaN</td>\n",
       "      <td>NaN</td>\n",
       "      <td>NaN</td>\n",
       "      <td>NaN</td>\n",
       "    </tr>\n",
       "    <tr>\n",
       "      <th>3</th>\n",
       "      <td>54</td>\n",
       "      <td>10300</td>\n",
       "      <td>12</td>\n",
       "      <td>3.0</td>\n",
       "      <td>699.0</td>\n",
       "      <td>Movie</td>\n",
       "      <td>519.571884</td>\n",
       "      <td>2.520833</td>\n",
       "      <td>655.04886</td>\n",
       "      <td>2.636404</td>\n",
       "      <td>...</td>\n",
       "      <td>NaN</td>\n",
       "      <td>NaN</td>\n",
       "      <td>NaN</td>\n",
       "      <td>NaN</td>\n",
       "      <td>NaN</td>\n",
       "      <td>NaN</td>\n",
       "      <td>NaN</td>\n",
       "      <td>NaN</td>\n",
       "      <td>NaN</td>\n",
       "      <td>NaN</td>\n",
       "    </tr>\n",
       "    <tr>\n",
       "      <th>4</th>\n",
       "      <td>54</td>\n",
       "      <td>10284</td>\n",
       "      <td>12</td>\n",
       "      <td>1.0</td>\n",
       "      <td>299.0</td>\n",
       "      <td>Music</td>\n",
       "      <td>284.902913</td>\n",
       "      <td>1.174757</td>\n",
       "      <td>655.04886</td>\n",
       "      <td>2.636404</td>\n",
       "      <td>...</td>\n",
       "      <td>NaN</td>\n",
       "      <td>NaN</td>\n",
       "      <td>NaN</td>\n",
       "      <td>NaN</td>\n",
       "      <td>NaN</td>\n",
       "      <td>NaN</td>\n",
       "      <td>NaN</td>\n",
       "      <td>NaN</td>\n",
       "      <td>NaN</td>\n",
       "      <td>NaN</td>\n",
       "    </tr>\n",
       "  </tbody>\n",
       "</table>\n",
       "<p>5 rows × 74 columns</p>\n",
       "</div>"
      ],
      "text/plain": [
       "   shop_id  item_id  date_block_num  item_cnt_month  item_price   cats  \\\n",
       "0       54    10297              12             4.0       749.0  Movie   \n",
       "1       54    10296              12             3.0      1599.0  Movie   \n",
       "2       54    10298              12            14.0       399.0  Movie   \n",
       "3       54    10300              12             3.0       699.0  Movie   \n",
       "4       54    10284              12             1.0       299.0  Music   \n",
       "\n",
       "   mean_of_item_price_groupby_item_id  mean_of_item_cnt_month_groupby_item_id  \\\n",
       "0                          709.478496                                1.210526   \n",
       "1                         1464.972764                                1.130081   \n",
       "2                          223.781333                                4.821380   \n",
       "3                          519.571884                                2.520833   \n",
       "4                          284.902913                                1.174757   \n",
       "\n",
       "   mean_of_item_price_groupby_shop_id  mean_of_item_cnt_month_groupby_shop_id  \\\n",
       "0                           655.04886                                2.636404   \n",
       "1                           655.04886                                2.636404   \n",
       "2                           655.04886                                2.636404   \n",
       "3                           655.04886                                2.636404   \n",
       "4                           655.04886                                2.636404   \n",
       "\n",
       "                              ...                               \\\n",
       "0                             ...                                \n",
       "1                             ...                                \n",
       "2                             ...                                \n",
       "3                             ...                                \n",
       "4                             ...                                \n",
       "\n",
       "   item_cnt_month_12_month_ago  item_price_12_month_ago  \\\n",
       "0                          NaN                      NaN   \n",
       "1                          NaN                      NaN   \n",
       "2                          NaN                      NaN   \n",
       "3                          NaN                      NaN   \n",
       "4                          NaN                      NaN   \n",
       "\n",
       "   mean_of_item_price_groupby_item_id_12_month_ago  \\\n",
       "0                                              NaN   \n",
       "1                                              NaN   \n",
       "2                                              NaN   \n",
       "3                                              NaN   \n",
       "4                                              NaN   \n",
       "\n",
       "   mean_of_item_cnt_month_groupby_item_id_12_month_ago  \\\n",
       "0                                                NaN     \n",
       "1                                                NaN     \n",
       "2                                                NaN     \n",
       "3                                                NaN     \n",
       "4                                                NaN     \n",
       "\n",
       "   mean_of_item_price_groupby_shop_id_12_month_ago  \\\n",
       "0                                              NaN   \n",
       "1                                              NaN   \n",
       "2                                              NaN   \n",
       "3                                              NaN   \n",
       "4                                              NaN   \n",
       "\n",
       "   mean_of_item_cnt_month_groupby_shop_id_12_month_ago  \\\n",
       "0                                                NaN     \n",
       "1                                                NaN     \n",
       "2                                                NaN     \n",
       "3                                                NaN     \n",
       "4                                                NaN     \n",
       "\n",
       "   mean_of_item_price_groupby_cats_12_month_ago  \\\n",
       "0                                           NaN   \n",
       "1                                           NaN   \n",
       "2                                           NaN   \n",
       "3                                           NaN   \n",
       "4                                           NaN   \n",
       "\n",
       "   mean_of_item_cnt_month_groupby_cats_12_month_ago  \\\n",
       "0                                               NaN   \n",
       "1                                               NaN   \n",
       "2                                               NaN   \n",
       "3                                               NaN   \n",
       "4                                               NaN   \n",
       "\n",
       "   mean_of_item_price_groupby_item_id_shop_id_12_month_ago  \\\n",
       "0                                                NaN         \n",
       "1                                                NaN         \n",
       "2                                                NaN         \n",
       "3                                                NaN         \n",
       "4                                                NaN         \n",
       "\n",
       "   mean_of_item_cnt_month_groupby_item_id_shop_id_12_month_ago  \n",
       "0                                                NaN            \n",
       "1                                                NaN            \n",
       "2                                                NaN            \n",
       "3                                                NaN            \n",
       "4                                                NaN            \n",
       "\n",
       "[5 rows x 74 columns]"
      ]
     },
     "execution_count": 55,
     "metadata": {},
     "output_type": "execute_result"
    }
   ],
   "source": [
    "train_df.head()"
   ]
  },
  {
   "cell_type": "code",
   "execution_count": 57,
   "metadata": {
    "collapsed": true
   },
   "outputs": [],
   "source": [
    "for df in train_df, test_df:\n",
    "    for feat in train_df.columns[6:]:\n",
    "        if 'item_cnt' in feat:\n",
    "            df[feat]=df[feat].fillna(0)\n",
    "        elif 'item_price' in feat:\n",
    "            df[feat]=df[feat].fillna(df[feat].median())"
   ]
  },
  {
   "cell_type": "code",
   "execution_count": 58,
   "metadata": {
    "collapsed": true
   },
   "outputs": [],
   "source": [
    "# Add pair-difference features\n",
    "columns = {\n",
    "    'diff_between_item_shop_and_item': ('mean_of_item_price_groupby_item_id_shop_id', 'mean_of_item_price_groupby_item_id'),\n",
    "    'diff_between_item_and_category': ('mean_of_item_price_groupby_item_id', 'mean_of_item_price_groupby_cats')\n",
    "}\n",
    "for new_feature, (col1, col2) in columns.items():\n",
    "    for df in (train_df, test_df):\n",
    "        df[new_feature] = df[col1] - df[col2]"
   ]
  },
  {
   "cell_type": "code",
   "execution_count": 61,
   "metadata": {
    "collapsed": true
   },
   "outputs": [],
   "source": [
    "# Clip the values of the target\n",
    "train_df['item_cnt_month'] = train_df['item_cnt_month'].clip(0, 20)"
   ]
  },
  {
   "cell_type": "code",
   "execution_count": 62,
   "metadata": {
    "collapsed": true
   },
   "outputs": [],
   "source": [
    "# Split into training set and validation set\n",
    "training_set = train_df[train_df['date_block_num']<33]\n",
    "validation_set = train_df[train_df['date_block_num']==33].reset_index()"
   ]
  },
  {
   "cell_type": "code",
   "execution_count": 63,
   "metadata": {
    "collapsed": false
   },
   "outputs": [
    {
     "data": {
      "text/html": [
       "<div>\n",
       "<style scoped>\n",
       "    .dataframe tbody tr th:only-of-type {\n",
       "        vertical-align: middle;\n",
       "    }\n",
       "\n",
       "    .dataframe tbody tr th {\n",
       "        vertical-align: top;\n",
       "    }\n",
       "\n",
       "    .dataframe thead th {\n",
       "        text-align: right;\n",
       "    }\n",
       "</style>\n",
       "<table border=\"1\" class=\"dataframe\">\n",
       "  <thead>\n",
       "    <tr style=\"text-align: right;\">\n",
       "      <th></th>\n",
       "      <th>index</th>\n",
       "      <th>shop_id</th>\n",
       "      <th>item_id</th>\n",
       "      <th>date_block_num</th>\n",
       "      <th>item_cnt_month</th>\n",
       "      <th>item_price</th>\n",
       "      <th>cats</th>\n",
       "      <th>mean_of_item_price_groupby_item_id</th>\n",
       "      <th>mean_of_item_cnt_month_groupby_item_id</th>\n",
       "      <th>mean_of_item_price_groupby_shop_id</th>\n",
       "      <th>...</th>\n",
       "      <th>mean_of_item_price_groupby_item_id_12_month_ago</th>\n",
       "      <th>mean_of_item_cnt_month_groupby_item_id_12_month_ago</th>\n",
       "      <th>mean_of_item_price_groupby_shop_id_12_month_ago</th>\n",
       "      <th>mean_of_item_cnt_month_groupby_shop_id_12_month_ago</th>\n",
       "      <th>mean_of_item_price_groupby_cats_12_month_ago</th>\n",
       "      <th>mean_of_item_cnt_month_groupby_cats_12_month_ago</th>\n",
       "      <th>mean_of_item_price_groupby_item_id_shop_id_12_month_ago</th>\n",
       "      <th>mean_of_item_cnt_month_groupby_item_id_shop_id_12_month_ago</th>\n",
       "      <th>diff_between_item_shop_and_item</th>\n",
       "      <th>diff_between_item_and_category</th>\n",
       "    </tr>\n",
       "  </thead>\n",
       "  <tbody>\n",
       "    <tr>\n",
       "      <th>0</th>\n",
       "      <td>6186922</td>\n",
       "      <td>45</td>\n",
       "      <td>13315</td>\n",
       "      <td>33</td>\n",
       "      <td>1.0</td>\n",
       "      <td>649.0</td>\n",
       "      <td>Books</td>\n",
       "      <td>640.875000</td>\n",
       "      <td>1.125000</td>\n",
       "      <td>861.189864</td>\n",
       "      <td>...</td>\n",
       "      <td>296.188435</td>\n",
       "      <td>0.000000</td>\n",
       "      <td>825.151374</td>\n",
       "      <td>0.00000</td>\n",
       "      <td>372.622621</td>\n",
       "      <td>0.000000</td>\n",
       "      <td>299.000000</td>\n",
       "      <td>0.000000</td>\n",
       "      <td>8.125000</td>\n",
       "      <td>290.090958</td>\n",
       "    </tr>\n",
       "    <tr>\n",
       "      <th>1</th>\n",
       "      <td>6186923</td>\n",
       "      <td>45</td>\n",
       "      <td>13880</td>\n",
       "      <td>33</td>\n",
       "      <td>1.0</td>\n",
       "      <td>229.0</td>\n",
       "      <td>Music</td>\n",
       "      <td>208.925643</td>\n",
       "      <td>2.561828</td>\n",
       "      <td>861.189864</td>\n",
       "      <td>...</td>\n",
       "      <td>208.925643</td>\n",
       "      <td>2.561828</td>\n",
       "      <td>861.189864</td>\n",
       "      <td>1.80925</td>\n",
       "      <td>372.622621</td>\n",
       "      <td>1.379644</td>\n",
       "      <td>214.000000</td>\n",
       "      <td>1.800000</td>\n",
       "      <td>5.074357</td>\n",
       "      <td>-163.696979</td>\n",
       "    </tr>\n",
       "    <tr>\n",
       "      <th>2</th>\n",
       "      <td>6186924</td>\n",
       "      <td>45</td>\n",
       "      <td>13881</td>\n",
       "      <td>33</td>\n",
       "      <td>2.0</td>\n",
       "      <td>659.0</td>\n",
       "      <td>Music</td>\n",
       "      <td>579.715439</td>\n",
       "      <td>2.710271</td>\n",
       "      <td>861.189864</td>\n",
       "      <td>...</td>\n",
       "      <td>579.715439</td>\n",
       "      <td>2.710271</td>\n",
       "      <td>861.189864</td>\n",
       "      <td>1.80925</td>\n",
       "      <td>372.622621</td>\n",
       "      <td>1.379644</td>\n",
       "      <td>588.300000</td>\n",
       "      <td>1.960000</td>\n",
       "      <td>8.584561</td>\n",
       "      <td>207.092817</td>\n",
       "    </tr>\n",
       "    <tr>\n",
       "      <th>3</th>\n",
       "      <td>6186925</td>\n",
       "      <td>45</td>\n",
       "      <td>13923</td>\n",
       "      <td>33</td>\n",
       "      <td>1.0</td>\n",
       "      <td>169.0</td>\n",
       "      <td>Movie</td>\n",
       "      <td>150.236386</td>\n",
       "      <td>1.572183</td>\n",
       "      <td>861.189864</td>\n",
       "      <td>...</td>\n",
       "      <td>150.236386</td>\n",
       "      <td>1.572183</td>\n",
       "      <td>861.189864</td>\n",
       "      <td>1.80925</td>\n",
       "      <td>340.509868</td>\n",
       "      <td>1.745858</td>\n",
       "      <td>157.571429</td>\n",
       "      <td>1.142857</td>\n",
       "      <td>7.335042</td>\n",
       "      <td>-190.273482</td>\n",
       "    </tr>\n",
       "    <tr>\n",
       "      <th>4</th>\n",
       "      <td>6186926</td>\n",
       "      <td>45</td>\n",
       "      <td>14227</td>\n",
       "      <td>33</td>\n",
       "      <td>1.0</td>\n",
       "      <td>99.0</td>\n",
       "      <td>CD games</td>\n",
       "      <td>97.129878</td>\n",
       "      <td>3.462963</td>\n",
       "      <td>861.189864</td>\n",
       "      <td>...</td>\n",
       "      <td>97.129878</td>\n",
       "      <td>3.462963</td>\n",
       "      <td>861.189864</td>\n",
       "      <td>1.80925</td>\n",
       "      <td>520.312473</td>\n",
       "      <td>3.636535</td>\n",
       "      <td>99.000000</td>\n",
       "      <td>1.750000</td>\n",
       "      <td>1.870122</td>\n",
       "      <td>-423.182595</td>\n",
       "    </tr>\n",
       "  </tbody>\n",
       "</table>\n",
       "<p>5 rows × 77 columns</p>\n",
       "</div>"
      ],
      "text/plain": [
       "     index  shop_id  item_id  date_block_num  item_cnt_month  item_price  \\\n",
       "0  6186922       45    13315              33             1.0       649.0   \n",
       "1  6186923       45    13880              33             1.0       229.0   \n",
       "2  6186924       45    13881              33             2.0       659.0   \n",
       "3  6186925       45    13923              33             1.0       169.0   \n",
       "4  6186926       45    14227              33             1.0        99.0   \n",
       "\n",
       "       cats  mean_of_item_price_groupby_item_id  \\\n",
       "0     Books                          640.875000   \n",
       "1     Music                          208.925643   \n",
       "2     Music                          579.715439   \n",
       "3     Movie                          150.236386   \n",
       "4  CD games                           97.129878   \n",
       "\n",
       "   mean_of_item_cnt_month_groupby_item_id  mean_of_item_price_groupby_shop_id  \\\n",
       "0                                1.125000                          861.189864   \n",
       "1                                2.561828                          861.189864   \n",
       "2                                2.710271                          861.189864   \n",
       "3                                1.572183                          861.189864   \n",
       "4                                3.462963                          861.189864   \n",
       "\n",
       "                ...                \\\n",
       "0               ...                 \n",
       "1               ...                 \n",
       "2               ...                 \n",
       "3               ...                 \n",
       "4               ...                 \n",
       "\n",
       "   mean_of_item_price_groupby_item_id_12_month_ago  \\\n",
       "0                                       296.188435   \n",
       "1                                       208.925643   \n",
       "2                                       579.715439   \n",
       "3                                       150.236386   \n",
       "4                                        97.129878   \n",
       "\n",
       "   mean_of_item_cnt_month_groupby_item_id_12_month_ago  \\\n",
       "0                                           0.000000     \n",
       "1                                           2.561828     \n",
       "2                                           2.710271     \n",
       "3                                           1.572183     \n",
       "4                                           3.462963     \n",
       "\n",
       "   mean_of_item_price_groupby_shop_id_12_month_ago  \\\n",
       "0                                       825.151374   \n",
       "1                                       861.189864   \n",
       "2                                       861.189864   \n",
       "3                                       861.189864   \n",
       "4                                       861.189864   \n",
       "\n",
       "   mean_of_item_cnt_month_groupby_shop_id_12_month_ago  \\\n",
       "0                                            0.00000     \n",
       "1                                            1.80925     \n",
       "2                                            1.80925     \n",
       "3                                            1.80925     \n",
       "4                                            1.80925     \n",
       "\n",
       "   mean_of_item_price_groupby_cats_12_month_ago  \\\n",
       "0                                    372.622621   \n",
       "1                                    372.622621   \n",
       "2                                    372.622621   \n",
       "3                                    340.509868   \n",
       "4                                    520.312473   \n",
       "\n",
       "   mean_of_item_cnt_month_groupby_cats_12_month_ago  \\\n",
       "0                                          0.000000   \n",
       "1                                          1.379644   \n",
       "2                                          1.379644   \n",
       "3                                          1.745858   \n",
       "4                                          3.636535   \n",
       "\n",
       "   mean_of_item_price_groupby_item_id_shop_id_12_month_ago  \\\n",
       "0                                         299.000000         \n",
       "1                                         214.000000         \n",
       "2                                         588.300000         \n",
       "3                                         157.571429         \n",
       "4                                          99.000000         \n",
       "\n",
       "   mean_of_item_cnt_month_groupby_item_id_shop_id_12_month_ago  \\\n",
       "0                                           0.000000             \n",
       "1                                           1.800000             \n",
       "2                                           1.960000             \n",
       "3                                           1.142857             \n",
       "4                                           1.750000             \n",
       "\n",
       "   diff_between_item_shop_and_item  diff_between_item_and_category  \n",
       "0                         8.125000                      290.090958  \n",
       "1                         5.074357                     -163.696979  \n",
       "2                         8.584561                      207.092817  \n",
       "3                         7.335042                     -190.273482  \n",
       "4                         1.870122                     -423.182595  \n",
       "\n",
       "[5 rows x 77 columns]"
      ]
     },
     "execution_count": 63,
     "metadata": {},
     "output_type": "execute_result"
    }
   ],
   "source": [
    "validation_set.head()"
   ]
  },
  {
   "cell_type": "markdown",
   "metadata": {},
   "source": [
    "## Only keep the useful columns"
   ]
  },
  {
   "cell_type": "code",
   "execution_count": 71,
   "metadata": {
    "collapsed": true
   },
   "outputs": [],
   "source": [
    "features = train_df.columns[6:].tolist()"
   ]
  },
  {
   "cell_type": "code",
   "execution_count": 72,
   "metadata": {
    "collapsed": true
   },
   "outputs": [],
   "source": [
    "train_df[features].to_csv('./data/X_train_all.csv', index=False)\n",
    "train_df['item_cnt_month'].to_csv('./data/y_train_all.csv', index=False)\n",
    "X_train = training_set[features]\n",
    "X_train.to_csv('./data/X_train.csv', index=False)\n",
    "y_train = training_set['item_cnt_month']\n",
    "y_train.to_csv('./data/y_train.csv', index=False)\n",
    "X_validation = validation_set[features]\n",
    "X_validation.to_csv('./data/X_validation.csv', index=False)\n",
    "y_validation = validation_set['item_cnt_month']\n",
    "y_validation.to_csv('./data/y_validation.csv', index=False)\n",
    "test_df = test_df[['ID'] + features]\n",
    "test_df.to_csv('./data/X_test.csv', index=False)"
   ]
  },
  {
   "cell_type": "markdown",
   "metadata": {},
   "source": [
    "## xgboost model"
   ]
  },
  {
   "cell_type": "code",
   "execution_count": 73,
   "metadata": {
    "collapsed": false
   },
   "outputs": [
    {
     "name": "stderr",
     "output_type": "stream",
     "text": [
      "/usr/local/lib/python3.6/site-packages/sklearn/cross_validation.py:41: DeprecationWarning: This module was deprecated in version 0.18 in favor of the model_selection module into which all the refactored classes and functions are moved. Also note that the interface of the new CV iterators are different from that of this module. This module will be removed in 0.20.\n",
      "  \"This module will be removed in 0.20.\", DeprecationWarning)\n"
     ]
    }
   ],
   "source": [
    "import xgboost as xgb"
   ]
  },
  {
   "cell_type": "code",
   "execution_count": 74,
   "metadata": {
    "collapsed": false
   },
   "outputs": [
    {
     "data": {
      "text/html": [
       "<div>\n",
       "<style scoped>\n",
       "    .dataframe tbody tr th:only-of-type {\n",
       "        vertical-align: middle;\n",
       "    }\n",
       "\n",
       "    .dataframe tbody tr th {\n",
       "        vertical-align: top;\n",
       "    }\n",
       "\n",
       "    .dataframe thead th {\n",
       "        text-align: right;\n",
       "    }\n",
       "</style>\n",
       "<table border=\"1\" class=\"dataframe\">\n",
       "  <thead>\n",
       "    <tr style=\"text-align: right;\">\n",
       "      <th></th>\n",
       "      <th>shop_id</th>\n",
       "      <th>item_id</th>\n",
       "      <th>date_block_num</th>\n",
       "      <th>item_cnt_month</th>\n",
       "      <th>item_price</th>\n",
       "      <th>cats</th>\n",
       "      <th>mean_of_item_price_groupby_item_id</th>\n",
       "      <th>mean_of_item_cnt_month_groupby_item_id</th>\n",
       "      <th>mean_of_item_price_groupby_shop_id</th>\n",
       "      <th>mean_of_item_cnt_month_groupby_shop_id</th>\n",
       "      <th>...</th>\n",
       "      <th>mean_of_item_price_groupby_item_id_12_month_ago</th>\n",
       "      <th>mean_of_item_cnt_month_groupby_item_id_12_month_ago</th>\n",
       "      <th>mean_of_item_price_groupby_shop_id_12_month_ago</th>\n",
       "      <th>mean_of_item_cnt_month_groupby_shop_id_12_month_ago</th>\n",
       "      <th>mean_of_item_price_groupby_cats_12_month_ago</th>\n",
       "      <th>mean_of_item_cnt_month_groupby_cats_12_month_ago</th>\n",
       "      <th>mean_of_item_price_groupby_item_id_shop_id_12_month_ago</th>\n",
       "      <th>mean_of_item_cnt_month_groupby_item_id_shop_id_12_month_ago</th>\n",
       "      <th>diff_between_item_shop_and_item</th>\n",
       "      <th>diff_between_item_and_category</th>\n",
       "    </tr>\n",
       "  </thead>\n",
       "  <tbody>\n",
       "    <tr>\n",
       "      <th>0</th>\n",
       "      <td>54</td>\n",
       "      <td>10297</td>\n",
       "      <td>12</td>\n",
       "      <td>4.0</td>\n",
       "      <td>749.0</td>\n",
       "      <td>Movie</td>\n",
       "      <td>709.478496</td>\n",
       "      <td>1.210526</td>\n",
       "      <td>655.04886</td>\n",
       "      <td>2.636404</td>\n",
       "      <td>...</td>\n",
       "      <td>296.188435</td>\n",
       "      <td>0.0</td>\n",
       "      <td>825.151374</td>\n",
       "      <td>0.0</td>\n",
       "      <td>372.622621</td>\n",
       "      <td>0.0</td>\n",
       "      <td>299.0</td>\n",
       "      <td>0.0</td>\n",
       "      <td>39.521504</td>\n",
       "      <td>368.968628</td>\n",
       "    </tr>\n",
       "    <tr>\n",
       "      <th>1</th>\n",
       "      <td>54</td>\n",
       "      <td>10296</td>\n",
       "      <td>12</td>\n",
       "      <td>3.0</td>\n",
       "      <td>1599.0</td>\n",
       "      <td>Movie</td>\n",
       "      <td>1464.972764</td>\n",
       "      <td>1.130081</td>\n",
       "      <td>655.04886</td>\n",
       "      <td>2.636404</td>\n",
       "      <td>...</td>\n",
       "      <td>296.188435</td>\n",
       "      <td>0.0</td>\n",
       "      <td>825.151374</td>\n",
       "      <td>0.0</td>\n",
       "      <td>372.622621</td>\n",
       "      <td>0.0</td>\n",
       "      <td>299.0</td>\n",
       "      <td>0.0</td>\n",
       "      <td>62.185807</td>\n",
       "      <td>1124.462896</td>\n",
       "    </tr>\n",
       "    <tr>\n",
       "      <th>2</th>\n",
       "      <td>54</td>\n",
       "      <td>10298</td>\n",
       "      <td>12</td>\n",
       "      <td>14.0</td>\n",
       "      <td>399.0</td>\n",
       "      <td>Movie</td>\n",
       "      <td>223.781333</td>\n",
       "      <td>4.821380</td>\n",
       "      <td>655.04886</td>\n",
       "      <td>2.636404</td>\n",
       "      <td>...</td>\n",
       "      <td>296.188435</td>\n",
       "      <td>0.0</td>\n",
       "      <td>825.151374</td>\n",
       "      <td>0.0</td>\n",
       "      <td>372.622621</td>\n",
       "      <td>0.0</td>\n",
       "      <td>299.0</td>\n",
       "      <td>0.0</td>\n",
       "      <td>12.277491</td>\n",
       "      <td>-116.728536</td>\n",
       "    </tr>\n",
       "    <tr>\n",
       "      <th>3</th>\n",
       "      <td>54</td>\n",
       "      <td>10300</td>\n",
       "      <td>12</td>\n",
       "      <td>3.0</td>\n",
       "      <td>699.0</td>\n",
       "      <td>Movie</td>\n",
       "      <td>519.571884</td>\n",
       "      <td>2.520833</td>\n",
       "      <td>655.04886</td>\n",
       "      <td>2.636404</td>\n",
       "      <td>...</td>\n",
       "      <td>296.188435</td>\n",
       "      <td>0.0</td>\n",
       "      <td>825.151374</td>\n",
       "      <td>0.0</td>\n",
       "      <td>372.622621</td>\n",
       "      <td>0.0</td>\n",
       "      <td>299.0</td>\n",
       "      <td>0.0</td>\n",
       "      <td>-18.620813</td>\n",
       "      <td>179.062016</td>\n",
       "    </tr>\n",
       "    <tr>\n",
       "      <th>4</th>\n",
       "      <td>54</td>\n",
       "      <td>10284</td>\n",
       "      <td>12</td>\n",
       "      <td>1.0</td>\n",
       "      <td>299.0</td>\n",
       "      <td>Music</td>\n",
       "      <td>284.902913</td>\n",
       "      <td>1.174757</td>\n",
       "      <td>655.04886</td>\n",
       "      <td>2.636404</td>\n",
       "      <td>...</td>\n",
       "      <td>296.188435</td>\n",
       "      <td>0.0</td>\n",
       "      <td>825.151374</td>\n",
       "      <td>0.0</td>\n",
       "      <td>372.622621</td>\n",
       "      <td>0.0</td>\n",
       "      <td>299.0</td>\n",
       "      <td>0.0</td>\n",
       "      <td>14.097087</td>\n",
       "      <td>-87.719709</td>\n",
       "    </tr>\n",
       "  </tbody>\n",
       "</table>\n",
       "<p>5 rows × 76 columns</p>\n",
       "</div>"
      ],
      "text/plain": [
       "   shop_id  item_id  date_block_num  item_cnt_month  item_price   cats  \\\n",
       "0       54    10297              12             4.0       749.0  Movie   \n",
       "1       54    10296              12             3.0      1599.0  Movie   \n",
       "2       54    10298              12            14.0       399.0  Movie   \n",
       "3       54    10300              12             3.0       699.0  Movie   \n",
       "4       54    10284              12             1.0       299.0  Music   \n",
       "\n",
       "   mean_of_item_price_groupby_item_id  mean_of_item_cnt_month_groupby_item_id  \\\n",
       "0                          709.478496                                1.210526   \n",
       "1                         1464.972764                                1.130081   \n",
       "2                          223.781333                                4.821380   \n",
       "3                          519.571884                                2.520833   \n",
       "4                          284.902913                                1.174757   \n",
       "\n",
       "   mean_of_item_price_groupby_shop_id  mean_of_item_cnt_month_groupby_shop_id  \\\n",
       "0                           655.04886                                2.636404   \n",
       "1                           655.04886                                2.636404   \n",
       "2                           655.04886                                2.636404   \n",
       "3                           655.04886                                2.636404   \n",
       "4                           655.04886                                2.636404   \n",
       "\n",
       "                ...                \\\n",
       "0               ...                 \n",
       "1               ...                 \n",
       "2               ...                 \n",
       "3               ...                 \n",
       "4               ...                 \n",
       "\n",
       "   mean_of_item_price_groupby_item_id_12_month_ago  \\\n",
       "0                                       296.188435   \n",
       "1                                       296.188435   \n",
       "2                                       296.188435   \n",
       "3                                       296.188435   \n",
       "4                                       296.188435   \n",
       "\n",
       "   mean_of_item_cnt_month_groupby_item_id_12_month_ago  \\\n",
       "0                                                0.0     \n",
       "1                                                0.0     \n",
       "2                                                0.0     \n",
       "3                                                0.0     \n",
       "4                                                0.0     \n",
       "\n",
       "   mean_of_item_price_groupby_shop_id_12_month_ago  \\\n",
       "0                                       825.151374   \n",
       "1                                       825.151374   \n",
       "2                                       825.151374   \n",
       "3                                       825.151374   \n",
       "4                                       825.151374   \n",
       "\n",
       "   mean_of_item_cnt_month_groupby_shop_id_12_month_ago  \\\n",
       "0                                                0.0     \n",
       "1                                                0.0     \n",
       "2                                                0.0     \n",
       "3                                                0.0     \n",
       "4                                                0.0     \n",
       "\n",
       "   mean_of_item_price_groupby_cats_12_month_ago  \\\n",
       "0                                    372.622621   \n",
       "1                                    372.622621   \n",
       "2                                    372.622621   \n",
       "3                                    372.622621   \n",
       "4                                    372.622621   \n",
       "\n",
       "   mean_of_item_cnt_month_groupby_cats_12_month_ago  \\\n",
       "0                                               0.0   \n",
       "1                                               0.0   \n",
       "2                                               0.0   \n",
       "3                                               0.0   \n",
       "4                                               0.0   \n",
       "\n",
       "   mean_of_item_price_groupby_item_id_shop_id_12_month_ago  \\\n",
       "0                                              299.0         \n",
       "1                                              299.0         \n",
       "2                                              299.0         \n",
       "3                                              299.0         \n",
       "4                                              299.0         \n",
       "\n",
       "   mean_of_item_cnt_month_groupby_item_id_shop_id_12_month_ago  \\\n",
       "0                                                0.0             \n",
       "1                                                0.0             \n",
       "2                                                0.0             \n",
       "3                                                0.0             \n",
       "4                                                0.0             \n",
       "\n",
       "   diff_between_item_shop_and_item  diff_between_item_and_category  \n",
       "0                        39.521504                      368.968628  \n",
       "1                        62.185807                     1124.462896  \n",
       "2                        12.277491                     -116.728536  \n",
       "3                       -18.620813                      179.062016  \n",
       "4                        14.097087                      -87.719709  \n",
       "\n",
       "[5 rows x 76 columns]"
      ]
     },
     "execution_count": 74,
     "metadata": {},
     "output_type": "execute_result"
    }
   ],
   "source": [
    "train_df.head()"
   ]
  },
  {
   "cell_type": "code",
   "execution_count": 75,
   "metadata": {
    "collapsed": true
   },
   "outputs": [],
   "source": [
    "params = {\n",
    "        'eta': 0.08, #best 0.08\n",
    "        'max_depth': 7,\n",
    "        'objective': 'reg:linear',\n",
    "        'eval_metric': 'rmse',\n",
    "        'seed': 3,\n",
    "        'gamma':1,\n",
    "        'silent': True\n",
    "    }"
   ]
  },
  {
   "cell_type": "code",
   "execution_count": 76,
   "metadata": {
    "collapsed": true
   },
   "outputs": [],
   "source": [
    "X_test = test_df[features]"
   ]
  },
  {
   "cell_type": "code",
   "execution_count": 77,
   "metadata": {
    "collapsed": false
   },
   "outputs": [
    {
     "name": "stdout",
     "output_type": "stream",
     "text": [
      "[0]\ttrain-rmse:1.15492\tvalidation-rmse:1.10793\n",
      "Multiple eval metrics have been passed: 'validation-rmse' will be used for early stopping.\n",
      "\n",
      "Will train until validation-rmse hasn't improved in 50 rounds.\n",
      "[5]\ttrain-rmse:0.972058\tvalidation-rmse:0.924231\n",
      "[10]\ttrain-rmse:0.87805\tvalidation-rmse:0.839715\n",
      "[15]\ttrain-rmse:0.823896\tvalidation-rmse:0.798597\n",
      "[20]\ttrain-rmse:0.796545\tvalidation-rmse:0.779291\n",
      "[25]\ttrain-rmse:0.778307\tvalidation-rmse:0.768394\n",
      "[30]\ttrain-rmse:0.766018\tvalidation-rmse:0.761541\n",
      "[35]\ttrain-rmse:0.756882\tvalidation-rmse:0.752172\n",
      "[40]\ttrain-rmse:0.750681\tvalidation-rmse:0.748152\n",
      "[45]\ttrain-rmse:0.745364\tvalidation-rmse:0.745806\n",
      "[50]\ttrain-rmse:0.741689\tvalidation-rmse:0.746092\n",
      "[55]\ttrain-rmse:0.737687\tvalidation-rmse:0.746165\n",
      "[60]\ttrain-rmse:0.733751\tvalidation-rmse:0.74752\n",
      "[65]\ttrain-rmse:0.731123\tvalidation-rmse:0.746142\n",
      "[70]\ttrain-rmse:0.728324\tvalidation-rmse:0.746596\n",
      "[75]\ttrain-rmse:0.72592\tvalidation-rmse:0.745586\n",
      "[80]\ttrain-rmse:0.723336\tvalidation-rmse:0.745008\n",
      "[85]\ttrain-rmse:0.720615\tvalidation-rmse:0.74488\n",
      "[90]\ttrain-rmse:0.718678\tvalidation-rmse:0.744123\n",
      "[95]\ttrain-rmse:0.717235\tvalidation-rmse:0.743537\n",
      "[100]\ttrain-rmse:0.71586\tvalidation-rmse:0.743295\n",
      "[105]\ttrain-rmse:0.714311\tvalidation-rmse:0.743363\n",
      "[110]\ttrain-rmse:0.712981\tvalidation-rmse:0.743582\n",
      "[115]\ttrain-rmse:0.711162\tvalidation-rmse:0.744138\n",
      "[120]\ttrain-rmse:0.709969\tvalidation-rmse:0.744057\n",
      "[125]\ttrain-rmse:0.708775\tvalidation-rmse:0.744434\n",
      "[130]\ttrain-rmse:0.707432\tvalidation-rmse:0.745019\n",
      "[135]\ttrain-rmse:0.706014\tvalidation-rmse:0.745501\n",
      "[140]\ttrain-rmse:0.70471\tvalidation-rmse:0.74562\n",
      "[145]\ttrain-rmse:0.703787\tvalidation-rmse:0.745825\n",
      "[150]\ttrain-rmse:0.702497\tvalidation-rmse:0.74577\n",
      "Stopping. Best iteration:\n",
      "[104]\ttrain-rmse:0.714601\tvalidation-rmse:0.74308\n",
      "\n"
     ]
    }
   ],
   "source": [
    "watchlist = [\n",
    "    (xgb.DMatrix(X_train, y_train), 'train'),\n",
    "    (xgb.DMatrix(X_validation, y_validation), 'validation')\n",
    "]\n",
    "model = xgb.train(params, xgb.DMatrix(X_train, y_train), 500,  watchlist, maximize=False, verbose_eval=5, early_stopping_rounds=50)"
   ]
  },
  {
   "cell_type": "code",
   "execution_count": 78,
   "metadata": {
    "collapsed": false
   },
   "outputs": [
    {
     "name": "stderr",
     "output_type": "stream",
     "text": [
      "/usr/local/lib/python3.6/site-packages/ipykernel_launcher.py:2: SettingWithCopyWarning: \n",
      "A value is trying to be set on a copy of a slice from a DataFrame.\n",
      "Try using .loc[row_indexer,col_indexer] = value instead\n",
      "\n",
      "See the caveats in the documentation: http://pandas.pydata.org/pandas-docs/stable/indexing.html#indexing-view-versus-copy\n",
      "  \n"
     ]
    }
   ],
   "source": [
    "pred = model.predict(xgb.DMatrix(X_test), ntree_limit=model.best_ntree_limit)\n",
    "test_df['item_cnt_month'] = pred.clip(0, 40)\n",
    "test_df[['ID', 'item_cnt_month']].to_csv('xgboost_submission.csv', index=False)"
   ]
  },
  {
   "cell_type": "code",
   "execution_count": 79,
   "metadata": {
    "collapsed": false
   },
   "outputs": [
    {
     "data": {
      "text/html": [
       "<div>\n",
       "<style scoped>\n",
       "    .dataframe tbody tr th:only-of-type {\n",
       "        vertical-align: middle;\n",
       "    }\n",
       "\n",
       "    .dataframe tbody tr th {\n",
       "        vertical-align: top;\n",
       "    }\n",
       "\n",
       "    .dataframe thead th {\n",
       "        text-align: right;\n",
       "    }\n",
       "</style>\n",
       "<table border=\"1\" class=\"dataframe\">\n",
       "  <thead>\n",
       "    <tr style=\"text-align: right;\">\n",
       "      <th></th>\n",
       "      <th>ID</th>\n",
       "      <th>mean_of_item_price_groupby_item_id</th>\n",
       "      <th>mean_of_item_cnt_month_groupby_item_id</th>\n",
       "      <th>mean_of_item_price_groupby_shop_id</th>\n",
       "      <th>mean_of_item_cnt_month_groupby_shop_id</th>\n",
       "      <th>mean_of_item_price_groupby_cats</th>\n",
       "      <th>mean_of_item_cnt_month_groupby_cats</th>\n",
       "      <th>mean_of_item_price_groupby_item_id_shop_id</th>\n",
       "      <th>mean_of_item_cnt_month_groupby_item_id_shop_id</th>\n",
       "      <th>item_cnt_month_1_month_ago</th>\n",
       "      <th>...</th>\n",
       "      <th>mean_of_item_cnt_month_groupby_item_id_12_month_ago</th>\n",
       "      <th>mean_of_item_price_groupby_shop_id_12_month_ago</th>\n",
       "      <th>mean_of_item_cnt_month_groupby_shop_id_12_month_ago</th>\n",
       "      <th>mean_of_item_price_groupby_cats_12_month_ago</th>\n",
       "      <th>mean_of_item_cnt_month_groupby_cats_12_month_ago</th>\n",
       "      <th>mean_of_item_price_groupby_item_id_shop_id_12_month_ago</th>\n",
       "      <th>mean_of_item_cnt_month_groupby_item_id_shop_id_12_month_ago</th>\n",
       "      <th>diff_between_item_shop_and_item</th>\n",
       "      <th>diff_between_item_and_category</th>\n",
       "      <th>item_cnt_month</th>\n",
       "    </tr>\n",
       "  </thead>\n",
       "  <tbody>\n",
       "    <tr>\n",
       "      <th>0</th>\n",
       "      <td>0</td>\n",
       "      <td>1960.580473</td>\n",
       "      <td>2.873303</td>\n",
       "      <td>804.758232</td>\n",
       "      <td>1.773768</td>\n",
       "      <td>1537.789180</td>\n",
       "      <td>2.633343</td>\n",
       "      <td>1693.518519</td>\n",
       "      <td>1.444444</td>\n",
       "      <td>0.0</td>\n",
       "      <td>...</td>\n",
       "      <td>2.873303</td>\n",
       "      <td>804.758232</td>\n",
       "      <td>1.773768</td>\n",
       "      <td>1537.789180</td>\n",
       "      <td>2.633343</td>\n",
       "      <td>1693.518519</td>\n",
       "      <td>1.444444</td>\n",
       "      <td>-267.061955</td>\n",
       "      <td>422.791294</td>\n",
       "      <td>0.671905</td>\n",
       "    </tr>\n",
       "    <tr>\n",
       "      <th>1</th>\n",
       "      <td>1</td>\n",
       "      <td>372.622621</td>\n",
       "      <td>1.379644</td>\n",
       "      <td>804.758232</td>\n",
       "      <td>1.773768</td>\n",
       "      <td>372.622621</td>\n",
       "      <td>1.379644</td>\n",
       "      <td>372.622621</td>\n",
       "      <td>1.379644</td>\n",
       "      <td>0.0</td>\n",
       "      <td>...</td>\n",
       "      <td>0.000000</td>\n",
       "      <td>830.860711</td>\n",
       "      <td>0.000000</td>\n",
       "      <td>372.622621</td>\n",
       "      <td>0.000000</td>\n",
       "      <td>399.000000</td>\n",
       "      <td>0.000000</td>\n",
       "      <td>0.000000</td>\n",
       "      <td>0.000000</td>\n",
       "      <td>0.007018</td>\n",
       "    </tr>\n",
       "    <tr>\n",
       "      <th>2</th>\n",
       "      <td>2</td>\n",
       "      <td>844.516003</td>\n",
       "      <td>2.668421</td>\n",
       "      <td>804.758232</td>\n",
       "      <td>1.773768</td>\n",
       "      <td>1537.789180</td>\n",
       "      <td>2.633343</td>\n",
       "      <td>859.000000</td>\n",
       "      <td>2.000000</td>\n",
       "      <td>1.0</td>\n",
       "      <td>...</td>\n",
       "      <td>0.000000</td>\n",
       "      <td>830.860711</td>\n",
       "      <td>0.000000</td>\n",
       "      <td>372.622621</td>\n",
       "      <td>0.000000</td>\n",
       "      <td>399.000000</td>\n",
       "      <td>0.000000</td>\n",
       "      <td>14.483997</td>\n",
       "      <td>-693.273177</td>\n",
       "      <td>1.067947</td>\n",
       "    </tr>\n",
       "    <tr>\n",
       "      <th>3</th>\n",
       "      <td>3</td>\n",
       "      <td>792.527697</td>\n",
       "      <td>1.855263</td>\n",
       "      <td>804.758232</td>\n",
       "      <td>1.773768</td>\n",
       "      <td>1537.789180</td>\n",
       "      <td>2.633343</td>\n",
       "      <td>599.000000</td>\n",
       "      <td>1.000000</td>\n",
       "      <td>0.0</td>\n",
       "      <td>...</td>\n",
       "      <td>0.000000</td>\n",
       "      <td>830.860711</td>\n",
       "      <td>0.000000</td>\n",
       "      <td>372.622621</td>\n",
       "      <td>0.000000</td>\n",
       "      <td>399.000000</td>\n",
       "      <td>0.000000</td>\n",
       "      <td>-193.527697</td>\n",
       "      <td>-745.261482</td>\n",
       "      <td>0.258787</td>\n",
       "    </tr>\n",
       "    <tr>\n",
       "      <th>4</th>\n",
       "      <td>4</td>\n",
       "      <td>1537.789180</td>\n",
       "      <td>2.633343</td>\n",
       "      <td>804.758232</td>\n",
       "      <td>1.773768</td>\n",
       "      <td>1537.789180</td>\n",
       "      <td>2.633343</td>\n",
       "      <td>1537.789180</td>\n",
       "      <td>2.633343</td>\n",
       "      <td>0.0</td>\n",
       "      <td>...</td>\n",
       "      <td>0.000000</td>\n",
       "      <td>830.860711</td>\n",
       "      <td>0.000000</td>\n",
       "      <td>372.622621</td>\n",
       "      <td>0.000000</td>\n",
       "      <td>399.000000</td>\n",
       "      <td>0.000000</td>\n",
       "      <td>0.000000</td>\n",
       "      <td>0.000000</td>\n",
       "      <td>0.091715</td>\n",
       "    </tr>\n",
       "  </tbody>\n",
       "</table>\n",
       "<p>5 rows × 72 columns</p>\n",
       "</div>"
      ],
      "text/plain": [
       "   ID  mean_of_item_price_groupby_item_id  \\\n",
       "0   0                         1960.580473   \n",
       "1   1                          372.622621   \n",
       "2   2                          844.516003   \n",
       "3   3                          792.527697   \n",
       "4   4                         1537.789180   \n",
       "\n",
       "   mean_of_item_cnt_month_groupby_item_id  mean_of_item_price_groupby_shop_id  \\\n",
       "0                                2.873303                          804.758232   \n",
       "1                                1.379644                          804.758232   \n",
       "2                                2.668421                          804.758232   \n",
       "3                                1.855263                          804.758232   \n",
       "4                                2.633343                          804.758232   \n",
       "\n",
       "   mean_of_item_cnt_month_groupby_shop_id  mean_of_item_price_groupby_cats  \\\n",
       "0                                1.773768                      1537.789180   \n",
       "1                                1.773768                       372.622621   \n",
       "2                                1.773768                      1537.789180   \n",
       "3                                1.773768                      1537.789180   \n",
       "4                                1.773768                      1537.789180   \n",
       "\n",
       "   mean_of_item_cnt_month_groupby_cats  \\\n",
       "0                             2.633343   \n",
       "1                             1.379644   \n",
       "2                             2.633343   \n",
       "3                             2.633343   \n",
       "4                             2.633343   \n",
       "\n",
       "   mean_of_item_price_groupby_item_id_shop_id  \\\n",
       "0                                 1693.518519   \n",
       "1                                  372.622621   \n",
       "2                                  859.000000   \n",
       "3                                  599.000000   \n",
       "4                                 1537.789180   \n",
       "\n",
       "   mean_of_item_cnt_month_groupby_item_id_shop_id  item_cnt_month_1_month_ago  \\\n",
       "0                                        1.444444                         0.0   \n",
       "1                                        1.379644                         0.0   \n",
       "2                                        2.000000                         1.0   \n",
       "3                                        1.000000                         0.0   \n",
       "4                                        2.633343                         0.0   \n",
       "\n",
       "        ...        mean_of_item_cnt_month_groupby_item_id_12_month_ago  \\\n",
       "0       ...                                                 2.873303     \n",
       "1       ...                                                 0.000000     \n",
       "2       ...                                                 0.000000     \n",
       "3       ...                                                 0.000000     \n",
       "4       ...                                                 0.000000     \n",
       "\n",
       "   mean_of_item_price_groupby_shop_id_12_month_ago  \\\n",
       "0                                       804.758232   \n",
       "1                                       830.860711   \n",
       "2                                       830.860711   \n",
       "3                                       830.860711   \n",
       "4                                       830.860711   \n",
       "\n",
       "   mean_of_item_cnt_month_groupby_shop_id_12_month_ago  \\\n",
       "0                                           1.773768     \n",
       "1                                           0.000000     \n",
       "2                                           0.000000     \n",
       "3                                           0.000000     \n",
       "4                                           0.000000     \n",
       "\n",
       "   mean_of_item_price_groupby_cats_12_month_ago  \\\n",
       "0                                   1537.789180   \n",
       "1                                    372.622621   \n",
       "2                                    372.622621   \n",
       "3                                    372.622621   \n",
       "4                                    372.622621   \n",
       "\n",
       "   mean_of_item_cnt_month_groupby_cats_12_month_ago  \\\n",
       "0                                          2.633343   \n",
       "1                                          0.000000   \n",
       "2                                          0.000000   \n",
       "3                                          0.000000   \n",
       "4                                          0.000000   \n",
       "\n",
       "   mean_of_item_price_groupby_item_id_shop_id_12_month_ago  \\\n",
       "0                                        1693.518519         \n",
       "1                                         399.000000         \n",
       "2                                         399.000000         \n",
       "3                                         399.000000         \n",
       "4                                         399.000000         \n",
       "\n",
       "   mean_of_item_cnt_month_groupby_item_id_shop_id_12_month_ago  \\\n",
       "0                                           1.444444             \n",
       "1                                           0.000000             \n",
       "2                                           0.000000             \n",
       "3                                           0.000000             \n",
       "4                                           0.000000             \n",
       "\n",
       "   diff_between_item_shop_and_item  diff_between_item_and_category  \\\n",
       "0                      -267.061955                      422.791294   \n",
       "1                         0.000000                        0.000000   \n",
       "2                        14.483997                     -693.273177   \n",
       "3                      -193.527697                     -745.261482   \n",
       "4                         0.000000                        0.000000   \n",
       "\n",
       "   item_cnt_month  \n",
       "0        0.671905  \n",
       "1        0.007018  \n",
       "2        1.067947  \n",
       "3        0.258787  \n",
       "4        0.091715  \n",
       "\n",
       "[5 rows x 72 columns]"
      ]
     },
     "execution_count": 79,
     "metadata": {},
     "output_type": "execute_result"
    }
   ],
   "source": [
    "test_df.head()"
   ]
  },
  {
   "cell_type": "markdown",
   "metadata": {},
   "source": [
    "## Neural Network (not used in final submission)"
   ]
  },
  {
   "cell_type": "code",
   "execution_count": null,
   "metadata": {
    "collapsed": true
   },
   "outputs": [],
   "source": [
    "import keras\n",
    "from keras.models import Sequential\n",
    "import keras.layers as ll\n",
    "from keras import metrics"
   ]
  },
  {
   "cell_type": "code",
   "execution_count": null,
   "metadata": {
    "collapsed": true
   },
   "outputs": [],
   "source": [
    "model = Sequential(name=\"mlp\")\n",
    "\n",
    "model.add(ll.InputLayer([20]))\n",
    "# network body\n",
    "model.add(ll.Dense(32))\n",
    "model.add(ll.Activation('relu'))\n",
    "model.add(ll.Dropout(0.5))\n",
    "model.add(ll.Dense(32))\n",
    "model.add(ll.Activation('relu'))\n",
    "model.add(ll.Dense(1))\n",
    "model.add(ll.Activation('relu'))\n",
    "model.compile(loss='mean_squared_error', optimizer='adam', metrics=[metrics.mse])"
   ]
  },
  {
   "cell_type": "code",
   "execution_count": null,
   "metadata": {
    "collapsed": true
   },
   "outputs": [],
   "source": [
    "model.summary()"
   ]
  },
  {
   "cell_type": "code",
   "execution_count": null,
   "metadata": {
    "collapsed": true
   },
   "outputs": [],
   "source": [
    "model.fit(X_train.values, y_train.values,\n",
    "          validation_data=(X_validation.values, y_validation.values), epochs=5)"
   ]
  },
  {
   "cell_type": "markdown",
   "metadata": {},
   "source": [
    "## Stacking (takes a long time to run)"
   ]
  },
  {
   "cell_type": "code",
   "execution_count": null,
   "metadata": {
    "collapsed": true
   },
   "outputs": [],
   "source": [
    "X_train_new = X_train.copy()\n",
    "X_validation_new = X_validation.copy()\n",
    "X_test_new = X_test.copy()"
   ]
  },
  {
   "cell_type": "markdown",
   "metadata": {},
   "source": [
    "Train three xgboost model with different params"
   ]
  },
  {
   "cell_type": "code",
   "execution_count": null,
   "metadata": {
    "collapsed": true
   },
   "outputs": [],
   "source": [
    "params1 = {\n",
    "        'eta': 0.08, #best 0.08\n",
    "        'max_depth': 7,\n",
    "        'objective': 'reg:linear',\n",
    "        'eval_metric': 'rmse',\n",
    "        'seed': 3,\n",
    "        'gamma':1,\n",
    "        'silent': True\n",
    "    }"
   ]
  },
  {
   "cell_type": "code",
   "execution_count": null,
   "metadata": {
    "collapsed": true
   },
   "outputs": [],
   "source": [
    "params2 = {\n",
    "        'eta': 0.08, #best 0.08\n",
    "        'max_depth': 8,\n",
    "        'objective': 'reg:linear',\n",
    "        'eval_metric': 'rmse',\n",
    "        'seed': 4,\n",
    "        'gamma':1,\n",
    "        'silent': True\n",
    "    }"
   ]
  },
  {
   "cell_type": "code",
   "execution_count": null,
   "metadata": {
    "collapsed": true
   },
   "outputs": [],
   "source": [
    "params3 = {\n",
    "        'eta': 0.08, #best 0.08\n",
    "        'max_depth': 6,\n",
    "        'objective': 'reg:linear',\n",
    "        'eval_metric': 'rmse',\n",
    "        'seed': 5,\n",
    "        'gamma':1,\n",
    "        'silent': True\n",
    "    }"
   ]
  },
  {
   "cell_type": "code",
   "execution_count": null,
   "metadata": {
    "collapsed": true
   },
   "outputs": [],
   "source": [
    "watchlist = [\n",
    "    (xgb.DMatrix(X_train, y_train), 'train'),\n",
    "    (xgb.DMatrix (X_validation, y_validation), 'validation')\n",
    "]\n",
    "for i, params in enumerate([params1, params2, params3]):\n",
    "    model = xgb.train(params, xgb.DMatrix(X_train, y_train), 500,  watchlist, maximize=False, verbose_eval=50, early_stopping_rounds=50)\n",
    "    X_train_new['xgboost_item_cnt_month_'+str(i)] = model.predict(xgb.DMatrix(X_train), ntree_limit=model.best_ntree_limit)\n",
    "    X_validation_new['xgboost_item_cnt_month_'+str(i)] = model.predict(xgb.DMatrix(X_validation), ntree_limit=model.best_ntree_limit)\n",
    "    X_test_new['xgboost_item_cnt_month_'+str(i)] = model.predict(xgb.DMatrix(X_test), ntree_limit=model.best_ntree_limit)"
   ]
  },
  {
   "cell_type": "code",
   "execution_count": null,
   "metadata": {
    "collapsed": true
   },
   "outputs": [],
   "source": [
    "X_test_new.head(10)"
   ]
  },
  {
   "cell_type": "code",
   "execution_count": null,
   "metadata": {
    "collapsed": true
   },
   "outputs": [],
   "source": [
    "X_train_new.to_csv('./data/X_train_new.csv', index=False)\n",
    "X_validation_new.to_csv('./data/X_validation_new.csv', index=False)\n",
    "X_test_new.to_csv('./data/X_test_new.csv', index=False)"
   ]
  },
  {
   "cell_type": "code",
   "execution_count": null,
   "metadata": {
    "collapsed": true
   },
   "outputs": [],
   "source": [
    "X_train_new = pd.read_csv('./data/X_train_new.csv')\n",
    "X_validation_new = pd.read_csv('./data/X_validation_new.csv')\n",
    "X_test_new = pd.read_csv('./data/X_test_new.csv')"
   ]
  },
  {
   "cell_type": "markdown",
   "metadata": {},
   "source": [
    "Train three knn regressors"
   ]
  },
  {
   "cell_type": "code",
   "execution_count": null,
   "metadata": {
    "collapsed": true
   },
   "outputs": [],
   "source": [
    "from sklearn.preprocessing import MinMaxScaler\n",
    "from sklearn.neighbors import KNeighborsRegressor\n",
    "from sklearn.model_selection import train_test_split\n",
    "X_train_sample, _, y_train_sample, __ = train_test_split(X_train, y_train, train_size=.05, random_state=10)\n",
    "scaler = MinMaxScaler()\n",
    "scaler.fit(X_train_sample)\n",
    "for k in (2, 3, 4):\n",
    "    print(\"Training model \"+str(k))\n",
    "    neigh = KNeighborsRegressor(n_neighbors=k, n_jobs=4, algorithm='kd_tree')\n",
    "    neigh.fit(scaler.transform(X_train_sample), y_train_sample)\n",
    "    print(\"Using \"+str(k)+\" to predict\")\n",
    "    X_train_new[str(k)+'_neighbors'] = neigh.predict(scaler.transform(X_train))\n",
    "    X_validation_new[str(k)+'_neighbors'] = neigh.predict(scaler.transform(X_validation))\n",
    "    X_test_new[str(k)+'_neighbors'] = neigh.predict(scaler.transform(X_test))"
   ]
  },
  {
   "cell_type": "markdown",
   "metadata": {},
   "source": [
    "\n",
    "Train svm regressors (not used)"
   ]
  },
  {
   "cell_type": "code",
   "execution_count": null,
   "metadata": {
    "collapsed": true
   },
   "outputs": [],
   "source": [
    "from sklearn.svm import SVR\n",
    "scaler = MinMaxScaler()\n",
    "X_train_transform = scaler.fit_transform(X_train)\n",
    "X_validation_transform = scaler.transform(X_validation)\n",
    "X_test_transform = scaler.transform(X_test)\n",
    "for kernel in 'poly', 'rbf', 'sigmoid':\n",
    "    clf = SVR(kernel=kernel, max_iter=500)\n",
    "    print(\"Training the \"+kernel+\" model\")\n",
    "    clf.fit(X_train_transform, y_train)\n",
    "    print(\"Using the \"+kernel+\" model to predict\")\n",
    "    X_train_new['svm_'+kernel] = clf.predict(X_train_transform)\n",
    "    X_validation_new['svm_'+kernel] = clf.predict(X_validation_transform)\n",
    "    X_test_new['svm_'+kernel] = clf.predict(X_test_transform)"
   ]
  },
  {
   "cell_type": "code",
   "execution_count": null,
   "metadata": {
    "collapsed": true
   },
   "outputs": [],
   "source": [
    "X_test_new.head(10)"
   ]
  },
  {
   "cell_type": "code",
   "execution_count": null,
   "metadata": {
    "collapsed": true
   },
   "outputs": [],
   "source": [
    "for df in X_train_new, X_validation_new, X_test_new:\n",
    "    df.drop(['svm_poly', 'svm_rbf', 'svm_sigmoid'], axis=1, inplace=True)"
   ]
  },
  {
   "cell_type": "markdown",
   "metadata": {},
   "source": [
    "Use LR to ensemble all models"
   ]
  },
  {
   "cell_type": "code",
   "execution_count": null,
   "metadata": {
    "collapsed": true
   },
   "outputs": [],
   "source": [
    "X_train = X_train_new\n",
    "X_validation = X_validation_new\n",
    "X_test = X_test_new"
   ]
  },
  {
   "cell_type": "code",
   "execution_count": null,
   "metadata": {
    "collapsed": true
   },
   "outputs": [],
   "source": [
    "from sklearn.linear_model import Ridge\n",
    "model = Ridge(alpha=1, copy_X=True, normalize=True, max_iter=1000)\n",
    "model.fit(X_train, y_train)\n",
    "from sklearn.metrics import mean_squared_error\n",
    "print(mean_squared_error(y_validation, model.predict(X_validation)))"
   ]
  },
  {
   "cell_type": "code",
   "execution_count": null,
   "metadata": {
    "collapsed": true
   },
   "outputs": [],
   "source": [
    "pred = model.predict(X_test)\n",
    "test_df['item_cnt_month'] = pred.clip(0, 40)\n",
    "test_df[['ID', 'item_cnt_month']].to_csv('stacking_submission.csv', index=False)"
   ]
  }
 ],
 "metadata": {
  "anaconda-cloud": {},
  "kernelspec": {
   "display_name": "Python [default]",
   "language": "python",
   "name": "python3"
  },
  "language_info": {
   "codemirror_mode": {
    "name": "ipython",
    "version": 3
   },
   "file_extension": ".py",
   "mimetype": "text/x-python",
   "name": "python",
   "nbconvert_exporter": "python",
   "pygments_lexer": "ipython3",
   "version": "3.5.2"
  }
 },
 "nbformat": 4,
 "nbformat_minor": 1
}
